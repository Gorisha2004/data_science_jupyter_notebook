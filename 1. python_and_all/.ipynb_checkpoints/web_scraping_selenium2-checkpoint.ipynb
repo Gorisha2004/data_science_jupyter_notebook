{
 "cells": [
  {
   "cell_type": "code",
   "execution_count": 1,
   "id": "d8614385-8c46-4d95-b567-16d233a7f035",
   "metadata": {},
   "outputs": [],
   "source": [
    "from selenium import webdriver\n",
    "from selenium.webdriver.chrome.service import Service\n",
    "from webdriver_manager.chrome import ChromeDriverManager\n",
    "\n",
    "service = Service(ChromeDriverManager().install())\n",
    "driver = webdriver.Chrome(service=service)"
   ]
  },
  {
   "cell_type": "code",
   "execution_count": 2,
   "id": "e4ed74e8-931e-4aee-84f2-4c70a10b8f8e",
   "metadata": {},
   "outputs": [],
   "source": [
    "from selenium.webdriver.common.by import By"
   ]
  },
  {
   "cell_type": "code",
   "execution_count": 2,
   "id": "1b1a602d-7294-47c0-952f-540b5426bec1",
   "metadata": {},
   "outputs": [],
   "source": [
    "driver.get('https://www.google.com/')"
   ]
  },
  {
   "cell_type": "code",
   "execution_count": 4,
   "id": "99b47a0f-a932-4536-8fe9-933391f73500",
   "metadata": {},
   "outputs": [
    {
     "data": {
      "text/plain": [
       "<selenium.webdriver.remote.webelement.WebElement (session=\"7958705f615bc23bbf5c56599b508aea\", element=\"f.F7450DD682E592FF44BEE108CE442C8C.d.C59F727D81257121974BDFBCE67811FB.e.1\")>"
      ]
     },
     "execution_count": 4,
     "metadata": {},
     "output_type": "execute_result"
    }
   ],
   "source": [
    "text_box = driver.find_element(By.NAME, 'q')\n",
    "text_box"
   ]
  },
  {
   "cell_type": "code",
   "execution_count": 5,
   "id": "17889cef-df33-4262-a40c-120e1d984f6f",
   "metadata": {},
   "outputs": [],
   "source": [
    "text_box.send_keys('selenium')"
   ]
  },
  {
   "cell_type": "code",
   "execution_count": 6,
   "id": "a45bbef8-5a84-4026-905d-096309b08bb7",
   "metadata": {},
   "outputs": [],
   "source": [
    "#submit function will only work in which we have submit type of button.\n",
    "text_box.submit()"
   ]
  },
  {
   "cell_type": "code",
   "execution_count": 17,
   "id": "2da86ff4-be71-4563-8dcf-444938c1a673",
   "metadata": {},
   "outputs": [],
   "source": [
    "driver.get('https://www.google.com/maps')"
   ]
  },
  {
   "cell_type": "code",
   "execution_count": 18,
   "id": "b0507c53-6c8c-40a8-a8f4-d259353c71dd",
   "metadata": {},
   "outputs": [
    {
     "data": {
      "text/plain": [
       "<selenium.webdriver.remote.webelement.WebElement (session=\"0282feb81edd370b35fc0e825ca053d7\", element=\"f.6349741DC7BE741459F5BF8F0FE383DD.d.4820E74745A3E22EEEB786EC6CA6BF29.e.1\")>"
      ]
     },
     "execution_count": 18,
     "metadata": {},
     "output_type": "execute_result"
    }
   ],
   "source": [
    "text_box = driver.find_element(By.NAME, 'q')\n",
    "text_box"
   ]
  },
  {
   "cell_type": "code",
   "execution_count": 19,
   "id": "dea6b2b8-b2b7-4f43-906e-2dfa5aa6cbe2",
   "metadata": {},
   "outputs": [],
   "source": [
    "text_box.send_keys('coding ninjas')"
   ]
  },
  {
   "cell_type": "code",
   "execution_count": 21,
   "id": "11e5f08f-f472-4fc5-825f-79cf35eecc42",
   "metadata": {},
   "outputs": [],
   "source": [
    "driver.find_element(By.CLASS_NAME,'mL3xi').click()"
   ]
  },
  {
   "cell_type": "code",
   "execution_count": 22,
   "id": "9285b90e-1424-483d-8033-08320cac4b03",
   "metadata": {},
   "outputs": [],
   "source": [
    "driver.quit()"
   ]
  },
  {
   "cell_type": "markdown",
   "id": "78fa229a-22d2-4318-a7ca-719d68a19a30",
   "metadata": {},
   "source": [
    "## Assignment"
   ]
  },
  {
   "cell_type": "code",
   "execution_count": 3,
   "id": "151588c4-5c3d-44eb-829a-da8559a3d3a7",
   "metadata": {},
   "outputs": [],
   "source": [
    "driver.get('https://paytm.com/recharge')"
   ]
  },
  {
   "cell_type": "code",
   "execution_count": 9,
   "id": "38698582-017a-4276-aaf4-f7b115e1bdb7",
   "metadata": {},
   "outputs": [],
   "source": [
    "a = driver.find_element(By.XPATH,'//div[@class=\"_1exI\"]/input')"
   ]
  },
  {
   "cell_type": "code",
   "execution_count": 10,
   "id": "0b2efc54-11bb-4875-a150-2900afa10459",
   "metadata": {},
   "outputs": [],
   "source": [
    "a.click()"
   ]
  },
  {
   "cell_type": "code",
   "execution_count": 11,
   "id": "af4c34d8-0bcb-468f-9e39-02b095729439",
   "metadata": {},
   "outputs": [],
   "source": [
    "a.send_keys('Airtel')"
   ]
  },
  {
   "cell_type": "code",
   "execution_count": 7,
   "id": "2bace693-74e3-4cf5-bcd6-864ff487f3f4",
   "metadata": {},
   "outputs": [],
   "source": [
    "a.send_keys('Delhi NCR')"
   ]
  },
  {
   "cell_type": "code",
   "execution_count": 8,
   "id": "f9c7864f-669b-425b-8118-e7d61a4c0136",
   "metadata": {},
   "outputs": [],
   "source": [
    "driver.refresh()"
   ]
  },
  {
   "cell_type": "code",
   "execution_count": null,
   "id": "7994b15a-c043-477b-9316-c817e37a4434",
   "metadata": {},
   "outputs": [],
   "source": []
  }
 ],
 "metadata": {
  "kernelspec": {
   "display_name": "Python 3 (ipykernel)",
   "language": "python",
   "name": "python3"
  },
  "language_info": {
   "codemirror_mode": {
    "name": "ipython",
    "version": 3
   },
   "file_extension": ".py",
   "mimetype": "text/x-python",
   "name": "python",
   "nbconvert_exporter": "python",
   "pygments_lexer": "ipython3",
   "version": "3.12.4"
  }
 },
 "nbformat": 4,
 "nbformat_minor": 5
}
