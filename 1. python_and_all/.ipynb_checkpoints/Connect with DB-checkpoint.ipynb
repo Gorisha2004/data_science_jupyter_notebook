{
 "cells": [
  {
   "cell_type": "code",
   "execution_count": 2,
   "id": "43fc4776-f96e-4a12-b22e-00ecd730d466",
   "metadata": {},
   "outputs": [
    {
     "data": {
      "text/plain": [
       "<sqlite3.Connection at 0x1d3f85ec8b0>"
      ]
     },
     "execution_count": 2,
     "metadata": {},
     "output_type": "execute_result"
    }
   ],
   "source": [
    "import sqlite3\n",
    "\n",
    "db = sqlite3.connect('IMDB.sqlite')\n",
    "db"
   ]
  },
  {
   "cell_type": "code",
   "execution_count": 4,
   "id": "94499604-9d4d-4648-a3d2-72dc8f9863ce",
   "metadata": {},
   "outputs": [
    {
     "data": {
      "text/plain": [
       "<sqlite3.Connection at 0x1d3f85ed030>"
      ]
     },
     "execution_count": 4,
     "metadata": {},
     "output_type": "execute_result"
    }
   ],
   "source": [
    "db = sqlite3.connect('School.sqlite')\n",
    "db"
   ]
  },
  {
   "cell_type": "code",
   "execution_count": 1,
   "id": "10f928c9-8ab7-4215-80cd-1f8a0adf3950",
   "metadata": {},
   "outputs": [],
   "source": [
    "import sqlite3"
   ]
  },
  {
   "cell_type": "code",
   "execution_count": null,
   "id": "e5521ded-c9de-4755-b58b-c3959b91f044",
   "metadata": {},
   "outputs": [],
   "source": []
  }
 ],
 "metadata": {
  "kernelspec": {
   "display_name": "Python 3 (ipykernel)",
   "language": "python",
   "name": "python3"
  },
  "language_info": {
   "codemirror_mode": {
    "name": "ipython",
    "version": 3
   },
   "file_extension": ".py",
   "mimetype": "text/x-python",
   "name": "python",
   "nbconvert_exporter": "python",
   "pygments_lexer": "ipython3",
   "version": "3.12.4"
  }
 },
 "nbformat": 4,
 "nbformat_minor": 5
}
