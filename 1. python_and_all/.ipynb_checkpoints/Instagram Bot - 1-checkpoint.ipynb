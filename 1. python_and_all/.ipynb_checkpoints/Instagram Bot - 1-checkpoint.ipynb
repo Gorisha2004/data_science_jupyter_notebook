{
 "cells": [
  {
   "cell_type": "code",
   "execution_count": 5,
   "id": "01c31163-3f1c-4650-9a2f-1b2f2bae6381",
   "metadata": {},
   "outputs": [],
   "source": [
    "import selenium\n",
    "from selenium import webdriver\n",
    "from selenium.common.exceptions import NoSuchElementException\n",
    "from selenium.webdriver.common.keys import Keys \n",
    "from selenium.webdriver.support.ui import WebDriverWait\n",
    "from selenium.webdriver.support import expected_conditions as EC\n",
    "from selenium.webdriver.common.by import By\n",
    "from bs4 import BeautifulSoup as bsp\n",
    "import bs4\n",
    "import time\n",
    "import pandas as pd\n",
    "from selenium.webdriver.common.by import By\n",
    "from selenium.webdriver.chrome.service import Service\n",
    "from webdriver_manager.chrome import ChromeDriverManager"
   ]
  },
  {
   "cell_type": "code",
   "execution_count": 2,
   "id": "250f8b67-6599-4fe6-82ce-a67f36b1b409",
   "metadata": {},
   "outputs": [],
   "source": [
    "username = \"gorisha_2210\"\n",
    "password = \"Gorisha@2210\""
   ]
  },
  {
   "cell_type": "code",
   "execution_count": 6,
   "id": "b4336d66-53ae-4593-8ba5-ea202f4beb52",
   "metadata": {},
   "outputs": [],
   "source": [
    "service = Service(ChromeDriverManager().install())\n",
    "driver = webdriver.Chrome(service = service)"
   ]
  },
  {
   "cell_type": "code",
   "execution_count": 7,
   "id": "207cc881-941e-40cf-a0ac-d36c79a48de2",
   "metadata": {},
   "outputs": [],
   "source": [
    "driver.get(\"https://www.instagram.com/\")"
   ]
  },
  {
   "cell_type": "code",
   "execution_count": 14,
   "id": "fc477a56-8c06-406f-ad24-210b92f205eb",
   "metadata": {},
   "outputs": [],
   "source": [
    "def log_in_to_account(driver, username, password):\n",
    "    \n",
    "    login = True\n",
    "    \n",
    "    wait = WebDriverWait(driver, 10)  ## explicit wait\n",
    "    \n",
    "    try:\n",
    "        ## move to login page\n",
    "        log_in_path = '//p[@class = \"izU2O\"]//a'\n",
    "        log_in = wait.until(EC.element_to_be_clickable((By.XPATH,log_in_path)))\n",
    "        log_in.click()\n",
    "\n",
    "        time.sleep(3)   ## waiting for website to switch\n",
    "\n",
    "        ## enter username\n",
    "        username_ = wait.until(EC.presence_of_element_located((By.NAME,\"username\")))\n",
    "        username_.send_keys(username)\n",
    "\n",
    "        ## enter password\n",
    "        password_ = wait.until(EC.presence_of_element_located((By.NAME,\"password\")))\n",
    "        password_.send_keys(password)\n",
    "\n",
    "        ## click login\n",
    "        log_in_path = '//button[contains(@class, \"sqdOP\")]'\n",
    "        log_in = wait.until(EC.presence_of_element_located((By.XPATH,log_in_path)))\n",
    "        log_in.submit()\n",
    "\n",
    "        time.sleep(3)  ## waiting for website to switch\n",
    "        \n",
    "    except Exception:\n",
    "        login = False\n",
    "        \n",
    "    if login:\n",
    "        remove_notification(driver, wait)\n",
    "    \n",
    "    return login\n",
    "\n",
    "def remove_notification(driver, wait):\n",
    "    ## Notifination popup setting up not now, if occur\n",
    "    try:\n",
    "        popup_path = '//button[contains(@class, \"HoLwm\")]'\n",
    "        not_now_btn = wait.until(EC.element_to_be_clickable((By.XPATH,popup_path)))\n",
    "        not_now_btn.click()\n",
    "    except NoSuchElementException:\n",
    "        print(\"No Notification Pop up occur\")"
   ]
  },
  {
   "cell_type": "code",
   "execution_count": 15,
   "id": "8d181557-3c5c-41de-92ec-600f470453c6",
   "metadata": {},
   "outputs": [
    {
     "name": "stdout",
     "output_type": "stream",
     "text": [
      "login is unsuccessful, give one more try\n"
     ]
    }
   ],
   "source": [
    "login = log_in_to_account(driver, username, password)\n",
    "if login:\n",
    "    print(\"log in successfully\")\n",
    "else:\n",
    "    print(\"login is unsuccessful, give one more try\")"
   ]
  },
  {
   "cell_type": "code",
   "execution_count": null,
   "id": "71dcd093-dce4-475f-a6b1-31bc2cf76032",
   "metadata": {},
   "outputs": [],
   "source": []
  }
 ],
 "metadata": {
  "kernelspec": {
   "display_name": "Python 3 (ipykernel)",
   "language": "python",
   "name": "python3"
  },
  "language_info": {
   "codemirror_mode": {
    "name": "ipython",
    "version": 3
   },
   "file_extension": ".py",
   "mimetype": "text/x-python",
   "name": "python",
   "nbconvert_exporter": "python",
   "pygments_lexer": "ipython3",
   "version": "3.12.4"
  }
 },
 "nbformat": 4,
 "nbformat_minor": 5
}
