{
 "cells": [
  {
   "cell_type": "code",
   "execution_count": 1,
   "id": "01c31163-3f1c-4650-9a2f-1b2f2bae6381",
   "metadata": {},
   "outputs": [],
   "source": [
    "from time import sleep\n",
    "from bs4 import BeautifulSoup\n",
    "from selenium import webdriver\n",
    "from selenium.webdriver.common.by import By\n",
    "from selenium.webdriver.support.ui import WebDriverWait\n",
    "from selenium.webdriver.support import expected_conditions as EC\n",
    "from selenium.common.exceptions import TimeoutException\n",
    "from IPython.display import Video\n",
    "from selenium.webdriver.chrome.service import Service\n",
    "from webdriver_manager.chrome import ChromeDriverManager"
   ]
  },
  {
   "cell_type": "code",
   "execution_count": 2,
   "id": "250f8b67-6599-4fe6-82ce-a67f36b1b409",
   "metadata": {},
   "outputs": [],
   "source": [
    "username = \"gorisha_2210\"\n",
    "password = \"Gorisha@2210\""
   ]
  },
  {
   "cell_type": "code",
   "execution_count": 3,
   "id": "b4336d66-53ae-4593-8ba5-ea202f4beb52",
   "metadata": {},
   "outputs": [],
   "source": [
    "service = Service(ChromeDriverManager().install())\n",
    "driver = webdriver.Chrome(service = service)"
   ]
  },
  {
   "cell_type": "code",
   "execution_count": 4,
   "id": "207cc881-941e-40cf-a0ac-d36c79a48de2",
   "metadata": {},
   "outputs": [],
   "source": [
    "driver.get(\"https://www.instagram.com/\")"
   ]
  },
  {
   "cell_type": "code",
   "execution_count": 13,
   "id": "71dcd093-dce4-475f-a6b1-31bc2cf76032",
   "metadata": {},
   "outputs": [],
   "source": [
    "wait = WebDriverWait(driver, 20)"
   ]
  },
  {
   "cell_type": "code",
   "execution_count": 6,
   "id": "eb79d990-fe60-46cd-b5a3-9cb2ad5e743e",
   "metadata": {},
   "outputs": [],
   "source": [
    "def Login_To_Insta(userName, Password):\n",
    "    try:\n",
    "          # Locating Username TextBox then enter username\n",
    "        wait.until(EC.presence_of_element_located((By.NAME, 'username'))).send_keys(username)\n",
    "                # Locating Password TextBox then enter password\n",
    "        wait.until(EC.presence_of_element_located((By.NAME,'password'))).send_keys(Password)\n",
    "                # Locating Login Button then submit it\n",
    "        login_button = wait.until(EC.element_to_be_clickable((By.CSS_SELECTOR, 'div.x9f619.xjbqb8w button[type=\"submit\"]')))\n",
    "        login_button.click()\n",
    "\n",
    "\n",
    "        print(\"Login button clicked successfully!\")\n",
    "    except TimeoutException:\n",
    "        print(\"Something Went Wrong!\")"
   ]
  },
  {
   "cell_type": "code",
   "execution_count": 7,
   "id": "61b308ed-9f33-4b10-8915-9c92b7787c13",
   "metadata": {},
   "outputs": [
    {
     "name": "stdout",
     "output_type": "stream",
     "text": [
      "Login button clicked successfully!\n"
     ]
    }
   ],
   "source": [
    "Login_To_Insta(username,password)"
   ]
  },
  {
   "cell_type": "code",
   "execution_count": 30,
   "id": "05bcf359-ffa2-4d88-9b1b-02031bac7f0b",
   "metadata": {},
   "outputs": [],
   "source": [
    "import time\n",
    "def Search(string):\n",
    "    try:\n",
    "        time.sleep(2)\n",
    "        wait.until(EC.element_to_be_clickable((By.XPATH, \"//div[contains(@class, 'x1n2onr6')]\"))).click()\n",
    "        print(\"hello1\")\n",
    "        wait.until(EC.presence_of_element_located((By.XPATH, \"//input[contains(@class, 'x1lugfcp')]\"))).send_keys(string)\n",
    "        print(\"hello2\")\n",
    "        data = wait.until(EC.presence_of_all_elements_located((By.XPATH, \"//div[contains(@class, 'x9f619')]\")))\n",
    "        print(\"hello3\")\n",
    "        for i in data:\n",
    "            if i.text and i.text[0] != '#':\n",
    "                print(i.text.split('\\n')[0])\n",
    "        print(\"hello4\")\n",
    "        sleep(6)\n",
    "    except TimeoutException:\n",
    "        print(\"Something Went Wrong!\")\n"
   ]
  },
  {
   "cell_type": "code",
   "execution_count": 31,
   "id": "91a9c5ff-717a-483c-b3d1-251781219ecb",
   "metadata": {},
   "outputs": [
    {
     "name": "stdout",
     "output_type": "stream",
     "text": [
      "hello1\n",
      "Something Went Wrong!\n"
     ]
    }
   ],
   "source": [
    "Search('food')"
   ]
  },
  {
   "cell_type": "code",
   "execution_count": 10,
   "id": "787555ba-9e0b-44e1-bca5-e0fa91091cdc",
   "metadata": {},
   "outputs": [],
   "source": [
    " # driver.quit()"
   ]
  },
  {
   "cell_type": "code",
   "execution_count": null,
   "id": "739ad335-ea0d-49d9-a1ad-1531192693a0",
   "metadata": {},
   "outputs": [],
   "source": []
  }
 ],
 "metadata": {
  "kernelspec": {
   "display_name": "Python 3 (ipykernel)",
   "language": "python",
   "name": "python3"
  },
  "language_info": {
   "codemirror_mode": {
    "name": "ipython",
    "version": 3
   },
   "file_extension": ".py",
   "mimetype": "text/x-python",
   "name": "python",
   "nbconvert_exporter": "python",
   "pygments_lexer": "ipython3",
   "version": "3.12.4"
  }
 },
 "nbformat": 4,
 "nbformat_minor": 5
}
