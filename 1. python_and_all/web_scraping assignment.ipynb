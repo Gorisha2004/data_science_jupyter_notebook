{
 "cells": [
  {
   "cell_type": "code",
   "execution_count": 8,
   "id": "030518c4-c5c1-40f0-820b-fb74ea346ae2",
   "metadata": {},
   "outputs": [],
   "source": [
    "import requests\n",
    "from bs4 import BeautifulSoup\n",
    "response = requests.get('https://www.imdb.com/search/title/?release_date=2018-01-01,2018-12-31&sort=num_votes,desc')\n",
    "html_data = response.text\n",
    "data = BeautifulSoup (html_data, 'html.parser')"
   ]
  },
  {
   "cell_type": "code",
   "execution_count": 9,
   "id": "c5e6eb5d-afc9-4c0d-9956-c6f96d1d966a",
   "metadata": {},
   "outputs": [],
   "source": [
    "page = data.find_all('div', {'class': 'lister-item mode-advanced'})[:3]\n",
    "for i in page:\n",
    "    temp = i.p.find('span', {'class': 'genre'})\n",
    "    print(i.h3.a.string, \" : \" , *temp.string.split())"
   ]
  },
  {
   "cell_type": "code",
   "execution_count": 16,
   "id": "e9bfb267-276d-4728-90f2-1c4ef09585a3",
   "metadata": {},
   "outputs": [
    {
     "name": "stdout",
     "output_type": "stream",
     "text": [
      "<Response [403]>\n"
     ]
    }
   ],
   "source": [
    "from bs4 import BeautifulSoup\n",
    "import requests\n",
    "\n",
    "response = requests.get('https://www.imdb.com/search/title/?release_date=2018-01-01,2018-12-31&sort=num_votes,desc')\n",
    "print(response)\n",
    "data = BeautifulSoup(response.text, \"html.parser\")\n",
    "\n",
    "title = data.find_all(class_='lister-item-header')[:3]\n",
    "genre = data.find_all(class_='genre')[:3]\n",
    "\n",
    "for i in range(len(title)):  # Corrected from `e` to `title`\n",
    "    print(title[i].find('a').string + ' ;', end=' ')\n",
    "    print(genre[i].string.strip())\n"
   ]
  },
  {
   "cell_type": "code",
   "execution_count": 27,
   "id": "421a3ded-8e26-4769-8601-bb5f4aaabaed",
   "metadata": {},
   "outputs": [
    {
     "name": "stdout",
     "output_type": "stream",
     "text": [
      "200\n",
      "[]\n"
     ]
    }
   ],
   "source": [
    "from bs4 import BeautifulSoup\n",
    "import requests\n",
    "\n",
    "headers = {\n",
    "    'User-Agent': 'Mozilla/5.0 (Windows NT 10.0; Win64; x64) AppleWebKit/537.36 (KHTML, like Gecko) Chrome/91.0.4472.124 Safari/537.36'\n",
    "}\n",
    "\n",
    "response = requests.get('https://www.imdb.com/search/title/?release_date=2018&sort=num_votes,desc&page=1&ref_=adv_nxt', headers=headers)\n",
    "print(response.status_code)  # This will show the response code, should be 200 if successful\n",
    "\n",
    "data = BeautifulSoup(response.text, \"html.parser\")[:3]\n",
    "\n",
    "title = data.find_all(class_='lister-item-header')\n",
    "print(title)\n",
    "genre = data.find_all(class_='genre')[:3]\n",
    "\n",
    "for i in range(len(title)):\n",
    "    print(title[i].find('a').string + ' ;', end=' ')\n",
    "    print(genre[i].string.strip())\n"
   ]
  },
  {
   "cell_type": "code",
   "execution_count": null,
   "id": "6b36b43f-1cba-4ecb-bd2b-3a0bbe2cb7a0",
   "metadata": {},
   "outputs": [],
   "source": []
  }
 ],
 "metadata": {
  "kernelspec": {
   "display_name": "Python 3 (ipykernel)",
   "language": "python",
   "name": "python3"
  },
  "language_info": {
   "codemirror_mode": {
    "name": "ipython",
    "version": 3
   },
   "file_extension": ".py",
   "mimetype": "text/x-python",
   "name": "python",
   "nbconvert_exporter": "python",
   "pygments_lexer": "ipython3",
   "version": "3.12.4"
  }
 },
 "nbformat": 4,
 "nbformat_minor": 5
}
