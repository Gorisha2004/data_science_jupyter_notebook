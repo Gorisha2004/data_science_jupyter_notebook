{
 "cells": [
  {
   "cell_type": "code",
   "execution_count": 3,
   "id": "b57a0207-8f22-49ea-8432-d8621b4a8fd6",
   "metadata": {},
   "outputs": [],
   "source": [
    "import requests \n",
    "import json "
   ]
  },
  {
   "cell_type": "code",
   "execution_count": 23,
   "id": "c45470a1-4a48-43f5-94b5-6a41911a71ec",
   "metadata": {},
   "outputs": [
    {
     "name": "stdout",
     "output_type": "stream",
     "text": [
      "https://github.com/reddit-archive/reddit/wiki/OAuth2?client_id=xOldv9a9tVNajdmYL1IX-g&response_type=code&state=random_123&redirect_uri=https%3A%2F%2Fwww.google.com%2F&scope=read\n"
     ]
    }
   ],
   "source": [
    "data = {'client_id' : 'xOldv9a9tVNajdmYL1IX-g', 'response_type' : 'code', 'state' : 'random_123', \n",
    "        'redirect_uri': 'https://www.google.com/', 'scope' : 'read'}\n",
    "response = requests.get('https://www.reddit.com/api/v1/access_token', params = data)\n",
    "print (response.url)"
   ]
  },
  {
   "cell_type": "code",
   "execution_count": 17,
   "id": "e01ae61a-04a5-4fe9-8df8-761c03659d79",
   "metadata": {},
   "outputs": [
    {
     "ename": "SyntaxError",
     "evalue": "closing parenthesis ')' does not match opening parenthesis '{' (2127589511.py, line 6)",
     "output_type": "error",
     "traceback": [
      "\u001b[1;36m  Cell \u001b[1;32mIn[17], line 6\u001b[1;36m\u001b[0m\n\u001b[1;33m    headers = {'User-Agent' : 'irritatingme')\u001b[0m\n\u001b[1;37m                                            ^\u001b[0m\n\u001b[1;31mSyntaxError\u001b[0m\u001b[1;31m:\u001b[0m closing parenthesis ')' does not match opening parenthesis '{'\n"
     ]
    }
   ],
   "source": [
    "data = {'grant_type' : 'authorization_code', 'code' : '\t2RNMPW919n5AYs2aDa7xxGE5yw0sXA', \n",
    "        'redirect_uri' : 'https://www.google.com/'}\n",
    "\n",
    "r = requests.post('https://www.reddit.com/api/v1/access_token', data = data, \n",
    "                  auth = ('xOldv9a9tVNajdmYL1IX-g', '2RNMPW919n5AYs2aDa7xxGE5yw0sXA'), \n",
    "                  headers = {'User-Agent' : 'irritatingme')\n",
    "print (r.text)"
   ]
  },
  {
   "cell_type": "code",
   "execution_count": null,
   "id": "b7bc5295-5fde-4898-8ead-0da29041a2a0",
   "metadata": {},
   "outputs": [],
   "source": []
  }
 ],
 "metadata": {
  "kernelspec": {
   "display_name": "Python 3 (ipykernel)",
   "language": "python",
   "name": "python3"
  },
  "language_info": {
   "codemirror_mode": {
    "name": "ipython",
    "version": 3
   },
   "file_extension": ".py",
   "mimetype": "text/x-python",
   "name": "python",
   "nbconvert_exporter": "python",
   "pygments_lexer": "ipython3",
   "version": "3.12.4"
  }
 },
 "nbformat": 4,
 "nbformat_minor": 5
}
