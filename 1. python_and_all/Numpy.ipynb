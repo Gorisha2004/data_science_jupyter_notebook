{
 "cells": [
  {
   "cell_type": "code",
   "execution_count": 3,
   "id": "6e791447-8e44-44f9-b335-02d73b01d455",
   "metadata": {},
   "outputs": [
    {
     "data": {
      "text/plain": [
       "array([[1, 2, 3],\n",
       "       [4, 5, 6],\n",
       "       [7, 8, 9]])"
      ]
     },
     "execution_count": 3,
     "metadata": {},
     "output_type": "execute_result"
    }
   ],
   "source": [
    "import numpy as np\n",
    "list = [[1,2,3],[4,5,6],[7,8,9]]\n",
    "a = np.array(list)\n",
    "a"
   ]
  },
  {
   "cell_type": "code",
   "execution_count": 7,
   "id": "f3be043c-ed0d-4d46-8aeb-4f4a38700e18",
   "metadata": {},
   "outputs": [
    {
     "data": {
      "text/plain": [
       "array([0, 0, 0, 0, 1, 0, 0, 0, 0, 0])"
      ]
     },
     "execution_count": 7,
     "metadata": {},
     "output_type": "execute_result"
    }
   ],
   "source": [
    "c = np.zeros(10, dtype = int)\n",
    "c [4] = 1\n",
    "c"
   ]
  },
  {
   "cell_type": "code",
   "execution_count": 9,
   "id": "162751e3-a0a6-4b15-b8ea-400097be1ecd",
   "metadata": {},
   "outputs": [
    {
     "data": {
      "text/plain": [
       "array([ 9.        ,  9.81632653, 10.63265306, 11.44897959, 12.26530612,\n",
       "       13.08163265, 13.89795918, 14.71428571, 15.53061224, 16.34693878,\n",
       "       17.16326531, 17.97959184, 18.79591837, 19.6122449 , 20.42857143,\n",
       "       21.24489796, 22.06122449, 22.87755102, 23.69387755, 24.51020408,\n",
       "       25.32653061, 26.14285714, 26.95918367, 27.7755102 , 28.59183673,\n",
       "       29.40816327, 30.2244898 , 31.04081633, 31.85714286, 32.67346939,\n",
       "       33.48979592, 34.30612245, 35.12244898, 35.93877551, 36.75510204,\n",
       "       37.57142857, 38.3877551 , 39.20408163, 40.02040816, 40.83673469,\n",
       "       41.65306122, 42.46938776, 43.28571429, 44.10204082, 44.91836735,\n",
       "       45.73469388, 46.55102041, 47.36734694, 48.18367347, 49.        ])"
      ]
     },
     "execution_count": 9,
     "metadata": {},
     "output_type": "execute_result"
    }
   ],
   "source": [
    "a = np.linspace(9, 49)\n",
    "a"
   ]
  },
  {
   "cell_type": "code",
   "execution_count": 11,
   "id": "7fe9db45-2a10-46e5-b826-08c381a0dcf9",
   "metadata": {},
   "outputs": [
    {
     "data": {
      "text/plain": [
       "array([[1., 0., 0., 0.],\n",
       "       [0., 1., 0., 0.],\n",
       "       [0., 0., 1., 0.],\n",
       "       [0., 0., 0., 1.],\n",
       "       [0., 0., 0., 0.]])"
      ]
     },
     "execution_count": 11,
     "metadata": {},
     "output_type": "execute_result"
    }
   ],
   "source": [
    "a = np.eye(5,4)\n",
    "a"
   ]
  },
  {
   "cell_type": "code",
   "execution_count": 2,
   "id": "deed572c-bc24-4ad2-8809-56da776cb1a3",
   "metadata": {},
   "outputs": [
    {
     "data": {
      "text/plain": [
       "array([0.  , 0.62, 1.25, 1.88, 2.5 , 3.12, 3.75, 4.38, 5.  ])"
      ]
     },
     "execution_count": 2,
     "metadata": {},
     "output_type": "execute_result"
    }
   ],
   "source": [
    "import numpy as np\n",
    "a = np.linspace(0, 5, 9)\n",
    "b = np.around(a, 2)\n",
    "b"
   ]
  },
  {
   "cell_type": "code",
   "execution_count": 5,
   "id": "dfffc758-42cd-45ec-8065-4f983b4bca67",
   "metadata": {},
   "outputs": [
    {
     "name": "stdout",
     "output_type": "stream",
     "text": [
      "[11 12 13]\n",
      "[ 9 14 19]\n"
     ]
    }
   ],
   "source": [
    "li = [[1, 2, 3, 4, 5], [6, 7, 8, 9, 10], [11, 12, 13, 14, 15], [16, 17, 18, 19, 20]]\n",
    "array = np.array(li)\n",
    "print(array[2, :3])\n",
    "print(array[1:4, 3])\n"
   ]
  },
  {
   "cell_type": "code",
   "execution_count": 9,
   "id": "7386c4c0-d1d8-4e65-857f-c18abe5ff7a3",
   "metadata": {},
   "outputs": [
    {
     "data": {
      "text/plain": [
       "array([[False, False, False, False, False],\n",
       "       [False, False, False, False, False],\n",
       "       [False, False, False, False, False],\n",
       "       [False, False, False, False, False]])"
      ]
     },
     "execution_count": 9,
     "metadata": {},
     "output_type": "execute_result"
    }
   ],
   "source": [
    "np.logical_not(array)"
   ]
  },
  {
   "cell_type": "code",
   "execution_count": 19,
   "id": "7f0ca520-7f13-4b7c-b867-12a6e683239a",
   "metadata": {},
   "outputs": [
    {
     "data": {
      "text/plain": [
       "array([-1,  2, -1,  4, -1,  6, -1,  8, -1, 10])"
      ]
     },
     "execution_count": 19,
     "metadata": {},
     "output_type": "execute_result"
    }
   ],
   "source": [
    "a = [1,2,3,4,5,6,7,8,9,10]\n",
    "b = np.array(a)\n",
    "new_arr = np.where((b%2)!= 0)\n",
    "b[new_arr] = -1\n",
    "b"
   ]
  },
  {
   "cell_type": "code",
   "execution_count": 6,
   "id": "8d9445ca-8ddd-4c17-a413-5decf51129f0",
   "metadata": {},
   "outputs": [
    {
     "name": "stdout",
     "output_type": "stream",
     "text": [
      "[ 1  2 -3 -4 -5 -6 -7 -8  9 10]\n"
     ]
    }
   ],
   "source": [
    "import numpy as np\n",
    "arr = np.array([1, 2, 3, 4, 5, 6, 7, 8, 9, 10])\n",
    "arr = np.where((arr >= 3) & (arr <= 8), -arr, arr)\n",
    "print(arr)\n"
   ]
  },
  {
   "cell_type": "code",
   "execution_count": 19,
   "id": "b6717c48-7c6f-4508-b958-c7934b9825f3",
   "metadata": {},
   "outputs": [
    {
     "name": "stdout",
     "output_type": "stream",
     "text": [
      "[[ 1 26 29 15  9]\n",
      " [23  6  7 12 14]\n",
      " [ 3 21 11 17  5]\n",
      " [25 24 12 27  2]]\n"
     ]
    }
   ],
   "source": [
    "a = np.random.randint(1, 30, (4, 5))\n",
    "print (a)"
   ]
  },
  {
   "cell_type": "code",
   "execution_count": 21,
   "id": "27991a99-779c-4db7-ae38-d8936a702d07",
   "metadata": {},
   "outputs": [
    {
     "name": "stdout",
     "output_type": "stream",
     "text": [
      "[[[ 1  6 29 15  9]\n",
      "  [23 21  7 12 14]\n",
      "  [ 3 24 11 17  5]\n",
      "  [25 26 12 27  2]]]\n"
     ]
    }
   ],
   "source": [
    "\n",
    "sorted = a[a[:, 1].sort()]\n",
    "print(sorted)\n"
   ]
  },
  {
   "cell_type": "code",
   "execution_count": 24,
   "id": "379b56fb-9502-4e68-a5cf-8b8d610e8d27",
   "metadata": {},
   "outputs": [
    {
     "name": "stdout",
     "output_type": "stream",
     "text": [
      "Original array:\n",
      "[[ 6  4 22  4 22]\n",
      " [ 5 28 19 12 26]\n",
      " [20 10  2 13 17]\n",
      " [ 5 25 10 29 29]]\n",
      "\n",
      "Sorted array based on the second column:\n",
      "[[ 6  4 22  4 22]\n",
      " [20 10  2 13 17]\n",
      " [ 5 25 10 29 29]\n",
      " [ 5 28 19 12 26]]\n"
     ]
    }
   ],
   "source": [
    "import numpy as np\n",
    "a = np.random.randint(1, 30, (4, 5))\n",
    "sorted_a = a[a[:, 1].argsort()]\n",
    "\n",
    "print(\"Original array:\")\n",
    "print(a)\n",
    "print(\"\\nSorted array based on the second column:\")\n",
    "print(sorted_a)\n"
   ]
  },
  {
   "cell_type": "code",
   "execution_count": 26,
   "id": "683ee4df-fa04-4b40-8e55-c08b9378d953",
   "metadata": {},
   "outputs": [
    {
     "data": {
      "text/plain": [
       "array([[3, 3, 3, 3],\n",
       "       [3, 3, 3, 3],\n",
       "       [3, 3, 3, 3]])"
      ]
     },
     "execution_count": 26,
     "metadata": {},
     "output_type": "execute_result"
    }
   ],
   "source": [
    "b = np.resize(a ,(3,4))\n",
    "b"
   ]
  },
  {
   "cell_type": "code",
   "execution_count": 31,
   "id": "59807fc7-fcf0-456d-91c4-2b96b56a2613",
   "metadata": {},
   "outputs": [
    {
     "name": "stdout",
     "output_type": "stream",
     "text": [
      "[0. 0. 0. ... 0. 0. 1.]\n",
      "3771.0\n"
     ]
    }
   ],
   "source": [
    "import numpy as np\n",
    "import csv\n",
    "\n",
    "file_obj = open('terrorismData.csv', encoding='utf-8')\n",
    "data = csv.DictReader(file_obj, skipinitialspace = True)\n",
    "\n",
    "killed = []\n",
    "country = []\n",
    "for row in data:\n",
    "    killed.append(row['Killed'])\n",
    "    country.append(row['Country'])\n",
    "\n",
    "np_killed = np.array(killed)\n",
    "np_country = np.array(country)\n",
    "\n",
    "np_killed[np_killed == ''] = '0.0'\n",
    "\n",
    "np_killed = np.array(np_killed, dtype = float)\n",
    "\n",
    "bool_arr = np_country == 'United States'\n",
    "ans = np_killed[bool_arr]\n",
    "print(ans)\n",
    "print(sum(ans))"
   ]
  },
  {
   "cell_type": "code",
   "execution_count": null,
   "id": "98bdc161-0152-4f42-9552-fccd02ccab9e",
   "metadata": {},
   "outputs": [],
   "source": []
  }
 ],
 "metadata": {
  "kernelspec": {
   "display_name": "Python 3 (ipykernel)",
   "language": "python",
   "name": "python3"
  },
  "language_info": {
   "codemirror_mode": {
    "name": "ipython",
    "version": 3
   },
   "file_extension": ".py",
   "mimetype": "text/x-python",
   "name": "python",
   "nbconvert_exporter": "python",
   "pygments_lexer": "ipython3",
   "version": "3.12.4"
  }
 },
 "nbformat": 4,
 "nbformat_minor": 5
}
