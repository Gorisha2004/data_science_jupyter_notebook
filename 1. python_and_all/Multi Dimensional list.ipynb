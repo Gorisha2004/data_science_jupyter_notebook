{
 "cells": [
  {
   "cell_type": "markdown",
   "id": "65269ec2-897e-4b1e-a5f7-debe0ac3ce7b",
   "metadata": {},
   "source": [
    "### taking inputs in multi dimensional lists\n"
   ]
  },
  {
   "cell_type": "code",
   "execution_count": 2,
   "id": "80012f68-708a-44e2-b973-ca06ff1338a3",
   "metadata": {},
   "outputs": [
    {
     "name": "stdin",
     "output_type": "stream",
     "text": [
      " 3 4\n",
      " 1 2 3 4\n",
      " 2 3 4 5\n",
      " 3 5 4 3\n"
     ]
    },
    {
     "data": {
      "text/plain": [
       "[[1, 2, 3, 4], [2, 3, 4, 5], [3, 5, 4, 3]]"
      ]
     },
     "execution_count": 2,
     "metadata": {},
     "output_type": "execute_result"
    }
   ],
   "source": [
    "sizes = input().split()\n",
    "m = int(sizes[0])\n",
    "n = int (sizes[1])\n",
    "l = []\n",
    "for i in range(m):\n",
    "    next_row = [int(i) for i in input().split()]\n",
    "    l.append(next_row)\n",
    "l"
   ]
  },
  {
   "cell_type": "markdown",
   "id": "435670ca-171f-4930-8b16-7cc28e81312a",
   "metadata": {},
   "source": [
    "### Row wise sum"
   ]
  },
  {
   "cell_type": "code",
   "execution_count": 9,
   "id": "bd7d9894-85f1-4804-ac43-223e9f303fdc",
   "metadata": {},
   "outputs": [
    {
     "name": "stdin",
     "output_type": "stream",
     "text": [
      " 3 4\n",
      " 1 2 3 4\n",
      " 2 3 4 4\n",
      " 1 2 3 4\n"
     ]
    },
    {
     "name": "stdout",
     "output_type": "stream",
     "text": [
      "10\n",
      "23\n",
      "33\n"
     ]
    }
   ],
   "source": [
    "sizes = input().split()\n",
    "m = int(sizes[0])\n",
    "n = int(sizes[1])\n",
    "l = []\n",
    "for i in range (m):\n",
    "    next_row = [int(i) for i in input().split()]\n",
    "    l.append(next_row)\n",
    "sum = 0\n",
    "for i in range(m):\n",
    "    for j in range(n):\n",
    "        sum = sum + l[i][j]\n",
    "    print (sum)\n",
    " "
   ]
  },
  {
   "cell_type": "markdown",
   "id": "1309dd5c-3989-41ee-8ff8-2222d3028e33",
   "metadata": {},
   "source": [
    "### Sine wave pattern"
   ]
  },
  {
   "cell_type": "code",
   "execution_count": 32,
   "id": "ae05b052-be17-48f7-bcfb-ca89a31b32ed",
   "metadata": {},
   "outputs": [
    {
     "name": "stdin",
     "output_type": "stream",
     "text": [
      " 2 3\n",
      " 2 3 4\n",
      " 5 6 7\n"
     ]
    },
    {
     "name": "stdout",
     "output_type": "stream",
     "text": [
      "[2, 5, 6, 3, 4, 7]\n"
     ]
    }
   ],
   "source": [
    " sizes = input().split()\n",
    "m = int(sizes[0])\n",
    "n = int(sizes[1])\n",
    "l = []\n",
    "for i in range (m):\n",
    "    next_row = [int(i) for i in input().split()]\n",
    "    l.append(next_row)\n",
    "sum = 0\n",
    "wave_order = []\n",
    "for i in range(n):\n",
    "    for j in range(m):\n",
    "        if ( i % 2 == 0):\n",
    "            wave_order.append(l[j][i])\n",
    "        else:\n",
    "            for j in range (m-1, -1, -1):\n",
    "                wave_order.append(l[j][i])\n",
    "            break\n",
    "print (wave_order)"
   ]
  },
  {
   "cell_type": "code",
   "execution_count": null,
   "id": "f92c05b6-20ea-46ec-ae49-b4e2bad3d098",
   "metadata": {},
   "outputs": [],
   "source": []
  }
 ],
 "metadata": {
  "kernelspec": {
   "display_name": "Python 3 (ipykernel)",
   "language": "python",
   "name": "python3"
  },
  "language_info": {
   "codemirror_mode": {
    "name": "ipython",
    "version": 3
   },
   "file_extension": ".py",
   "mimetype": "text/x-python",
   "name": "python",
   "nbconvert_exporter": "python",
   "pygments_lexer": "ipython3",
   "version": "3.12.4"
  }
 },
 "nbformat": 4,
 "nbformat_minor": 5
}
