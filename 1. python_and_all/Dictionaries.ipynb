{
 "cells": [
  {
   "cell_type": "code",
   "execution_count": 5,
   "id": "f84b239b-6d90-44a6-a28a-c4badb7c9b7f",
   "metadata": {},
   "outputs": [
    {
     "name": "stdout",
     "output_type": "stream",
     "text": [
      "hello\n"
     ]
    }
   ],
   "source": [
    "def printKFreqWords(s, k):\n",
    "    words = s.split()\n",
    "    d = {}\n",
    "    for w in words: \n",
    "        d[w] = d.get(w, 0) + 1\n",
    "    for w in d:\n",
    "        if d[w] == k:\n",
    "            print(w)\n",
    "s = \"hello hello hello kaise ho sab kaise \"\n",
    "printKFreqWords(s, 3)\n"
   ]
  },
  {
   "cell_type": "code",
   "execution_count": 12,
   "id": "b81664ec-0d9a-4194-a04b-19ad51a15e5f",
   "metadata": {},
   "outputs": [
    {
     "name": "stdin",
     "output_type": "stream",
     "text": [
      "Enter the size of the array:  6\n",
      "Enter the elements of the array:  2 3 4 4 4 2 5\n"
     ]
    },
    {
     "name": "stdout",
     "output_type": "stream",
     "text": [
      "Most frequent element: 4\n"
     ]
    }
   ],
   "source": [
    "def highest_frequency_number(arr):\n",
    "    frequency_map = {}\n",
    "    max_count = 0\n",
    "    most_frequent = None\n",
    "    \n",
    "    for num in arr:\n",
    "        if num in frequency_map:\n",
    "            frequency_map[num] += 1\n",
    "        else:\n",
    "            frequency_map[num] = 1\n",
    "        if frequency_map[num] > max_count:\n",
    "            max_count = frequency_map[num]\n",
    "            most_frequent = num\n",
    "            \n",
    "    return most_frequent\n",
    "N = int(input(\"Enter the size of the array: \"))\n",
    "arr = list(map(int, input(\"Enter the elements of the array: \").split()))\n",
    "\n",
    "result = highest_frequency_number(arr)\n",
    "print(\"Most frequent element:\", result)\n",
    "\n",
    "    "
   ]
  },
  {
   "cell_type": "code",
   "execution_count": 14,
   "id": "d128a893-6d2a-48fa-883a-00f356487c0e",
   "metadata": {},
   "outputs": [
    {
     "name": "stdin",
     "output_type": "stream",
     "text": [
      "Enter the size of the array:  4\n",
      "Enter the elements of the array:  1 2 2 1\n"
     ]
    },
    {
     "name": "stdout",
     "output_type": "stream",
     "text": [
      "element removed: 2\n"
     ]
    }
   ],
   "source": [
    "def removedelements(arr):\n",
    "    frequency_map = {}\n",
    "    remove = 0\n",
    "    \n",
    "    for num in arr:\n",
    "        if num in frequency_map:\n",
    "            frequency_map[num] += 1\n",
    "        else:\n",
    "            frequency_map[num] = 1\n",
    "    for count in frequency_map.values():\n",
    "        if count>1:\n",
    "            \n",
    "            remove += count - 1\n",
    "            \n",
    "    return remove\n",
    "N = int(input(\"Enter the size of the array: \"))\n",
    "arr = list(map(int, input(\"Enter the elements of the array: \").split()))\n",
    "\n",
    "result = removedelements(arr)\n",
    "print(\"element removed:\", result)"
   ]
  },
  {
   "cell_type": "code",
   "execution_count": 31,
   "id": "af778b7f-632a-4aed-952f-a8d6a08cd093",
   "metadata": {},
   "outputs": [
    {
     "name": "stdin",
     "output_type": "stream",
     "text": [
      "Enter the elements of the array:  abcddba\n"
     ]
    },
    {
     "name": "stdout",
     "output_type": "stream",
     "text": [
      "['a', 'b', 'c', 'd', 'd', 'b', 'a']\n",
      "less frequent element: c\n"
     ]
    }
   ],
   "source": [
    "def highest_frequency_number(arr):\n",
    "    frequency_map = {}\n",
    "    min_count = 100\n",
    "    less_frequent = None\n",
    "    \n",
    "    for num in arr:\n",
    "        if num in frequency_map:\n",
    "            frequency_map[num] += 1\n",
    "        else:\n",
    "            frequency_map[num] = 1\n",
    "    for num, count in frequency_map.items():\n",
    "            if count < min_count:\n",
    "                min_count = count\n",
    "                less_frequent = num\n",
    "\n",
    "    return less_frequent\n",
    "arr = list(input(\"Enter the elements of the array: \"))\n",
    "print (arr)\n",
    "result = highest_frequency_number(arr)\n",
    "print(\"less frequent element:\", result)\n",
    "\n",
    "    "
   ]
  },
  {
   "cell_type": "code",
   "execution_count": 44,
   "id": "8f665e33-153a-4aeb-8610-9501b06ac3a7",
   "metadata": {},
   "outputs": [
    {
     "name": "stdin",
     "output_type": "stream",
     "text": [
      "Enter the names: aa bb \n"
     ]
    },
    {
     "name": "stdout",
     "output_type": "stream",
     "text": [
      "-1\n"
     ]
    }
   ],
   "source": [
    "def different_names(arr):\n",
    "    frequency_map = {}\n",
    "    temp = {}\n",
    "    for e in arr:\n",
    "        if e in frequency_map:\n",
    "            frequency_map[e] += 1\n",
    "        else:\n",
    "            frequency_map[e] = 1\n",
    "        for name, count in frequency_map.items():\n",
    "            if count>1:\n",
    "                temp[name] = count\n",
    "    if temp == {}:\n",
    "        return -1\n",
    "    return temp\n",
    "arr = input(\"Enter the names:\").split()\n",
    "result = different_names(arr)\n",
    "print (result)"
   ]
  },
  {
   "cell_type": "code",
   "execution_count": 48,
   "id": "4c7a0e2f-416e-494c-86dd-23fadd6f79d3",
   "metadata": {},
   "outputs": [
    {
     "name": "stdin",
     "output_type": "stream",
     "text": [
      "Enter the numbers:  2 3 4 5 2 3 \n"
     ]
    },
    {
     "name": "stdout",
     "output_type": "stream",
     "text": [
      "2\n"
     ]
    }
   ],
   "source": [
    "def even_occurrence(arr):\n",
    "    frequency_map = {}\n",
    "    for num in arr:\n",
    "        if num in frequency_map:\n",
    "            frequency_map[num] += 1\n",
    "        else:\n",
    "            frequency_map[num] = 1\n",
    "    for num in arr:\n",
    "        if frequency_map[num] % 2 == 0:\n",
    "            return num\n",
    "    \n",
    "    return -1\n",
    "\n",
    "arr = list(map(int, input(\"Enter the numbers: \").split()))\n",
    "result = even_occurrence(arr)\n",
    "print(result)\n"
   ]
  },
  {
   "cell_type": "code",
   "execution_count": 51,
   "id": "f33cca65-084d-4b2c-b263-41fc6587fda1",
   "metadata": {},
   "outputs": [
    {
     "name": "stdin",
     "output_type": "stream",
     "text": [
      "Enter the number of triangles:  3\n",
      " 1 2 1\n",
      " 2 5 4\n",
      " 4 5 2\n"
     ]
    },
    {
     "name": "stdout",
     "output_type": "stream",
     "text": [
      "1\n"
     ]
    }
   ],
   "source": [
    "def unique_triangles():\n",
    "    n = int(input(\"Enter the number of triangles: \"))\n",
    "    \n",
    "    triangle_count = {}\n",
    "    \n",
    "    for _ in range(n):\n",
    "        a, b, c = map(int, input().split())\n",
    "        sides = tuple(sorted([a, b, c]))\n",
    "        if sides in triangle_count:\n",
    "            triangle_count[sides] += 1\n",
    "        else:\n",
    "            triangle_count[sides] = 1\n",
    "    unique_count = sum(1 for count in triangle_count.values() if count == 1)\n",
    "    \n",
    "    return unique_count\n",
    "result = unique_triangles()\n",
    "print(result)\n"
   ]
  },
  {
   "cell_type": "markdown",
   "id": "41109705-bfb4-4f6d-a483-9d12cc627704",
   "metadata": {},
   "source": [
    "### Count pairs with difference K\n"
   ]
  },
  {
   "cell_type": "code",
   "execution_count": 52,
   "id": "c6f89b7f-b399-4085-bcf2-a08fd075d550",
   "metadata": {},
   "outputs": [
    {
     "name": "stdin",
     "output_type": "stream",
     "text": [
      " 2 3  8 4 \n"
     ]
    },
    {
     "ename": "ValueError",
     "evalue": "invalid literal for int() with base 10: '2 3  8 4 '",
     "output_type": "error",
     "traceback": [
      "\u001b[1;31m---------------------------------------------------------------------------\u001b[0m",
      "\u001b[1;31mValueError\u001b[0m                                Traceback (most recent call last)",
      "Cell \u001b[1;32mIn[52], line 38\u001b[0m\n\u001b[0;32m     35\u001b[0m     \u001b[38;5;28mprint\u001b[39m(count)\n\u001b[0;32m     37\u001b[0m \u001b[38;5;66;03m# Example usage:\u001b[39;00m\n\u001b[1;32m---> 38\u001b[0m count_pairs_with_difference_k()\n",
      "Cell \u001b[1;32mIn[52], line 3\u001b[0m, in \u001b[0;36mcount_pairs_with_difference_k\u001b[1;34m()\u001b[0m\n\u001b[0;32m      1\u001b[0m \u001b[38;5;28;01mdef\u001b[39;00m \u001b[38;5;21mcount_pairs_with_difference_k\u001b[39m():\n\u001b[0;32m      2\u001b[0m     \u001b[38;5;66;03m# Read input\u001b[39;00m\n\u001b[1;32m----> 3\u001b[0m     n \u001b[38;5;241m=\u001b[39m \u001b[38;5;28mint\u001b[39m(\u001b[38;5;28minput\u001b[39m())\n\u001b[0;32m      4\u001b[0m     \u001b[38;5;28;01mif\u001b[39;00m n \u001b[38;5;241m==\u001b[39m \u001b[38;5;241m0\u001b[39m:\n\u001b[0;32m      5\u001b[0m         \u001b[38;5;28mprint\u001b[39m(\u001b[38;5;241m0\u001b[39m)\n",
      "\u001b[1;31mValueError\u001b[0m: invalid literal for int() with base 10: '2 3  8 4 '"
     ]
    }
   ],
   "source": [
    "def count_pairs_with_difference_k():\n",
    "    # Read input\n",
    "    n = int(input())\n",
    "    if n == 0:\n",
    "        print(0)\n",
    "        return\n",
    "    \n",
    "    arr = list(map(int, input().split()))\n",
    "    K = int(input())\n",
    "    \n",
    "    # Use a set to keep track of elements we have seen\n",
    "    seen = set()\n",
    "    count = 0\n",
    "    \n",
    "    if K == 0:\n",
    "        # Special case when K is 0: count pairs of identical elements\n",
    "        freq = {}\n",
    "        for num in arr:\n",
    "            if num in freq:\n",
    "                freq[num] += 1\n",
    "            else:\n",
    "                freq[num] = 1\n",
    "        \n",
    "        for value in freq.values():\n",
    "            if value > 1:\n",
    "                count += value * (value - 1) // 2\n",
    "    else:\n",
    "        for num in arr:\n",
    "            if (num + K) in seen:\n",
    "                count += 1\n",
    "            if (num - K) in seen:\n",
    "                count += 1\n",
    "            seen.add(num)\n",
    "    \n",
    "    print(count)\n",
    "\n",
    "# Example usage:\n",
    "count_pairs_with_difference_k()\n"
   ]
  },
  {
   "cell_type": "code",
   "execution_count": null,
   "id": "d8850840-f5e7-4340-a8da-24d623af801c",
   "metadata": {},
   "outputs": [],
   "source": []
  }
 ],
 "metadata": {
  "kernelspec": {
   "display_name": "Python 3 (ipykernel)",
   "language": "python",
   "name": "python3"
  },
  "language_info": {
   "codemirror_mode": {
    "name": "ipython",
    "version": 3
   },
   "file_extension": ".py",
   "mimetype": "text/x-python",
   "name": "python",
   "nbconvert_exporter": "python",
   "pygments_lexer": "ipython3",
   "version": "3.12.4"
  }
 },
 "nbformat": 4,
 "nbformat_minor": 5
}
