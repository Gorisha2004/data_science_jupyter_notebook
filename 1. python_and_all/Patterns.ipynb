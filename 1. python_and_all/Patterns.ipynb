{
 "cells": [
  {
   "cell_type": "code",
   "execution_count": 2,
   "id": "209d3dc7-e247-419c-a895-363945167592",
   "metadata": {},
   "outputs": [
    {
     "name": "stdin",
     "output_type": "stream",
     "text": [
      "enter any number 5\n"
     ]
    },
    {
     "name": "stdout",
     "output_type": "stream",
     "text": [
      "55555\n",
      "55555\n",
      "55555\n",
      "55555\n",
      "55555\n"
     ]
    }
   ],
   "source": [
    "n = int (input(\"enter any number\"))\n",
    "i = 1\n",
    "while i<=n:\n",
    "    j = 1\n",
    "    while j<=n:\n",
    "        print (n, end='')\n",
    "        j = j+1\n",
    "    print()\n",
    "    i = i+1"
   ]
  },
  {
   "cell_type": "markdown",
   "id": "52e58215-8c7d-4340-a210-407b7af56752",
   "metadata": {},
   "source": [
    "### Triangular star patterns\n"
   ]
  },
  {
   "cell_type": "code",
   "execution_count": 4,
   "id": "ab1989de-7612-4935-9344-ae59a4247cfd",
   "metadata": {},
   "outputs": [
    {
     "name": "stdin",
     "output_type": "stream",
     "text": [
      " 10\n"
     ]
    },
    {
     "name": "stdout",
     "output_type": "stream",
     "text": [
      "*\n",
      "**\n",
      "***\n",
      "****\n",
      "*****\n",
      "******\n",
      "*******\n",
      "********\n",
      "*********\n",
      "**********\n"
     ]
    }
   ],
   "source": [
    "n = int(input())\n",
    "i = 1\n",
    "while i<=n:\n",
    "    j = 1\n",
    "    while j<=i:\n",
    "        print(\"*\", end='')\n",
    "        j = j+1\n",
    "    print()\n",
    "    i = i+1"
   ]
  },
  {
   "cell_type": "code",
   "execution_count": 6,
   "id": "2dc0aa6c-3364-4fbc-a826-c7068f7ddb1e",
   "metadata": {},
   "outputs": [
    {
     "name": "stdin",
     "output_type": "stream",
     "text": [
      " 23\n"
     ]
    },
    {
     "name": "stdout",
     "output_type": "stream",
     "text": [
      "1\n",
      "22\n",
      "333\n",
      "4444\n",
      "55555\n",
      "666666\n",
      "7777777\n",
      "88888888\n",
      "999999999\n",
      "10101010101010101010\n",
      "1111111111111111111111\n",
      "121212121212121212121212\n",
      "13131313131313131313131313\n",
      "1414141414141414141414141414\n",
      "151515151515151515151515151515\n",
      "16161616161616161616161616161616\n",
      "1717171717171717171717171717171717\n",
      "181818181818181818181818181818181818\n",
      "19191919191919191919191919191919191919\n",
      "2020202020202020202020202020202020202020\n",
      "212121212121212121212121212121212121212121\n",
      "22222222222222222222222222222222222222222222\n",
      "2323232323232323232323232323232323232323232323\n"
     ]
    }
   ],
   "source": [
    "n = int(input())\n",
    "i = 1\n",
    "while i<=n:\n",
    "    j = 1\n",
    "    while j<=i:\n",
    "        print(i, end='')\n",
    "        j = j+1\n",
    "    print()\n",
    "    i = i+1"
   ]
  },
  {
   "cell_type": "code",
   "execution_count": 11,
   "id": "7b594285-e338-4150-bae1-4fe47b35fbfa",
   "metadata": {},
   "outputs": [
    {
     "name": "stdin",
     "output_type": "stream",
     "text": [
      " 3\n"
     ]
    },
    {
     "name": "stdout",
     "output_type": "stream",
     "text": [
      "1\n",
      "21\n",
      "321\n"
     ]
    }
   ],
   "source": [
    "n = int(input())\n",
    "i = 1\n",
    "while i<=n:\n",
    "    j=i\n",
    "    while j>0:\n",
    "        print(j,end='')\n",
    "        j = j-1\n",
    "    print()\n",
    "    i = i+1\n",
    "    "
   ]
  },
  {
   "cell_type": "markdown",
   "id": "2019cf12-451c-4d0c-9fda-c98148bf1739",
   "metadata": {},
   "source": [
    "### Character Pattern\n",
    "\n"
   ]
  },
  {
   "cell_type": "code",
   "execution_count": 13,
   "id": "0f9aa263-7955-454c-b398-68cd021c219c",
   "metadata": {},
   "outputs": [
    {
     "name": "stdin",
     "output_type": "stream",
     "text": [
      " 4\n"
     ]
    },
    {
     "name": "stdout",
     "output_type": "stream",
     "text": [
      "ABCD\n",
      "BCDE\n",
      "CDEF\n",
      "DEFG\n"
     ]
    }
   ],
   "source": [
    "n = int(input())\n",
    "i = 1\n",
    "while i<=n:\n",
    "    j = 1\n",
    "    start_char = chr(ord('A') + i -1)\n",
    "    while j<=n:\n",
    "        charP = chr(ord(start_char) + j - 1)\n",
    "        print(charP, end='')\n",
    "        j = j+1\n",
    "    print()\n",
    "    i = i+1"
   ]
  },
  {
   "cell_type": "code",
   "execution_count": 18,
   "id": "0a278cbb-610f-45e7-8466-d24540af6639",
   "metadata": {},
   "outputs": [
    {
     "name": "stdin",
     "output_type": "stream",
     "text": [
      " 7\n"
     ]
    },
    {
     "name": "stdout",
     "output_type": "stream",
     "text": [
      "A\n",
      "BB\n",
      "CCC\n",
      "DDDD\n",
      "EEEEE\n",
      "FFFFFF\n",
      "GGGGGGG\n"
     ]
    }
   ],
   "source": [
    "n = int(input())\n",
    "i = 1\n",
    "while i<=n:\n",
    "    j = 1\n",
    "    start_char =chr(ord('A'))\n",
    "    while j<=i:\n",
    "        charP = chr(ord(start_char) + i - 1)\n",
    "        print(charP, end='')\n",
    "        j = j+1\n",
    "    print()\n",
    "    i = i+1\n",
    "\n",
    " "
   ]
  },
  {
   "cell_type": "code",
   "execution_count": 19,
   "id": "0ea91b69-841c-4a70-9821-9c6d2d7b4a9a",
   "metadata": {},
   "outputs": [
    {
     "name": "stdin",
     "output_type": "stream",
     "text": [
      " 3\n"
     ]
    },
    {
     "name": "stdout",
     "output_type": "stream",
     "text": [
      "A\n",
      "BC\n",
      "CDE\n"
     ]
    }
   ],
   "source": [
    "n = int(input())\n",
    "i = 1\n",
    "while i<=n:\n",
    "    j = 1\n",
    "    start_char = chr(ord('A') + i -1)\n",
    "    while j<=i:\n",
    "        charP = chr(ord(start_char) + j - 1)\n",
    "        print(charP, end='')\n",
    "        j = j+1\n",
    "    print()\n",
    "    i = i+1"
   ]
  },
  {
   "cell_type": "code",
   "execution_count": 23,
   "id": "969930bb-0355-4817-a41e-ffd379d1bf73",
   "metadata": {},
   "outputs": [
    {
     "name": "stdin",
     "output_type": "stream",
     "text": [
      " 5\n"
     ]
    },
    {
     "name": "stdout",
     "output_type": "stream",
     "text": [
      "E\n",
      "DE\n",
      "CDE\n",
      "BCDE\n",
      "ABCDE\n"
     ]
    }
   ],
   "source": [
    "n = int(input())\n",
    "i = 1\n",
    "while i<=n:\n",
    "    j = 1\n",
    "    start_char = chr(ord('A') + (n-i) -1)\n",
    "    while j<=i:\n",
    "        charP = chr(ord(start_char) + j )\n",
    "        print(charP, end='')\n",
    "        j = j+1\n",
    "    print()\n",
    "    i = i+1"
   ]
  },
  {
   "cell_type": "markdown",
   "id": "a0c7daa5-bc9c-45ec-a73f-e6dbe2d9af4f",
   "metadata": {},
   "source": [
    "### Inverted Number Pattern"
   ]
  },
  {
   "cell_type": "code",
   "execution_count": 28,
   "id": "e1da6d81-8407-43c3-b42c-347f182f5d75",
   "metadata": {},
   "outputs": [
    {
     "name": "stdin",
     "output_type": "stream",
     "text": [
      " 3\n"
     ]
    },
    {
     "name": "stdout",
     "output_type": "stream",
     "text": [
      "333\n",
      "22\n",
      "1\n"
     ]
    }
   ],
   "source": [
    "n = int(input())\n",
    "i = 1\n",
    "p = n\n",
    "while i<=n:\n",
    "    j = 1\n",
    "    while(j<= (n-i+1)):\n",
    "        print(p ,end='')\n",
    "        j = j+1\n",
    "    print()\n",
    "    p = p-1\n",
    "    i = i+1\n"
   ]
  },
  {
   "cell_type": "markdown",
   "id": "053b970e-f8fc-445b-8568-98af99157dfe",
   "metadata": {},
   "source": [
    "### Reversed Pattern"
   ]
  },
  {
   "cell_type": "code",
   "execution_count": 29,
   "id": "a5d1ad89-19ae-4b5c-964e-e2baa866f3a1",
   "metadata": {},
   "outputs": [
    {
     "name": "stdin",
     "output_type": "stream",
     "text": [
      " 3\n"
     ]
    },
    {
     "name": "stdout",
     "output_type": "stream",
     "text": [
      "  *\n",
      " **\n",
      "***\n"
     ]
    }
   ],
   "source": [
    "n = int(input())\n",
    "i = 1\n",
    "while i<=n:\n",
    "    spaces = 1\n",
    "    while spaces<=n-i:\n",
    "        print(' ', end= '')\n",
    "        spaces = spaces + 1\n",
    "    stars = 1\n",
    "    while stars <= i:\n",
    "        print('*', end = '')\n",
    "        stars = stars + 1\n",
    "    print()\n",
    "    i = i+1"
   ]
  },
  {
   "cell_type": "code",
   "execution_count": 33,
   "id": "370b630f-43d6-471d-905c-b7da434960ba",
   "metadata": {},
   "outputs": [
    {
     "name": "stdin",
     "output_type": "stream",
     "text": [
      " 3\n"
     ]
    },
    {
     "name": "stdout",
     "output_type": "stream",
     "text": [
      "  1\n",
      " 12\n",
      "123\n"
     ]
    }
   ],
   "source": [
    "n = int(input())\n",
    "i = 1\n",
    "while i<=n:\n",
    "    spaces = 1\n",
    "    while spaces<=n-i:\n",
    "        print(' ', end= '')\n",
    "        spaces = spaces + 1\n",
    "    p = 1\n",
    "    while p <= i:\n",
    "        print(p, end = '')\n",
    "        p += 1\n",
    "    print()\n",
    "    i = i+1"
   ]
  },
  {
   "cell_type": "code",
   "execution_count": 34,
   "id": "1fe6cd35-9f33-4aa7-835a-36ad6d488a3f",
   "metadata": {},
   "outputs": [
    {
     "name": "stdin",
     "output_type": "stream",
     "text": [
      " 5\n"
     ]
    },
    {
     "name": "stdout",
     "output_type": "stream",
     "text": [
      "    1\n",
      "   121\n",
      "  12321\n",
      " 1234321\n",
      "123454321\n"
     ]
    }
   ],
   "source": [
    "n = int(input())\n",
    "i = 1\n",
    "while i<=n:\n",
    "    spaces = 1\n",
    "    # spaces\n",
    "    while spaces<=n-i:\n",
    "        print(' ', end= '')\n",
    "        spaces = spaces + 1\n",
    "    p = 1\n",
    "    # increasing sequence\n",
    "    while p <= i:\n",
    "        print(p, end = '')\n",
    "        p += 1\n",
    "    # decreasing sequence\n",
    "    p = i-1\n",
    "    while p >= 1:\n",
    "        print (p, end = '')\n",
    "        p = p-1\n",
    "    print()\n",
    "    i = i+1"
   ]
  },
  {
   "cell_type": "markdown",
   "id": "94affd00-765c-4375-8c47-63ca29591f1e",
   "metadata": {},
   "source": [
    "### Star Pattern\n"
   ]
  },
  {
   "cell_type": "code",
   "execution_count": 36,
   "id": "b69dfd29-3b80-47ee-9a2b-dfea26b304ee",
   "metadata": {},
   "outputs": [
    {
     "name": "stdin",
     "output_type": "stream",
     "text": [
      " 5\n"
     ]
    },
    {
     "name": "stdout",
     "output_type": "stream",
     "text": [
      "    *\n",
      "   ***\n",
      "  *****\n",
      " *******\n",
      "*********\n"
     ]
    }
   ],
   "source": [
    "n = int(input())\n",
    "i = 1\n",
    "while i<=n:\n",
    "    spaces = 1\n",
    "    # spaces\n",
    "    while spaces<=n-i:\n",
    "        print(' ', end= '')\n",
    "        spaces = spaces + 1\n",
    "    p = 1\n",
    "    # increasing sequence\n",
    "    while p <= i:\n",
    "        print('*', end = '')\n",
    "        p += 1\n",
    "    # decreasing sequence\n",
    "    p = i-1\n",
    "    while p >= 1:\n",
    "        print ('*', end = '')\n",
    "        p = p-1\n",
    "    print()\n",
    "    i = i+1"
   ]
  },
  {
   "cell_type": "code",
   "execution_count": 39,
   "id": "303c2c4b-564a-4513-8ad8-ecfd09a73cac",
   "metadata": {},
   "outputs": [
    {
     "name": "stdin",
     "output_type": "stream",
     "text": [
      " 3\n"
     ]
    },
    {
     "name": "stdout",
     "output_type": "stream",
     "text": [
      "  1\n",
      " 232\n",
      "34543\n"
     ]
    }
   ],
   "source": [
    "n = int(input())\n",
    "i = 1\n",
    "while i<=n:\n",
    "    spaces = 1\n",
    "    # spaces\n",
    "    while spaces<=n-i:\n",
    "        print(' ', end= '')\n",
    "        spaces = spaces + 1\n",
    "    p = 1\n",
    "    # increasing sequence\n",
    "    while p <= i:\n",
    "        print(p + i - 1, end = '')\n",
    "        p += 1\n",
    "    # decreasing sequence\n",
    "    p = i-1\n",
    "    while p >= 1:\n",
    "        print (p + i - 1, end = '')\n",
    "        p = p-1\n",
    "    print()\n",
    "    i = i+1"
   ]
  },
  {
   "cell_type": "markdown",
   "id": "8001df84-f910-441e-9a25-2d3d7129a0ab",
   "metadata": {},
   "source": [
    "### Star Pattern\n"
   ]
  },
  {
   "cell_type": "code",
   "execution_count": 5,
   "id": "bf6d917b-6cf2-4a2a-a319-c9af6b1f2e35",
   "metadata": {},
   "outputs": [
    {
     "name": "stdin",
     "output_type": "stream",
     "text": [
      " 3\n"
     ]
    },
    {
     "name": "stdout",
     "output_type": "stream",
     "text": [
      " *\n",
      "***\n",
      " *\n"
     ]
    }
   ],
   "source": [
    "n = int( input() )\n",
    "i = 0\n",
    "while i < n:\n",
    "    if i <= n // 2:\n",
    "        spaces = n // 2 - i\n",
    "        stars = 2 * i + 1\n",
    "    else:\n",
    "        spaces = i - n // 2\n",
    "        stars = 2 * (n - i) - 1\n",
    "            \n",
    "    j = 0\n",
    "    while j < spaces:\n",
    "        print(\" \", end=\"\")\n",
    "        j += 1\n",
    "        \n",
    "    k = 0\n",
    "    while k < stars:\n",
    "        print(\"*\", end=\"\")\n",
    "        k += 1\n",
    "            \n",
    "    print()\n",
    "    i += 1"
   ]
  },
  {
   "cell_type": "code",
   "execution_count": null,
   "id": "734e51c8-9d50-4192-a6f3-7124cf74c58e",
   "metadata": {},
   "outputs": [],
   "source": []
  }
 ],
 "metadata": {
  "kernelspec": {
   "display_name": "Python 3 (ipykernel)",
   "language": "python",
   "name": "python3"
  },
  "language_info": {
   "codemirror_mode": {
    "name": "ipython",
    "version": 3
   },
   "file_extension": ".py",
   "mimetype": "text/x-python",
   "name": "python",
   "nbconvert_exporter": "python",
   "pygments_lexer": "ipython3",
   "version": "3.12.4"
  }
 },
 "nbformat": 4,
 "nbformat_minor": 5
}
