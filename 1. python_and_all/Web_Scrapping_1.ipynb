{
 "cells": [
  {
   "cell_type": "code",
   "execution_count": 1,
   "id": "b0e804b4-2272-46b0-834a-bf84b1f6ff03",
   "metadata": {},
   "outputs": [],
   "source": [
    "html = '<!DOCTYPE html><html><head><title>Learning Beautiful Soup</title></head>\\\n",
    "<body><h1> About Us </h1><div class = \"first_div\"><p>Coding Ninjas Website</p>\\\n",
    "<a href=\"https://www.codingninjas.in/\">Link to Coding Ninjas Website</a>\\\n",
    "<ul><li>This</li><li>is</li><li>an</li><li>unordered</li><li>list.</li></ul>\\\n",
    "</div><p id = \"template_p\">This is a template paragraph tag</p>\\\n",
    "<a href = \"https://www.facebook.com/codingninjas/\">\\\n",
    "This is the link of our Facebook Page</a></body></html>'\n"
   ]
  },
  {
   "cell_type": "code",
   "execution_count": 6,
   "id": "8373c8f2-6d0c-4e6f-bb0e-a15c43f6fedd",
   "metadata": {},
   "outputs": [],
   "source": [
    "from bs4 import BeautifulSoup"
   ]
  },
  {
   "cell_type": "code",
   "execution_count": 3,
   "id": "28e4cb65-3c35-4bda-97bf-dd126c6a3100",
   "metadata": {},
   "outputs": [],
   "source": [
    "data = BeautifulSoup(html, 'html.parser')"
   ]
  },
  {
   "cell_type": "code",
   "execution_count": 4,
   "id": "bd0e9967-047f-452e-92a2-fcca67543f52",
   "metadata": {},
   "outputs": [
    {
     "name": "stdout",
     "output_type": "stream",
     "text": [
      "<!DOCTYPE html>\n",
      "<html><head><title>Learning Beautiful Soup</title></head><body><h1> About Us </h1><div class=\"first_div\"><p>Coding Ninjas Website</p><a href=\"https://www.codingninjas.in/\">Link to Coding Ninjas Website</a><ul><li>This</li><li>is</li><li>an</li><li>unordered</li><li>list.</li></ul></div><p id=\"template_p\">This is a template paragraph tag</p><a href=\"https://www.facebook.com/codingninjas/\">This is the link of our Facebook Page</a></body></html>\n"
     ]
    }
   ],
   "source": [
    "print(data)"
   ]
  },
  {
   "cell_type": "code",
   "execution_count": 5,
   "id": "3f9dffbf-a458-4522-975d-1a352f3143bc",
   "metadata": {},
   "outputs": [
    {
     "name": "stdout",
     "output_type": "stream",
     "text": [
      "<!DOCTYPE html>\n",
      "<html>\n",
      " <head>\n",
      "  <title>\n",
      "   Learning Beautiful Soup\n",
      "  </title>\n",
      " </head>\n",
      " <body>\n",
      "  <h1>\n",
      "   About Us\n",
      "  </h1>\n",
      "  <div class=\"first_div\">\n",
      "   <p>\n",
      "    Coding Ninjas Website\n",
      "   </p>\n",
      "   <a href=\"https://www.codingninjas.in/\">\n",
      "    Link to Coding Ninjas Website\n",
      "   </a>\n",
      "   <ul>\n",
      "    <li>\n",
      "     This\n",
      "    </li>\n",
      "    <li>\n",
      "     is\n",
      "    </li>\n",
      "    <li>\n",
      "     an\n",
      "    </li>\n",
      "    <li>\n",
      "     unordered\n",
      "    </li>\n",
      "    <li>\n",
      "     list.\n",
      "    </li>\n",
      "   </ul>\n",
      "  </div>\n",
      "  <p id=\"template_p\">\n",
      "   This is a template paragraph tag\n",
      "  </p>\n",
      "  <a href=\"https://www.facebook.com/codingninjas/\">\n",
      "   This is the link of our Facebook Page\n",
      "  </a>\n",
      " </body>\n",
      "</html>\n",
      "\n"
     ]
    }
   ],
   "source": [
    "print(data.prettify())"
   ]
  },
  {
   "cell_type": "code",
   "execution_count": 6,
   "id": "510f43fc-c000-4d6c-884b-7e1f2bf901f2",
   "metadata": {},
   "outputs": [
    {
     "name": "stdout",
     "output_type": "stream",
     "text": [
      "<body><h1> About Us </h1><div class=\"first_div\"><p>Coding Ninjas Website</p><a href=\"https://www.codingninjas.in/\">Link to Coding Ninjas Website</a><ul><li>This</li><li>is</li><li>an</li><li>unordered</li><li>list.</li></ul></div><p id=\"template_p\">This is a template paragraph tag</p><a href=\"https://www.facebook.com/codingninjas/\">This is the link of our Facebook Page</a></body>\n"
     ]
    }
   ],
   "source": [
    "print(data.body)"
   ]
  },
  {
   "cell_type": "code",
   "execution_count": 10,
   "id": "7fb75f9a-767c-4134-ae3e-83b6a98d44f1",
   "metadata": {},
   "outputs": [
    {
     "name": "stdout",
     "output_type": "stream",
     "text": [
      "class\n"
     ]
    }
   ],
   "source": [
    "ans = data.div.attrs\n",
    "for ele in ans:\n",
    "    print(ele) "
   ]
  },
  {
   "cell_type": "code",
   "execution_count": 12,
   "id": "6482b15a-ae0c-43cc-8d70-eabfb0b6af53",
   "metadata": {},
   "outputs": [
    {
     "name": "stdout",
     "output_type": "stream",
     "text": [
      "This is an unordered list. "
     ]
    }
   ],
   "source": [
    "ans = data.find_all('li')\n",
    "for ele in ans:\n",
    "    print (ele.text, end = \" \")"
   ]
  },
  {
   "cell_type": "code",
   "execution_count": 13,
   "id": "fd5fe4bb-f27f-469c-ac4b-d2d57560b2d6",
   "metadata": {},
   "outputs": [
    {
     "name": "stdout",
     "output_type": "stream",
     "text": [
      "https://www.codingninjas.in/\n",
      "https://www.facebook.com/codingninjas/\n"
     ]
    }
   ],
   "source": [
    "ans = data.find_all('a')\n",
    "for ele in ans:\n",
    "    print(ele.attrs['href'])"
   ]
  },
  {
   "cell_type": "code",
   "execution_count": 1,
   "id": "bb2a30d9-8d89-4003-b927-1477a8f2f4ad",
   "metadata": {},
   "outputs": [],
   "source": [
    "html = '<!DOCTYPE html><html><head><title>Navigate Parse Tree</title></head>\\\n",
    "<body><h1>This is your Assignment</h1><a href = \"https://www.google.com\">This is a link that will take you to Google</a>\\\n",
    "<ul><li><p> This question is given to test your knowledge of <b>Web Scraping</b></p>\\\n",
    "<p>Web scraping is a term used to describe the use of a program or algorithm to extract and process large amounts of data from the web.</p></li>\\\n",
    "<li id = \"li2\">This is an li tag given to you for scraping</li>\\\n",
    "<li>This li tag gives you the various ways to get data from a website\\\n",
    "<ol><li class = \"list_or\">Using API of the website</li><li>Scrape data using BeautifulSoup</li><li>Scrape data using Selenium</li>\\\n",
    "<li>Scrape data using Scrapy</li></ol></li>\\\n",
    "<li class = \"list_or\"><a href=\"https://www.crummy.com/software/BeautifulSoup/bs4/doc/\">\\\n",
    "Clicking on this takes you to the documentation of BeautifulSoup</a>\\\n",
    "<a href=\"https://selenium-python.readthedocs.io/\" id=\"anchor\">Clicking on this takes you to the documentation of Selenium</a>\\\n",
    "</li></ul></body></html>'"
   ]
  },
  {
   "cell_type": "code",
   "execution_count": 7,
   "id": "1dae619f-27a9-4c01-9a92-50ff2aed4843",
   "metadata": {},
   "outputs": [
    {
     "name": "stdout",
     "output_type": "stream",
     "text": [
      "<!DOCTYPE html>\n",
      "<html>\n",
      " <head>\n",
      "  <title>\n",
      "   Navigate Parse Tree\n",
      "  </title>\n",
      " </head>\n",
      " <body>\n",
      "  <h1>\n",
      "   This is your Assignment\n",
      "  </h1>\n",
      "  <a href=\"https://www.google.com\">\n",
      "   This is a link that will take you to Google\n",
      "  </a>\n",
      "  <ul>\n",
      "   <li>\n",
      "    <p>\n",
      "     This question is given to test your knowledge of\n",
      "     <b>\n",
      "      Web Scraping\n",
      "     </b>\n",
      "    </p>\n",
      "    <p>\n",
      "     Web scraping is a term used to describe the use of a program or algorithm to extract and process large amounts of data from the web.\n",
      "    </p>\n",
      "   </li>\n",
      "   <li id=\"li2\">\n",
      "    This is an li tag given to you for scraping\n",
      "   </li>\n",
      "   <li>\n",
      "    This li tag gives you the various ways to get data from a website\n",
      "    <ol>\n",
      "     <li class=\"list_or\">\n",
      "      Using API of the website\n",
      "     </li>\n",
      "     <li>\n",
      "      Scrape data using BeautifulSoup\n",
      "     </li>\n",
      "     <li>\n",
      "      Scrape data using Selenium\n",
      "     </li>\n",
      "     <li>\n",
      "      Scrape data using Scrapy\n",
      "     </li>\n",
      "    </ol>\n",
      "   </li>\n",
      "   <li class=\"list_or\">\n",
      "    <a href=\"https://www.crummy.com/software/BeautifulSoup/bs4/doc/\">\n",
      "     Clicking on this takes you to the documentation of BeautifulSoup\n",
      "    </a>\n",
      "    <a href=\"https://selenium-python.readthedocs.io/\" id=\"anchor\">\n",
      "     Clicking on this takes you to the documentation of Selenium\n",
      "    </a>\n",
      "   </li>\n",
      "  </ul>\n",
      " </body>\n",
      "</html>\n",
      "\n"
     ]
    }
   ],
   "source": [
    "print(data.prettify())"
   ]
  },
  {
   "cell_type": "code",
   "execution_count": 3,
   "id": "c413a416-44b6-4c96-8cca-e836e5908388",
   "metadata": {},
   "outputs": [],
   "source": [
    "from bs4 import BeautifulSoup"
   ]
  },
  {
   "cell_type": "code",
   "execution_count": 5,
   "id": "d0be81be-bb0b-4b99-b7a3-8d36cddf6235",
   "metadata": {},
   "outputs": [
    {
     "name": "stdout",
     "output_type": "stream",
     "text": [
      "32\n"
     ]
    }
   ],
   "source": [
    "data = BeautifulSoup(html,'html.parser')\n",
    "li1 = list(data.html.children)\n",
    "li2 = list(data.html.descendants)\n",
    "print(len(li2)-len(li1))"
   ]
  },
  {
   "cell_type": "code",
   "execution_count": 8,
   "id": "13ed6abb-c4ea-4965-a505-eaf51e4be196",
   "metadata": {},
   "outputs": [
    {
     "name": "stdout",
     "output_type": "stream",
     "text": [
      "li\n",
      "a\n"
     ]
    }
   ],
   "source": [
    "ans = data.find_all(id = True)\n",
    "for i in ans:\n",
    "    print(i.name)"
   ]
  },
  {
   "cell_type": "code",
   "execution_count": 17,
   "id": "04e5d175-8b18-47e9-bee9-e4e0c674eee1",
   "metadata": {},
   "outputs": [
    {
     "name": "stdout",
     "output_type": "stream",
     "text": [
      "<li>This li tag gives you the various ways to get data from a website<ol><li class=\"list_or\">Using API of the website</li><li>Scrape data using BeautifulSoup</li><li>Scrape data using Selenium</li><li>Scrape data using Scrapy</li></ol></li>\n",
      "<li class=\"list_or\"><a href=\"https://www.crummy.com/software/BeautifulSoup/bs4/doc/\">Clicking on this takes you to the documentation of BeautifulSoup</a><a href=\"https://selenium-python.readthedocs.io/\" id=\"anchor\">Clicking on this takes you to the documentation of Selenium</a></li>\n"
     ]
    }
   ],
   "source": [
    "page = data.find(\"li\", {\"id\" : \"li2\"})\n",
    "temp = list(page.next_siblings)\n",
    "for ele in temp:\n",
    "    print(ele)"
   ]
  },
  {
   "cell_type": "code",
   "execution_count": 19,
   "id": "bb65827b-e6cb-42ff-b912-b362c28ea074",
   "metadata": {},
   "outputs": [
    {
     "name": "stdout",
     "output_type": "stream",
     "text": [
      "[<head><title>Navigate Parse Tree</title></head>, <html><head><title>Navigate Parse Tree</title></head><body><h1>This is your Assignment</h1><a href=\"https://www.google.com\">This is a link that will take you to Google</a><ul><li><p> This question is given to test your knowledge of <b>Web Scraping</b></p><p>Web scraping is a term used to describe the use of a program or algorithm to extract and process large amounts of data from the web.</p></li><li id=\"li2\">This is an li tag given to you for scraping</li><li>This li tag gives you the various ways to get data from a website<ol><li class=\"list_or\">Using API of the website</li><li>Scrape data using BeautifulSoup</li><li>Scrape data using Selenium</li><li>Scrape data using Scrapy</li></ol></li><li class=\"list_or\"><a href=\"https://www.crummy.com/software/BeautifulSoup/bs4/doc/\">Clicking on this takes you to the documentation of BeautifulSoup</a><a href=\"https://selenium-python.readthedocs.io/\" id=\"anchor\">Clicking on this takes you to the documentation of Selenium</a></li></ul></body></html>, <!DOCTYPE html>\n",
      "<html><head><title>Navigate Parse Tree</title></head><body><h1>This is your Assignment</h1><a href=\"https://www.google.com\">This is a link that will take you to Google</a><ul><li><p> This question is given to test your knowledge of <b>Web Scraping</b></p><p>Web scraping is a term used to describe the use of a program or algorithm to extract and process large amounts of data from the web.</p></li><li id=\"li2\">This is an li tag given to you for scraping</li><li>This li tag gives you the various ways to get data from a website<ol><li class=\"list_or\">Using API of the website</li><li>Scrape data using BeautifulSoup</li><li>Scrape data using Selenium</li><li>Scrape data using Scrapy</li></ol></li><li class=\"list_or\"><a href=\"https://www.crummy.com/software/BeautifulSoup/bs4/doc/\">Clicking on this takes you to the documentation of BeautifulSoup</a><a href=\"https://selenium-python.readthedocs.io/\" id=\"anchor\">Clicking on this takes you to the documentation of Selenium</a></li></ul></body></html>]\n"
     ]
    }
   ],
   "source": [
    "page = data.find('title')\n",
    "temp = list(page.parents)\n",
    "print(temp)"
   ]
  },
  {
   "cell_type": "code",
   "execution_count": 4,
   "id": "18e77f9e-ded7-485b-9c78-1ef8232d8cbf",
   "metadata": {},
   "outputs": [
    {
     "name": "stdout",
     "output_type": "stream",
     "text": [
      "This is the link of our Facebook Page\n"
     ]
    }
   ],
   "source": [
    "page = data.find_all('a')[1]\n",
    "print(page.next_element)"
   ]
  },
  {
   "cell_type": "code",
   "execution_count": 1,
   "id": "66ff6369-86f4-4433-acdc-37724985f870",
   "metadata": {},
   "outputs": [],
   "source": [
    "import requests"
   ]
  },
  {
   "cell_type": "code",
   "execution_count": 2,
   "id": "992e15f6-7a49-44ef-aca5-9d920989caec",
   "metadata": {},
   "outputs": [
    {
     "data": {
      "text/plain": [
       "<Response [200]>"
      ]
     },
     "execution_count": 2,
     "metadata": {},
     "output_type": "execute_result"
    }
   ],
   "source": [
    "response = requests.get(\"https://info.cern.ch/hypertext/WWW/TheProject.html\")\n",
    "response"
   ]
  },
  {
   "cell_type": "code",
   "execution_count": 7,
   "id": "430e2db2-10c1-4bc5-b87a-cc3b9f84b7bc",
   "metadata": {},
   "outputs": [
    {
     "data": {
      "text/plain": [
       "{'Date': 'Fri, 18 Oct 2024 13:00:26 GMT', 'Server': 'Apache', 'Last-Modified': 'Thu, 03 Dec 1992 08:37:20 GMT', 'ETag': '\"8a9-291e721905000\"', 'Accept-Ranges': 'bytes', 'Content-Length': '2217', 'Connection': 'close', 'Content-Type': 'text/html'}"
      ]
     },
     "execution_count": 7,
     "metadata": {},
     "output_type": "execute_result"
    }
   ],
   "source": [
    "response.headers"
   ]
  },
  {
   "cell_type": "code",
   "execution_count": 3,
   "id": "fe8c9857-9980-4935-b6c8-0555c5adc313",
   "metadata": {},
   "outputs": [],
   "source": [
    "html_data = response.text"
   ]
  },
  {
   "cell_type": "code",
   "execution_count": 7,
   "id": "5882c12b-cdfd-46b1-9c4b-e20dc1376dbe",
   "metadata": {},
   "outputs": [
    {
     "name": "stdout",
     "output_type": "stream",
     "text": [
      "<header>\n",
      " <title>\n",
      "  The World Wide Web project\n",
      " </title>\n",
      " <nextid n=\"55\"/>\n",
      "</header>\n",
      "<body>\n",
      " <h1>\n",
      "  World Wide Web\n",
      " </h1>\n",
      " The WorldWideWeb (W3) is a wide-area\n",
      " <a href=\"WhatIs.html\" name=\"0\">\n",
      "  hypermedia\n",
      " </a>\n",
      " information retrieval\n",
      "initiative aiming to give universal\n",
      "access to a large universe of documents.\n",
      " <p>\n",
      "  Everything there is online about\n",
      "W3 is linked directly or indirectly\n",
      "to this document, including an\n",
      "  <a href=\"Summary.html\" name=\"24\">\n",
      "   executive\n",
      "summary\n",
      "  </a>\n",
      "  of the project,\n",
      "  <a href=\"Administration/Mailing/Overview.html\" name=\"29\">\n",
      "   Mailing lists\n",
      "  </a>\n",
      "  ,\n",
      "  <a href=\"Policy.html\" name=\"30\">\n",
      "   Policy\n",
      "  </a>\n",
      "  , November's\n",
      "  <a href=\"News/9211.html\" name=\"34\">\n",
      "   W3  news\n",
      "  </a>\n",
      "  ,\n",
      "  <a href=\"FAQ/List.html\" name=\"41\">\n",
      "   Frequently Asked Questions\n",
      "  </a>\n",
      "  .\n",
      "  <dl>\n",
      "   <dt>\n",
      "    <a href=\"../DataSources/Top.html\" name=\"44\">\n",
      "     What's out there?\n",
      "    </a>\n",
      "    <dd>\n",
      "     Pointers to the\n",
      "world's online information,\n",
      "     <a href=\"../DataSources/bySubject/Overview.html\" name=\"45\">\n",
      "      subjects\n",
      "     </a>\n",
      "     ,\n",
      "     <a href=\"../DataSources/WWW/Servers.html\" name=\"z54\">\n",
      "      W3 servers\n",
      "     </a>\n",
      "     , etc.\n",
      "     <dt>\n",
      "      <a href=\"Help.html\" name=\"46\">\n",
      "       Help\n",
      "      </a>\n",
      "      <dd>\n",
      "       on the browser you are using\n",
      "       <dt>\n",
      "        <a href=\"Status.html\" name=\"13\">\n",
      "         Software Products\n",
      "        </a>\n",
      "        <dd>\n",
      "         A list of W3 project\n",
      "components and their current state.\n",
      "(e.g.\n",
      "         <a href=\"LineMode/Browser.html\" name=\"27\">\n",
      "          Line Mode\n",
      "         </a>\n",
      "         ,X11\n",
      "         <a href=\"Status.html#35\" name=\"35\">\n",
      "          Viola\n",
      "         </a>\n",
      "         ,\n",
      "         <a href=\"NeXT/WorldWideWeb.html\" name=\"26\">\n",
      "          NeXTStep\n",
      "         </a>\n",
      "         ,\n",
      "         <a href=\"Daemon/Overview.html\" name=\"25\">\n",
      "          Servers\n",
      "         </a>\n",
      "         ,\n",
      "         <a href=\"Tools/Overview.html\" name=\"51\">\n",
      "          Tools\n",
      "         </a>\n",
      "         ,\n",
      "         <a href=\"MailRobot/Overview.html\" name=\"53\">\n",
      "          Mail robot\n",
      "         </a>\n",
      "         ,\n",
      "         <a href=\"Status.html#57\" name=\"52\">\n",
      "          Library\n",
      "         </a>\n",
      "         )\n",
      "         <dt>\n",
      "          <a href=\"Technical.html\" name=\"47\">\n",
      "           Technical\n",
      "          </a>\n",
      "          <dd>\n",
      "           Details of protocols, formats,\n",
      "program internals etc\n",
      "           <dt>\n",
      "            <a href=\"Bibliography.html\" name=\"40\">\n",
      "             Bibliography\n",
      "            </a>\n",
      "            <dd>\n",
      "             Paper documentation\n",
      "on  W3 and references.\n",
      "             <dt>\n",
      "              <a href=\"People.html\" name=\"14\">\n",
      "               People\n",
      "              </a>\n",
      "              <dd>\n",
      "               A list of some people involved\n",
      "in the project.\n",
      "               <dt>\n",
      "                <a href=\"History.html\" name=\"15\">\n",
      "                 History\n",
      "                </a>\n",
      "                <dd>\n",
      "                 A summary of the history\n",
      "of the project.\n",
      "                 <dt>\n",
      "                  <a href=\"Helping.html\" name=\"37\">\n",
      "                   How can I help\n",
      "                  </a>\n",
      "                  ?\n",
      "                  <dd>\n",
      "                   If you would like\n",
      "to support the web..\n",
      "                   <dt>\n",
      "                    <a href=\"../README.html\" name=\"48\">\n",
      "                     Getting code\n",
      "                    </a>\n",
      "                    <dd>\n",
      "                     Getting the code by\n",
      "                     <a href=\"LineMode/Defaults/Distribution.html\" name=\"49\">\n",
      "                      anonymous FTP\n",
      "                     </a>\n",
      "                     , etc.\n",
      "                    </dd>\n",
      "                   </dt>\n",
      "                  </dd>\n",
      "                 </dt>\n",
      "                </dd>\n",
      "               </dt>\n",
      "              </dd>\n",
      "             </dt>\n",
      "            </dd>\n",
      "           </dt>\n",
      "          </dd>\n",
      "         </dt>\n",
      "        </dd>\n",
      "       </dt>\n",
      "      </dd>\n",
      "     </dt>\n",
      "    </dd>\n",
      "   </dt>\n",
      "  </dl>\n",
      " </p>\n",
      "</body>\n",
      "\n"
     ]
    }
   ],
   "source": [
    "data = BeautifulSoup(html_data, 'html.parser')\n",
    "print(data.prettify())\n"
   ]
  },
  {
   "cell_type": "code",
   "execution_count": 12,
   "id": "99538d66-ef86-4313-a3de-1b261b597d90",
   "metadata": {},
   "outputs": [
    {
     "name": "stdout",
     "output_type": "stream",
     "text": [
      "\n",
      "The World Wide Web project\n",
      "\n",
      "\n",
      "\n",
      "World Wide WebThe WorldWideWeb (W3) is a wide-area\n",
      "hypermedia information retrieval\n",
      "initiative aiming to give universal\n",
      "access to a large universe of documents.\n",
      "Everything there is online about\n",
      "W3 is linked directly or indirectly\n",
      "to this document, including an executive\n",
      "summary of the project, Mailing lists\n",
      ", Policy , November's  W3  news ,\n",
      "Frequently Asked Questions .\n",
      "\n",
      "What's out there?\n",
      " Pointers to the\n",
      "world's online information, subjects\n",
      ", W3 servers, etc.\n",
      "Help\n",
      " on the browser you are using\n",
      "Software Products\n",
      " A list of W3 project\n",
      "components and their current state.\n",
      "(e.g. Line Mode ,X11 Viola ,  NeXTStep\n",
      ", Servers , Tools , Mail robot ,\n",
      "Library )\n",
      "Technical\n",
      " Details of protocols, formats,\n",
      "program internals etc\n",
      "Bibliography\n",
      " Paper documentation\n",
      "on  W3 and references.\n",
      "People\n",
      " A list of some people involved\n",
      "in the project.\n",
      "History\n",
      " A summary of the history\n",
      "of the project.\n",
      "How can I help ?\n",
      " If you would like\n",
      "to support the web..\n",
      "Getting code\n",
      " Getting the code by\n",
      "anonymous FTP , etc.\n",
      "\n",
      "\n",
      "\n"
     ]
    }
   ],
   "source": [
    "# to get the complete text on the web page\n",
    "print(data.get_text())"
   ]
  },
  {
   "cell_type": "code",
   "execution_count": 13,
   "id": "6f60d3ff-7ec8-41c2-9311-8a0f7463adab",
   "metadata": {},
   "outputs": [
    {
     "data": {
      "text/plain": [
       "'WhatIs.html'"
      ]
     },
     "execution_count": 13,
     "metadata": {},
     "output_type": "execute_result"
    }
   ],
   "source": [
    "data.a['href']"
   ]
  },
  {
   "cell_type": "code",
   "execution_count": 8,
   "id": "bb590dce-be8b-4272-bbf7-85f28d4c419e",
   "metadata": {},
   "outputs": [
    {
     "name": "stdout",
     "output_type": "stream",
     "text": [
      "25\n"
     ]
    }
   ],
   "source": [
    "li = data.find_all('a')\n",
    "print(len(li))"
   ]
  },
  {
   "cell_type": "code",
   "execution_count": 17,
   "id": "0d04f1f9-9c31-4ae9-a271-f3f73073d793",
   "metadata": {},
   "outputs": [
    {
     "name": "stdout",
     "output_type": "stream",
     "text": [
      "<a href=\"WhatIs.html\" name=\"0\">\n",
      "hypermedia</a>\n",
      "<a href=\"Summary.html\" name=\"24\">executive\n",
      "summary</a>\n",
      "<a href=\"Administration/Mailing/Overview.html\" name=\"29\">Mailing lists</a>\n",
      "<a href=\"Policy.html\" name=\"30\">Policy</a>\n",
      "<a href=\"News/9211.html\" name=\"34\">W3  news</a>\n",
      "<a href=\"FAQ/List.html\" name=\"41\">Frequently Asked Questions</a>\n",
      "<a href=\"../DataSources/Top.html\" name=\"44\">What's out there?</a>\n",
      "<a href=\"../DataSources/bySubject/Overview.html\" name=\"45\"> subjects</a>\n",
      "<a href=\"../DataSources/WWW/Servers.html\" name=\"z54\">W3 servers</a>\n",
      "<a href=\"Help.html\" name=\"46\">Help</a>\n",
      "<a href=\"Status.html\" name=\"13\">Software Products</a>\n",
      "<a href=\"LineMode/Browser.html\" name=\"27\">Line Mode</a>\n",
      "<a href=\"Status.html#35\" name=\"35\">Viola</a>\n",
      "<a href=\"NeXT/WorldWideWeb.html\" name=\"26\">NeXTStep</a>\n",
      "<a href=\"Daemon/Overview.html\" name=\"25\">Servers</a>\n",
      "<a href=\"Tools/Overview.html\" name=\"51\">Tools</a>\n",
      "<a href=\"MailRobot/Overview.html\" name=\"53\"> Mail robot</a>\n",
      "<a href=\"Status.html#57\" name=\"52\">\n",
      "Library</a>\n",
      "<a href=\"Technical.html\" name=\"47\">Technical</a>\n",
      "<a href=\"Bibliography.html\" name=\"40\">Bibliography</a>\n",
      "<a href=\"People.html\" name=\"14\">People</a>\n",
      "<a href=\"History.html\" name=\"15\">History</a>\n",
      "<a href=\"Helping.html\" name=\"37\">How can I help</a>\n",
      "<a href=\"../README.html\" name=\"48\">Getting code</a>\n",
      "<a href=\"LineMode/Defaults/Distribution.html\" name=\"49\">\n",
      "anonymous FTP</a>\n"
     ]
    }
   ],
   "source": [
    "for i in li:\n",
    "    print(i)"
   ]
  },
  {
   "cell_type": "code",
   "execution_count": 18,
   "id": "6c6e6e93-b60a-4777-b56c-b3efadd4acf6",
   "metadata": {},
   "outputs": [
    {
     "name": "stdout",
     "output_type": "stream",
     "text": [
      "\n",
      "hypermedia\n",
      "executive\n",
      "summary\n",
      "Mailing lists\n",
      "Policy\n",
      "W3  news\n",
      "Frequently Asked Questions\n",
      "What's out there?\n",
      " subjects\n",
      "W3 servers\n",
      "Help\n",
      "Software Products\n",
      "Line Mode\n",
      "Viola\n",
      "NeXTStep\n",
      "Servers\n",
      "Tools\n",
      " Mail robot\n",
      "\n",
      "Library\n",
      "Technical\n",
      "Bibliography\n",
      "People\n",
      "History\n",
      "How can I help\n",
      "Getting code\n",
      "\n",
      "anonymous FTP\n"
     ]
    }
   ],
   "source": [
    "for i in li:\n",
    "    print(i.string)"
   ]
  },
  {
   "cell_type": "code",
   "execution_count": 12,
   "id": "1360a404-f518-45e1-9ed9-4a5580406faa",
   "metadata": {},
   "outputs": [
    {
     "name": "stdout",
     "output_type": "stream",
     "text": [
      "19\n"
     ]
    }
   ],
   "source": [
    "li_2 = data.dl.find_all('a')\n",
    "print(len(li_2))"
   ]
  },
  {
   "cell_type": "code",
   "execution_count": 14,
   "id": "c66f5fff-5458-4c0f-835d-d14333d635a6",
   "metadata": {},
   "outputs": [
    {
     "name": "stdout",
     "output_type": "stream",
     "text": [
      "What's out there?\n",
      " subjects\n",
      "W3 servers\n",
      "Help\n",
      "Software Products\n",
      "Line Mode\n",
      "Viola\n",
      "NeXTStep\n",
      "Servers\n",
      "Tools\n",
      " Mail robot\n",
      "\n",
      "Library\n",
      "Technical\n",
      "Bibliography\n",
      "People\n",
      "History\n",
      "How can I help\n",
      "Getting code\n",
      "\n",
      "anonymous FTP\n"
     ]
    }
   ],
   "source": [
    "for i in li_2:\n",
    "    print(i.string)"
   ]
  },
  {
   "cell_type": "code",
   "execution_count": 15,
   "id": "49f2f82d-12cc-4dd0-a642-5a2c63cb5f2f",
   "metadata": {},
   "outputs": [],
   "source": [
    "li_3 = data.dl.find_all('dt')"
   ]
  },
  {
   "cell_type": "code",
   "execution_count": 17,
   "id": "f5b10a68-a862-4f04-87a8-6af5764e2dbf",
   "metadata": {},
   "outputs": [
    {
     "name": "stdout",
     "output_type": "stream",
     "text": [
      "What's out there?\n",
      "Help\n",
      "Software Products\n",
      "Technical\n",
      "Bibliography\n",
      "People\n",
      "History\n",
      "How can I help\n",
      "Getting code\n"
     ]
    }
   ],
   "source": [
    "for i in li_3:\n",
    "    print(i.a.string)"
   ]
  },
  {
   "cell_type": "code",
   "execution_count": null,
   "id": "626a6ee4-f2a8-4f53-93d6-2472c58f3cf6",
   "metadata": {},
   "outputs": [],
   "source": []
  }
 ],
 "metadata": {
  "kernelspec": {
   "display_name": "Python 3 (ipykernel)",
   "language": "python",
   "name": "python3"
  },
  "language_info": {
   "codemirror_mode": {
    "name": "ipython",
    "version": 3
   },
   "file_extension": ".py",
   "mimetype": "text/x-python",
   "name": "python",
   "nbconvert_exporter": "python",
   "pygments_lexer": "ipython3",
   "version": "3.12.4"
  }
 },
 "nbformat": 4,
 "nbformat_minor": 5
}
