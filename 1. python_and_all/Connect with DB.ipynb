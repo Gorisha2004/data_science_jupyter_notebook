{
 "cells": [
  {
   "cell_type": "code",
   "execution_count": 2,
   "id": "43fc4776-f96e-4a12-b22e-00ecd730d466",
   "metadata": {},
   "outputs": [
    {
     "data": {
      "text/plain": [
       "<sqlite3.Connection at 0x1d3f85ec8b0>"
      ]
     },
     "execution_count": 2,
     "metadata": {},
     "output_type": "execute_result"
    }
   ],
   "source": [
    "import sqlite3\n",
    "\n",
    "db = sqlite3.connect('IMDB.sqlite')\n",
    "db"
   ]
  },
  {
   "cell_type": "code",
   "execution_count": 4,
   "id": "94499604-9d4d-4648-a3d2-72dc8f9863ce",
   "metadata": {},
   "outputs": [
    {
     "data": {
      "text/plain": [
       "<sqlite3.Connection at 0x1d3f85ed030>"
      ]
     },
     "execution_count": 4,
     "metadata": {},
     "output_type": "execute_result"
    }
   ],
   "source": [
    "db = sqlite3.connect('School.sqlite')\n",
    "db"
   ]
  },
  {
   "cell_type": "code",
   "execution_count": 1,
   "id": "10f928c9-8ab7-4215-80cd-1f8a0adf3950",
   "metadata": {},
   "outputs": [],
   "source": [
    "import sqlite3"
   ]
  },
  {
   "cell_type": "code",
   "execution_count": 19,
   "id": "7230e166-2c8f-43ee-af8d-991897575340",
   "metadata": {},
   "outputs": [
    {
     "ename": "DatabaseError",
     "evalue": "file is not a database",
     "output_type": "error",
     "traceback": [
      "\u001b[1;31m---------------------------------------------------------------------------\u001b[0m",
      "\u001b[1;31mDatabaseError\u001b[0m                             Traceback (most recent call last)",
      "Cell \u001b[1;32mIn[19], line 12\u001b[0m\n\u001b[0;32m      9\u001b[0m cur \u001b[38;5;241m=\u001b[39m conn\u001b[38;5;241m.\u001b[39mcursor()\n\u001b[0;32m     11\u001b[0m \u001b[38;5;66;03m# Create the Counts table\u001b[39;00m\n\u001b[1;32m---> 12\u001b[0m cur\u001b[38;5;241m.\u001b[39mexecute(\u001b[38;5;124m'''\u001b[39m\n\u001b[0;32m     13\u001b[0m \u001b[38;5;124mCREATE TABLE IF NOT EXISTS Counts (\u001b[39m\n\u001b[0;32m     14\u001b[0m \u001b[38;5;124m    org TEXT,\u001b[39m\n\u001b[0;32m     15\u001b[0m \u001b[38;5;124m    count INTEGER\u001b[39m\n\u001b[0;32m     16\u001b[0m \u001b[38;5;124m)\u001b[39m\n\u001b[0;32m     17\u001b[0m \u001b[38;5;124m'''\u001b[39m)\n\u001b[0;32m     19\u001b[0m \u001b[38;5;66;03m# Function to execute a command with retry\u001b[39;00m\n\u001b[0;32m     20\u001b[0m \u001b[38;5;28;01mdef\u001b[39;00m \u001b[38;5;21mexecute_with_retry\u001b[39m(query, params\u001b[38;5;241m=\u001b[39m\u001b[38;5;28;01mNone\u001b[39;00m, retries\u001b[38;5;241m=\u001b[39m\u001b[38;5;241m5\u001b[39m):\n",
      "\u001b[1;31mDatabaseError\u001b[0m: file is not a database"
     ]
    }
   ],
   "source": [
    "import sqlite3\n",
    "import time\n",
    "\n",
    "# Specify the path to your mbox.txt file\n",
    "filename = 'mbox.txt'  # Update this if it's in a different location\n",
    "\n",
    "# Create a new SQLite database or connect to an existing one\n",
    "conn = sqlite3.connect('emaildb.sqlite', timeout=10)  # This will create 'emaildb.sqlite' in your current directory\n",
    "cur = conn.cursor()\n",
    "\n",
    "# Create the Counts table\n",
    "cur.execute('''\n",
    "CREATE TABLE IF NOT EXISTS Counts (\n",
    "    org TEXT,\n",
    "    count INTEGER\n",
    ")\n",
    "''')\n",
    "\n",
    "# Function to execute a command with retry\n",
    "def execute_with_retry(query, params=None, retries=5):\n",
    "    for attempt in range(retries):\n",
    "        try:\n",
    "            if params:\n",
    "                cur.execute(query, params)\n",
    "            else:\n",
    "                cur.execute(query)\n",
    "            return  # Exit the function if successful\n",
    "        except sqlite3.OperationalError as e:\n",
    "            if \"locked\" in str(e):\n",
    "                print(\"Database is locked, retrying...\")\n",
    "                time.sleep(1)  # Wait before retrying\n",
    "            else:\n",
    "                raise  # Raise the error if it's not a locking issue\n",
    "\n",
    "# Clear the table before inserting new data\n",
    "execute_with_retry('DELETE FROM Counts')\n",
    "\n",
    "# Open the mbox file and process it\n",
    "with open(filename, 'r') as fh:\n",
    "    for line in fh:\n",
    "        if not line.startswith('From '):\n",
    "            continue\n",
    "        words = line.split()\n",
    "        email = words[1]\n",
    "        domain = email.split('@')[1]\n",
    "\n",
    "        # Insert or update the count in the database\n",
    "        execute_with_retry('SELECT count FROM Counts WHERE org = ?', (domain,))\n",
    "        row = cur.fetchone()\n",
    "        if row is None:\n",
    "            execute_with_retry('INSERT INTO Counts (org, count) VALUES (?, ?)', (domain, 1))\n",
    "        else:\n",
    "            execute_with_retry('UPDATE Counts SET count = count + 1 WHERE org = ?', (domain,))\n",
    "\n",
    "# Commit the changes to the database\n",
    "conn.commit()\n",
    "\n",
    "# Close the connection\n",
    "conn.close()\n",
    "\n",
    "print(\"Database 'emaildb.sqlite' has been created with email counts.\")\n"
   ]
  },
  {
   "cell_type": "code",
   "execution_count": 20,
   "id": "f396b0ca-c2cf-46ff-8b0d-6052c221f3dd",
   "metadata": {},
   "outputs": [
    {
     "ename": "OperationalError",
     "evalue": "near \"del\": syntax error",
     "output_type": "error",
     "traceback": [
      "\u001b[1;31m---------------------------------------------------------------------------\u001b[0m",
      "\u001b[1;31mOperationalError\u001b[0m                          Traceback (most recent call last)",
      "Cell \u001b[1;32mIn[20], line 1\u001b[0m\n\u001b[1;32m----> 1\u001b[0m cur\u001b[38;5;241m.\u001b[39mexecute(\u001b[38;5;124m'\u001b[39m\u001b[38;5;124mdel emaildb.sqlite\u001b[39m\u001b[38;5;124m'\u001b[39m)\n",
      "\u001b[1;31mOperationalError\u001b[0m: near \"del\": syntax error"
     ]
    }
   ],
   "source": [
    "cur.execute('del emaildb.sqlite')"
   ]
  },
  {
   "cell_type": "code",
   "execution_count": null,
   "id": "5904b6ca-7766-40b8-a302-828026ca57dd",
   "metadata": {},
   "outputs": [],
   "source": []
  }
 ],
 "metadata": {
  "kernelspec": {
   "display_name": "Python 3 (ipykernel)",
   "language": "python",
   "name": "python3"
  },
  "language_info": {
   "codemirror_mode": {
    "name": "ipython",
    "version": 3
   },
   "file_extension": ".py",
   "mimetype": "text/x-python",
   "name": "python",
   "nbconvert_exporter": "python",
   "pygments_lexer": "ipython3",
   "version": "3.12.4"
  }
 },
 "nbformat": 4,
 "nbformat_minor": 5
}
