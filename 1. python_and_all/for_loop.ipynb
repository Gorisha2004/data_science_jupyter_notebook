{
 "cells": [
  {
   "cell_type": "code",
   "execution_count": 4,
   "id": "838f10bb-8520-4130-b2ff-ab42a03ec035",
   "metadata": {},
   "outputs": [
    {
     "name": "stdin",
     "output_type": "stream",
     "text": [
      "Enter the number of terms:  4\n"
     ]
    },
    {
     "name": "stdout",
     "output_type": "stream",
     "text": [
      "5 11 14 17 "
     ]
    }
   ],
   "source": [
    "x = int(input(\"Enter the number of terms: \"))\n",
    "count = 0\n",
    "n = 1\n",
    "\n",
    "for n in range(1, 1000):  # The range is set high enough to ensure we get `x` valid terms\n",
    "    term = 3 * n + 2\n",
    "    if term % 4 != 0:\n",
    "        print(term, end=' ')\n",
    "        count += 1\n",
    "    if count == x:\n",
    "        break\n"
   ]
  },
  {
   "cell_type": "code",
   "execution_count": 8,
   "id": "adfa136d-1dbd-4ed1-b3f6-b6369fd9519a",
   "metadata": {},
   "outputs": [
    {
     "name": "stdin",
     "output_type": "stream",
     "text": [
      " 3\n"
     ]
    },
    {
     "name": "stdout",
     "output_type": "stream",
     "text": [
      "  1\n",
      " 232\n",
      "34543\n"
     ]
    }
   ],
   "source": [
    "n = int ( input())\n",
    "i = 1\n",
    "for i in range ( 1, n+1, 1):\n",
    "    for s in range ( n-i):\n",
    "        print (\" \", end = '')\n",
    "    for j in range (i, 2*i, 1):\n",
    "        print ( j , end='')\n",
    "    for j in range(2*i - 2, i-1, -1):\n",
    "        print (j, end='')\n",
    "    print()"
   ]
  },
  {
   "cell_type": "code",
   "execution_count": null,
   "id": "9b5675ac-5327-4e4a-bdcb-2516c956001a",
   "metadata": {},
   "outputs": [],
   "source": [
    "n = int (input(\"enter any number\"))\n",
    "print (\"1. sum \\n 2. product\")\n",
    "c = int (input(\"enter your choice\"))\n",
    "i = 1\n",
    "sum = 0\n",
    "product = 1\n",
    "if (c==1):\n",
    "    for i in range (i, n+1, 1):\n",
    "        sum = sum + i\n",
    "    print (sum)\n",
    "if (c==2):\n",
    "    for i in range (i, n+1, 1):\n",
    "        product = product * i\n",
    "    print (product)"
   ]
  },
  {
   "cell_type": "markdown",
   "id": "7debebcd-ad6b-45a0-a24a-fac4495be255",
   "metadata": {},
   "source": [
    "### Square root\n"
   ]
  },
  {
   "cell_type": "code",
   "execution_count": 32,
   "id": "36d51ff2-a335-45c1-aeb2-0826f52a87d7",
   "metadata": {},
   "outputs": [
    {
     "name": "stdin",
     "output_type": "stream",
     "text": [
      " 45\n"
     ]
    },
    {
     "name": "stdout",
     "output_type": "stream",
     "text": [
      "6\n"
     ]
    }
   ],
   "source": [
    "N = int (input())\n",
    "low, high = 0, N\n",
    "while low <= high:\n",
    "    mid = (low + high) // 2\n",
    "    if mid * mid == N:\n",
    "        result = mid\n",
    "        break\n",
    "    elif mid * mid < N:\n",
    "        low = mid + 1\n",
    "        result = mid\n",
    "    else:\n",
    "        high = mid - 1\n",
    "        result = high\n",
    "print (result)"
   ]
  },
  {
   "cell_type": "code",
   "execution_count": 38,
   "id": "57f2caa4-d6c4-499e-b557-9008d95578ad",
   "metadata": {},
   "outputs": [
    {
     "name": "stdin",
     "output_type": "stream",
     "text": [
      "Enter a string:  sd\n"
     ]
    },
    {
     "name": "stdout",
     "output_type": "stream",
     "text": [
      "s\n",
      "sd\n",
      "d\n",
      "Total number of substrings: 3\n"
     ]
    }
   ],
   "source": [
    "input_string = input(\"Enter a string: \")\n",
    "n = len(input_string)\n",
    "count = 0\n",
    "for start in range(n):\n",
    "    for end in range(start, n):\n",
    "        substring = input_string[start:end+1]\n",
    "        print(substring)\n",
    "        count += 1\n",
    "print(f\"Total number of substrings: {count}\")\n",
    "\n",
    "\n"
   ]
  },
  {
   "cell_type": "code",
   "execution_count": 39,
   "id": "9c4b6a20-044e-4ef5-81e8-61f6835044a0",
   "metadata": {},
   "outputs": [
    {
     "name": "stdin",
     "output_type": "stream",
     "text": [
      " 1 2 3 4 5 6 \n"
     ]
    },
    {
     "name": "stdout",
     "output_type": "stream",
     "text": [
      "3\n"
     ]
    }
   ],
   "source": [
    "l = [int(s) for s in input().split()]\n",
    "even = 0\n",
    "odd = 0\n",
    "for i in l:\n",
    "    if i % 2 == 0:\n",
    "        even += i\n",
    "    else:\n",
    "        odd += i\n",
    "print(even - odd)"
   ]
  },
  {
   "cell_type": "code",
   "execution_count": 47,
   "id": "dfe2e339-23f0-4b56-86a1-bbe0c8e87681",
   "metadata": {},
   "outputs": [
    {
     "name": "stdin",
     "output_type": "stream",
     "text": [
      " 1 2 3 4 5\n"
     ]
    },
    {
     "name": "stdout",
     "output_type": "stream",
     "text": [
      "[2, 1, 4, 3, 5]\n"
     ]
    }
   ],
   "source": [
    "l = [int(s) for s in input().split()]\n",
    "for i in range(0,len(l) - 1,2):\n",
    "    temp = l[i]\n",
    "    l[i] = l[i+1]\n",
    "    l[i+1] = temp\n",
    "print (l)"
   ]
  },
  {
   "cell_type": "code",
   "execution_count": null,
   "id": "fba5a294-d4e1-4426-9a50-184045128748",
   "metadata": {},
   "outputs": [],
   "source": [
    "l = [int(s) for s in input().split()]\n",
    "\n",
    "    "
   ]
  }
 ],
 "metadata": {
  "kernelspec": {
   "display_name": "Python 3 (ipykernel)",
   "language": "python",
   "name": "python3"
  },
  "language_info": {
   "codemirror_mode": {
    "name": "ipython",
    "version": 3
   },
   "file_extension": ".py",
   "mimetype": "text/x-python",
   "name": "python",
   "nbconvert_exporter": "python",
   "pygments_lexer": "ipython3",
   "version": "3.12.4"
  }
 },
 "nbformat": 4,
 "nbformat_minor": 5
}
