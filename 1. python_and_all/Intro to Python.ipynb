{
 "cells": [
  {
   "cell_type": "markdown",
   "id": "35badeac-bfc4-4720-af7f-804f2cb571ca",
   "metadata": {},
   "source": [
    "## intro to python\n",
    "this is intro"
   ]
  },
  {
   "cell_type": "code",
   "execution_count": 4,
   "id": "9003a4a9-6b6c-4323-9f2d-00f104612501",
   "metadata": {},
   "outputs": [
    {
     "name": "stdout",
     "output_type": "stream",
     "text": [
      "10\n"
     ]
    }
   ],
   "source": [
    "a = 10\n",
    "print (a)"
   ]
  },
  {
   "cell_type": "code",
   "execution_count": 5,
   "id": "85f6b115-fdcb-4332-aafd-b31ca96104ee",
   "metadata": {},
   "outputs": [
    {
     "name": "stdin",
     "output_type": "stream",
     "text": [
      "enter marks for subject first 34\n",
      "enter marks for subject second 45\n",
      "enter marks for subject third 12\n"
     ]
    },
    {
     "name": "stdout",
     "output_type": "stream",
     "text": [
      "30.333333333333332\n"
     ]
    }
   ],
   "source": [
    "sub1 = float(input(\"enter marks for subject first\"))\n",
    "sub2 = float(input(\"enter marks for subject second\"))\n",
    "sub3 = float(input(\"enter marks for subject third\"))\n",
    "average = (sub1+sub2+sub3)/3\n",
    "print(average)"
   ]
  },
  {
   "cell_type": "code",
   "execution_count": 11,
   "id": "c75acdd8-61fe-46c7-99f1-eab17f1f9246",
   "metadata": {},
   "outputs": [
    {
     "name": "stdin",
     "output_type": "stream",
     "text": [
      " 2\n"
     ]
    },
    {
     "name": "stdout",
     "output_type": "stream",
     "text": [
      "positive\n"
     ]
    }
   ],
   "source": [
    "n = int (input())\n",
    "if n>0:\n",
    "    print(\"positive\")\n",
    "elif n<0 :\n",
    "    print (\"negative\")\n",
    "else:\n",
    "    print (\"number is zero\")\n"
   ]
  },
  {
   "cell_type": "code",
   "execution_count": 2,
   "id": "3c27b77d-03c9-48ad-b094-c8d3575829b0",
   "metadata": {},
   "outputs": [
    {
     "name": "stdin",
     "output_type": "stream",
     "text": [
      " 23\n"
     ]
    },
    {
     "name": "stdout",
     "output_type": "stream",
     "text": [
      "276\n"
     ]
    }
   ],
   "source": [
    "n = int(input())\n",
    "i = 1\n",
    "sum = 0\n",
    "while (i<=n):\n",
    "    sum = sum+i\n",
    "    i = i+1\n",
    "print (sum)"
   ]
  },
  {
   "cell_type": "code",
   "execution_count": 4,
   "id": "17a3bda2-1b0f-4780-a18f-f125ffb630bd",
   "metadata": {},
   "outputs": [
    {
     "name": "stdin",
     "output_type": "stream",
     "text": [
      " 5\n"
     ]
    },
    {
     "name": "stdout",
     "output_type": "stream",
     "text": [
      "6\n"
     ]
    }
   ],
   "source": [
    "n = int (input())\n",
    "i = 1\n",
    "sum = 0\n",
    "while(i<=n):\n",
    "    if i%2 == 0 :\n",
    "        sum = sum + i\n",
    "    i = i+1\n",
    "print(sum)"
   ]
  },
  {
   "cell_type": "markdown",
   "id": "678ccc5a-4f1f-46d7-8728-9d2ed343c206",
   "metadata": {},
   "source": [
    "### Prime number "
   ]
  },
  {
   "cell_type": "code",
   "execution_count": 7,
   "id": "473d5398-8250-4817-a7ac-fe6b32fda337",
   "metadata": {},
   "outputs": [
    {
     "name": "stdin",
     "output_type": "stream",
     "text": [
      " 12\n"
     ]
    },
    {
     "name": "stdout",
     "output_type": "stream",
     "text": [
      "not prime\n"
     ]
    }
   ],
   "source": [
    "n = int(input())\n",
    "d = 2\n",
    "flag = False\n",
    "while(d<n):\n",
    "    if(n % d == 0):\n",
    "        flag = True\n",
    "    d = d+1\n",
    "if flag:\n",
    "    print(\"not prime\")\n",
    "else :\n",
    "    print(\"prime\")\n",
    "    \n",
    "    "
   ]
  },
  {
   "cell_type": "markdown",
   "id": "92b40c73-24ac-4d8f-b468-ee126e939c47",
   "metadata": {},
   "source": [
    "### Farenheit to celsius"
   ]
  },
  {
   "cell_type": "code",
   "execution_count": 18,
   "id": "5c306ab4-6b01-413d-b891-8ad424b0b721",
   "metadata": {},
   "outputs": [
    {
     "name": "stdin",
     "output_type": "stream",
     "text": [
      " 20\n",
      " 119\n",
      " 23\n"
     ]
    },
    {
     "name": "stdout",
     "output_type": "stream",
     "text": [
      "20    -6\n",
      "43    6\n",
      "66    18\n",
      "89    31\n",
      "112    44\n"
     ]
    }
   ],
   "source": [
    "s = int (input())\n",
    "e = int (input())\n",
    "w = int (input())\n",
    "while(s<=e):\n",
    "    celsius = (5/9) * (s - 32)\n",
    "    print(s, \"  \", int(celsius))\n",
    "    s = s + w\n",
    "    "
   ]
  },
  {
   "cell_type": "markdown",
   "id": "67562002-4498-46ef-8e39-fb5437771cf4",
   "metadata": {},
   "source": [
    "### Calculator\n"
   ]
  },
  {
   "cell_type": "code",
   "execution_count": 31,
   "id": "1647b0f8-cee7-4e54-8f6e-a1141e7ba17c",
   "metadata": {},
   "outputs": [
    {
     "name": "stdin",
     "output_type": "stream",
     "text": [
      "enter first number 2\n",
      "enter second number 3\n",
      "enter choice to perform operation\n",
      " 1. add \n",
      " 2. subtract \n",
      " 3. product \n",
      " 4. divide \n",
      " 5. modulo\n",
      " 6. exit\n",
      "   1\n"
     ]
    },
    {
     "name": "stdout",
     "output_type": "stream",
     "text": [
      "5\n"
     ]
    },
    {
     "name": "stdin",
     "output_type": "stream",
     "text": [
      "enter next choice 2\n"
     ]
    },
    {
     "name": "stdout",
     "output_type": "stream",
     "text": [
      "-1\n"
     ]
    },
    {
     "name": "stdin",
     "output_type": "stream",
     "text": [
      "enter next choice 6\n"
     ]
    }
   ],
   "source": [
    "a = int(input(\"enter first number\"))\n",
    "b = int(input(\"enter second number\"))\n",
    "n = int (input(\"enter choice to perform operation\\n \"\n",
    "\"1. add \\n \"\n",
    "\"2. subtract \\n \"\n",
    "\"3. product \\n \"\n",
    "\"4. divide \\n \"\n",
    "\"5. modulo\\n \"\n",
    "\"6. exit\\n  \"))\n",
    "while(n!=6):\n",
    "    while(n!=6):\n",
    "        if n==1:\n",
    "            print (a+b)\n",
    "            break\n",
    "        elif n==2:\n",
    "            print (a-b)\n",
    "            break\n",
    "        elif n==3:\n",
    "            print (a*b)\n",
    "            break\n",
    "        elif n==4:\n",
    "            print (a/b)\n",
    "            break\n",
    "        elif n==5:\n",
    "            print (a%b)\n",
    "            break\n",
    "        elif n==6:\n",
    "            print (\"thankyou\")\n",
    "            break\n",
    "        else:\n",
    "            print(\"Invalid operation\")\n",
    "            break\n",
    "    n = int(input(\"enter next choice\"))\n",
    "   \n",
    "    "
   ]
  },
  {
   "cell_type": "markdown",
   "id": "fa769dd2-357a-441d-a969-c6965d7cf3cf",
   "metadata": {},
   "source": [
    "### Reverse of a number\n"
   ]
  },
  {
   "cell_type": "code",
   "execution_count": 37,
   "id": "91b05c26-c75c-4b92-8da5-4d089fa97726",
   "metadata": {},
   "outputs": [
    {
     "name": "stdin",
     "output_type": "stream",
     "text": [
      "enter any number 080\n"
     ]
    },
    {
     "name": "stdout",
     "output_type": "stream",
     "text": [
      "8\n"
     ]
    }
   ],
   "source": [
    "n = int(input(\"enter any number\"))\n",
    "reverse = 0\n",
    "while n != 0:\n",
    "    remainder = n%10\n",
    "    reverse = reverse * 10 + remainder\n",
    "    n = n//10\n",
    "\n",
    "print (reverse)\n"
   ]
  },
  {
   "cell_type": "markdown",
   "id": "95209468-1ca9-4feb-b756-5a6e51784441",
   "metadata": {},
   "source": [
    "### Palindrome number\n"
   ]
  },
  {
   "cell_type": "code",
   "execution_count": 40,
   "id": "687bef27-5a00-4f1b-a42e-b919c06e0665",
   "metadata": {},
   "outputs": [
    {
     "name": "stdin",
     "output_type": "stream",
     "text": [
      "enter any number 234\n"
     ]
    },
    {
     "name": "stdout",
     "output_type": "stream",
     "text": [
      "not a palindrome number\n"
     ]
    }
   ],
   "source": [
    "num = int(input(\"enter any number\"))\n",
    "n = num\n",
    "reverse = 0\n",
    "while n != 0:\n",
    "    remainder = n%10\n",
    "    reverse = reverse * 10 + remainder\n",
    "    n = n//10\n",
    "if (reverse == num):\n",
    "    print (\"palindrome\")\n",
    "else:\n",
    "    print (\"not a palindrome number\")\n",
    "    "
   ]
  },
  {
   "cell_type": "markdown",
   "id": "ffd0efae-55ce-46f3-b70b-72b70f02ff6b",
   "metadata": {},
   "source": [
    "### Sum of even and odd digits\n"
   ]
  },
  {
   "cell_type": "code",
   "execution_count": 43,
   "id": "4e2a020c-a6a8-4aba-987a-73af94c8f481",
   "metadata": {},
   "outputs": [
    {
     "name": "stdin",
     "output_type": "stream",
     "text": [
      " 3456\n"
     ]
    },
    {
     "name": "stdout",
     "output_type": "stream",
     "text": [
      "even sum is 10 odd sum is  8\n"
     ]
    }
   ],
   "source": [
    "n = int (input())\n",
    "even = 0\n",
    "odd = 0\n",
    "while(n!=0):\n",
    "    remainder = n%10\n",
    "    if (remainder%2 ==0):\n",
    "        even += remainder\n",
    "    else:\n",
    "        odd += remainder\n",
    "    n = n//10\n",
    "\n",
    "print (\"even sum is\" , even, \"odd sum is \" , odd)"
   ]
  },
  {
   "cell_type": "markdown",
   "id": "5702af05-cc71-4a67-96a4-2c7a3fc324bb",
   "metadata": {},
   "source": [
    "### Fibonaaci series\n"
   ]
  },
  {
   "cell_type": "code",
   "execution_count": 46,
   "id": "91569ad1-c474-4032-8b6e-000c7b9d6707",
   "metadata": {},
   "outputs": [
    {
     "name": "stdin",
     "output_type": "stream",
     "text": [
      " 4\n"
     ]
    },
    {
     "name": "stdout",
     "output_type": "stream",
     "text": [
      "3\n"
     ]
    }
   ],
   "source": [
    "n = int(input())\n",
    "if(n ==1 or n==2):\n",
    "    print(1)\n",
    "else:\n",
    "    count = 3\n",
    "    a,b = 1,1\n",
    "    while count<=n:\n",
    "        a,b = b,a+b\n",
    "        count += 1\n",
    "    print (b)"
   ]
  },
  {
   "cell_type": "code",
   "execution_count": null,
   "id": "1bf23864-fd3e-4bce-8290-2e8ad86d61b3",
   "metadata": {},
   "outputs": [],
   "source": []
  }
 ],
 "metadata": {
  "kernelspec": {
   "display_name": "Python 3 (ipykernel)",
   "language": "python",
   "name": "python3"
  },
  "language_info": {
   "codemirror_mode": {
    "name": "ipython",
    "version": 3
   },
   "file_extension": ".py",
   "mimetype": "text/x-python",
   "name": "python",
   "nbconvert_exporter": "python",
   "pygments_lexer": "ipython3",
   "version": "3.12.4"
  }
 },
 "nbformat": 4,
 "nbformat_minor": 5
}
