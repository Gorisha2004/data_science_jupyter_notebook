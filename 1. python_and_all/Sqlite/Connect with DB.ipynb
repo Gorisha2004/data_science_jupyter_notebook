{
 "cells": [
  {
   "cell_type": "code",
   "execution_count": 34,
   "id": "43fc4776-f96e-4a12-b22e-00ecd730d466",
   "metadata": {},
   "outputs": [
    {
     "data": {
      "text/plain": [
       "<sqlite3.Connection at 0x2064bf98a90>"
      ]
     },
     "execution_count": 34,
     "metadata": {},
     "output_type": "execute_result"
    }
   ],
   "source": [
    "import sqlite3\n",
    "db = sqlite3.connect('IMDB.sqlite')\n",
    "db"
   ]
  },
  {
   "cell_type": "code",
   "execution_count": 25,
   "id": "9e62cc56-d159-425e-9373-8fd5c11e81ee",
   "metadata": {},
   "outputs": [
    {
     "data": {
      "text/plain": [
       "<sqlite3.Connection at 0x2064bf4d120>"
      ]
     },
     "execution_count": 25,
     "metadata": {},
     "output_type": "execute_result"
    }
   ],
   "source": [
    "db = sqlite3.connect('School.sqlite')\n",
    "db"
   ]
  },
  {
   "cell_type": "code",
   "execution_count": 8,
   "id": "059bb6e8-60fe-45dd-a29e-57013de56df8",
   "metadata": {},
   "outputs": [
    {
     "data": {
      "text/html": [
       "<a href='School.sqlite' target='_blank'>School.sqlite</a><br>"
      ],
      "text/plain": [
       "E:\\Anaconda\\Sqlite\\School.sqlite"
      ]
     },
     "execution_count": 8,
     "metadata": {},
     "output_type": "execute_result"
    }
   ],
   "source": [
    "from IPython.display import FileLink\n",
    "FileLink('School.sqlite')"
   ]
  },
  {
   "cell_type": "code",
   "execution_count": 26,
   "id": "3ce2bf5f-f5de-4076-b57f-97256ecddd75",
   "metadata": {},
   "outputs": [
    {
     "data": {
      "text/plain": [
       "<sqlite3.Cursor at 0x2064bf293c0>"
      ]
     },
     "execution_count": 26,
     "metadata": {},
     "output_type": "execute_result"
    }
   ],
   "source": [
    "cur = db.cursor()\n",
    "cur"
   ]
  },
  {
   "cell_type": "code",
   "execution_count": 5,
   "id": "0c92f1b7-af97-4588-847d-d796d712a8ef",
   "metadata": {},
   "outputs": [
    {
     "data": {
      "text/plain": [
       "<sqlite3.Cursor at 0x162db4a4dc0>"
      ]
     },
     "execution_count": 5,
     "metadata": {},
     "output_type": "execute_result"
    }
   ],
   "source": [
    "sql_query = 'Create table Student(RollNumber int Primary key, Name text, Age int)'\n",
    "cur.execute(sql_query)"
   ]
  },
  {
   "cell_type": "code",
   "execution_count": 7,
   "id": "af89d445-dee8-4daa-9e43-2e5d59519c18",
   "metadata": {},
   "outputs": [
    {
     "data": {
      "text/plain": [
       "<sqlite3.Cursor at 0x162db4a4dc0>"
      ]
     },
     "execution_count": 7,
     "metadata": {},
     "output_type": "execute_result"
    }
   ],
   "source": [
    "cur.execute('Insert into Student values (101, \"Aman\", 20)')"
   ]
  },
  {
   "cell_type": "code",
   "execution_count": 14,
   "id": "581af24f-f492-4112-bf70-7633a0b0465b",
   "metadata": {},
   "outputs": [],
   "source": [
    "db.commit()"
   ]
  },
  {
   "cell_type": "code",
   "execution_count": 13,
   "id": "a7101a35-9ed4-4056-811c-34d88ef0f114",
   "metadata": {},
   "outputs": [
    {
     "data": {
      "text/plain": [
       "<sqlite3.Cursor at 0x162db4a4dc0>"
      ]
     },
     "execution_count": 13,
     "metadata": {},
     "output_type": "execute_result"
    }
   ],
   "source": [
    "cur.execute('Insert into Student values (102, \"Amit\", 21)')"
   ]
  },
  {
   "cell_type": "code",
   "execution_count": 16,
   "id": "2fcf5d4c-275e-4e62-a727-bea51857384d",
   "metadata": {},
   "outputs": [],
   "source": [
    "db.close()"
   ]
  },
  {
   "cell_type": "code",
   "execution_count": 3,
   "id": "6295e229-44aa-47be-9686-75d580913a5a",
   "metadata": {},
   "outputs": [
    {
     "data": {
      "text/plain": [
       "<sqlite3.Connection at 0x2064bf4ce50>"
      ]
     },
     "execution_count": 3,
     "metadata": {},
     "output_type": "execute_result"
    }
   ],
   "source": [
    "db = sqlite3.connect('Employee.sqlite')\n",
    "db"
   ]
  },
  {
   "cell_type": "code",
   "execution_count": 4,
   "id": "2719a68a-3fde-4f80-b84f-b8a37e220e4d",
   "metadata": {},
   "outputs": [
    {
     "data": {
      "text/plain": [
       "<sqlite3.Connection at 0x2064bf4ce50>"
      ]
     },
     "execution_count": 4,
     "metadata": {},
     "output_type": "execute_result"
    }
   ],
   "source": [
    "cur = db.cursor()\n",
    "db"
   ]
  },
  {
   "cell_type": "code",
   "execution_count": 5,
   "id": "8ac3020b-bdee-46bd-a7df-97189fd7621f",
   "metadata": {},
   "outputs": [
    {
     "data": {
      "text/plain": [
       "<sqlite3.Cursor at 0x2064bf2a7c0>"
      ]
     },
     "execution_count": 5,
     "metadata": {},
     "output_type": "execute_result"
    }
   ],
   "source": [
    "sql_query = 'Create table Employee_detail(employee_id int Primary key, Name text, Age int, department text, salary int)'\n",
    "cur.execute(sql_query)"
   ]
  },
  {
   "cell_type": "code",
   "execution_count": 7,
   "id": "a7e73e4f-2481-43c2-8ab6-460f04a78499",
   "metadata": {},
   "outputs": [
    {
     "data": {
      "text/plain": [
       "<sqlite3.Cursor at 0x2064bf2a7c0>"
      ]
     },
     "execution_count": 7,
     "metadata": {},
     "output_type": "execute_result"
    }
   ],
   "source": [
    "cur.execute('insert into employee_detail values (100, \"rishav\", 25, \"marketing\", 50000)')"
   ]
  },
  {
   "cell_type": "code",
   "execution_count": 21,
   "id": "b7969d3e-fd39-4e17-ac51-42c1e92ebd2a",
   "metadata": {},
   "outputs": [
    {
     "data": {
      "text/plain": [
       "<sqlite3.Cursor at 0x162db4a5bc0>"
      ]
     },
     "execution_count": 21,
     "metadata": {},
     "output_type": "execute_result"
    }
   ],
   "source": [
    "cur.execute('insert into employee_detail values (101, \"abhishek\", 26, \"operations\", 60000)')"
   ]
  },
  {
   "cell_type": "code",
   "execution_count": 22,
   "id": "3f4e9c14-52d7-4243-be85-ddec3c446469",
   "metadata": {},
   "outputs": [
    {
     "data": {
      "text/plain": [
       "<sqlite3.Cursor at 0x162db4a5bc0>"
      ]
     },
     "execution_count": 22,
     "metadata": {},
     "output_type": "execute_result"
    }
   ],
   "source": [
    "cur.execute('insert into employee_detail values (102, \"aman\", 24, \"human resource\", 75000)')"
   ]
  },
  {
   "cell_type": "code",
   "execution_count": 25,
   "id": "4651dfab-da89-464b-b18c-77c619b0a8e1",
   "metadata": {},
   "outputs": [],
   "source": [
    "db.commit()"
   ]
  },
  {
   "cell_type": "code",
   "execution_count": 6,
   "id": "cbba5aa3-8802-4530-be6b-ccbf9b29ef7a",
   "metadata": {},
   "outputs": [
    {
     "data": {
      "text/html": [
       "<a href='Employee.sqlite' target='_blank'>Employee.sqlite</a><br>"
      ],
      "text/plain": [
       "E:\\Anaconda\\Sqlite\\Employee.sqlite"
      ]
     },
     "execution_count": 6,
     "metadata": {},
     "output_type": "execute_result"
    }
   ],
   "source": [
    "from IPython.display import FileLink\n",
    "FileLink('Employee.sqlite')"
   ]
  },
  {
   "cell_type": "code",
   "execution_count": 5,
   "id": "4cc0597f-799f-42e7-8246-bfae7c55729c",
   "metadata": {},
   "outputs": [
    {
     "data": {
      "text/plain": [
       "<sqlite3.Cursor at 0x2c731c5e7c0>"
      ]
     },
     "execution_count": 5,
     "metadata": {},
     "output_type": "execute_result"
    }
   ],
   "source": [
    "cur.execute('Insert into Student values (103, \"Mohit\", 24)')"
   ]
  },
  {
   "cell_type": "code",
   "execution_count": 6,
   "id": "6d79673f-b2f1-4f9b-9b88-fd6bebb9431b",
   "metadata": {},
   "outputs": [
    {
     "data": {
      "text/plain": [
       "<sqlite3.Cursor at 0x2c731c5e7c0>"
      ]
     },
     "execution_count": 6,
     "metadata": {},
     "output_type": "execute_result"
    }
   ],
   "source": [
    "rollNumber = 104\n",
    "Name = \"Nikhil\"\n",
    "age = 34\n",
    "\n",
    "cur.execute ('Insert into Student values (?, ?, ?)', (rollNumber, Name, age))"
   ]
  },
  {
   "cell_type": "code",
   "execution_count": 9,
   "id": "1e75c689-f0d1-4e0d-90d9-87721947dce4",
   "metadata": {},
   "outputs": [
    {
     "data": {
      "text/plain": [
       "<sqlite3.Cursor at 0x2c731c5e7c0>"
      ]
     },
     "execution_count": 9,
     "metadata": {},
     "output_type": "execute_result"
    }
   ],
   "source": [
    "values = [(105,\"nidhi\", 20), (106, \"MAnisha\", 21), (107, \"Ankush\", 22)]\n",
    "cur.executemany('Insert into student values (?, ?, ?)', values)"
   ]
  },
  {
   "cell_type": "code",
   "execution_count": 12,
   "id": "5092ebe1-02e1-44db-ab2c-390971eb7ec5",
   "metadata": {},
   "outputs": [
    {
     "data": {
      "text/html": [
       "<a href='School.sqlite' target='_blank'>School.sqlite</a><br>"
      ],
      "text/plain": [
       "E:\\Anaconda\\Sqlite\\School.sqlite"
      ]
     },
     "execution_count": 12,
     "metadata": {},
     "output_type": "execute_result"
    }
   ],
   "source": [
    "from IPython.display import FileLink\n",
    "\n",
    "FileLink('School.sqlite')"
   ]
  },
  {
   "cell_type": "code",
   "execution_count": 16,
   "id": "1c0e1f49-98f8-4636-81ba-23edde262c1e",
   "metadata": {},
   "outputs": [
    {
     "data": {
      "text/plain": [
       "<sqlite3.Cursor at 0x2c731c5fac0>"
      ]
     },
     "execution_count": 16,
     "metadata": {},
     "output_type": "execute_result"
    }
   ],
   "source": [
    "cur.execute ('Delete from Employee_Detail where employee_id = 101')"
   ]
  },
  {
   "cell_type": "code",
   "execution_count": 31,
   "id": "e2300767-b60f-4d99-8251-e1d267a26297",
   "metadata": {},
   "outputs": [
    {
     "data": {
      "text/plain": [
       "<sqlite3.Cursor at 0x2c731c5fac0>"
      ]
     },
     "execution_count": 31,
     "metadata": {},
     "output_type": "execute_result"
    }
   ],
   "source": [
    "id = 102\n",
    "cur.execute ('Delete from Employee_Detail where employee_id = ? ', (id,))"
   ]
  },
  {
   "cell_type": "code",
   "execution_count": 43,
   "id": "d3fa22eb-0f39-4fb7-a25d-fc649d929713",
   "metadata": {},
   "outputs": [
    {
     "ename": "OperationalError",
     "evalue": "database is locked",
     "output_type": "error",
     "traceback": [
      "\u001b[1;31m---------------------------------------------------------------------------\u001b[0m",
      "\u001b[1;31mOperationalError\u001b[0m                          Traceback (most recent call last)",
      "Cell \u001b[1;32mIn[43], line 1\u001b[0m\n\u001b[1;32m----> 1\u001b[0m cur\u001b[38;5;241m.\u001b[39mexecute(\u001b[38;5;124m'\u001b[39m\u001b[38;5;124mdrop table Employee_detail\u001b[39m\u001b[38;5;124m'\u001b[39m)\n",
      "\u001b[1;31mOperationalError\u001b[0m: database is locked"
     ]
    }
   ],
   "source": [
    "cur.execute('drop table Employee_detail')"
   ]
  },
  {
   "cell_type": "code",
   "execution_count": 8,
   "id": "ee66c482-834f-436c-a4ed-0f7fccec2014",
   "metadata": {},
   "outputs": [
    {
     "data": {
      "text/plain": [
       "<sqlite3.Cursor at 0x2064bf2a7c0>"
      ]
     },
     "execution_count": 8,
     "metadata": {},
     "output_type": "execute_result"
    }
   ],
   "source": [
    "cur.execute('insert into employee_detail values (101, \"aadarsh\", 25, \"marketing\", 50000)')"
   ]
  },
  {
   "cell_type": "code",
   "execution_count": 9,
   "id": "db3996bd-ec03-4ec0-bf9e-96603df39fee",
   "metadata": {},
   "outputs": [
    {
     "data": {
      "text/plain": [
       "<sqlite3.Cursor at 0x2064bf2a7c0>"
      ]
     },
     "execution_count": 9,
     "metadata": {},
     "output_type": "execute_result"
    }
   ],
   "source": [
    "cur.execute('insert into employee_detail values (102, \"aarti\", 27, \"operations\", 60000)')"
   ]
  },
  {
   "cell_type": "code",
   "execution_count": 10,
   "id": "1d059fbf-285d-4fe6-b23f-58e80d5229d4",
   "metadata": {},
   "outputs": [
    {
     "data": {
      "text/plain": [
       "<sqlite3.Cursor at 0x2064bf2a7c0>"
      ]
     },
     "execution_count": 10,
     "metadata": {},
     "output_type": "execute_result"
    }
   ],
   "source": [
    "cur.execute('insert into employee_detail values (103, \"siddharth\", 25, \"finance\", 85000)')"
   ]
  },
  {
   "cell_type": "code",
   "execution_count": 14,
   "id": "193af4b6-cb29-412b-8613-383888ab570c",
   "metadata": {},
   "outputs": [
    {
     "data": {
      "text/plain": [
       "<sqlite3.Cursor at 0x2064bf2a7c0>"
      ]
     },
     "execution_count": 14,
     "metadata": {},
     "output_type": "execute_result"
    }
   ],
   "source": [
    "cur.execute('insert into employee_detail values (104, \"aman\", 24, \"human resource\", 75000)')"
   ]
  },
  {
   "cell_type": "code",
   "execution_count": 15,
   "id": "513088a9-0830-4784-aac7-1b012cb00ed7",
   "metadata": {},
   "outputs": [
    {
     "data": {
      "text/plain": [
       "<sqlite3.Cursor at 0x2064bf2a7c0>"
      ]
     },
     "execution_count": 15,
     "metadata": {},
     "output_type": "execute_result"
    }
   ],
   "source": [
    "cur.execute('insert into employee_detail values (105, \"amit\", 30, \"marketing\", 50000)')"
   ]
  },
  {
   "cell_type": "code",
   "execution_count": 13,
   "id": "2ef3d451-4ed9-4feb-9653-cc62032f9ea3",
   "metadata": {},
   "outputs": [
    {
     "data": {
      "text/plain": [
       "<sqlite3.Cursor at 0x2064bf2a7c0>"
      ]
     },
     "execution_count": 13,
     "metadata": {},
     "output_type": "execute_result"
    }
   ],
   "source": [
    "cur.execute('delete from employee_detail where age = 24')"
   ]
  },
  {
   "cell_type": "code",
   "execution_count": 16,
   "id": "52258412-0c34-4e0a-b695-94059f5f6cad",
   "metadata": {},
   "outputs": [
    {
     "data": {
      "text/plain": [
       "<sqlite3.Cursor at 0x2064bf2a7c0>"
      ]
     },
     "execution_count": 16,
     "metadata": {},
     "output_type": "execute_result"
    }
   ],
   "source": [
    "cur.execute('insert into employee_detail values (106, \"shivansh\", 26, \"IT\", 90000)')"
   ]
  },
  {
   "cell_type": "code",
   "execution_count": 17,
   "id": "20f8de14-3007-41d3-a7fd-31923b24e794",
   "metadata": {},
   "outputs": [
    {
     "data": {
      "text/plain": [
       "<sqlite3.Cursor at 0x2064bf2a7c0>"
      ]
     },
     "execution_count": 17,
     "metadata": {},
     "output_type": "execute_result"
    }
   ],
   "source": [
    "cur.execute('insert into employee_detail values (107, \"vaibhav\", 23, \"finance\", 85000)')"
   ]
  },
  {
   "cell_type": "code",
   "execution_count": 18,
   "id": "5b050c3a-86da-428b-9887-b28b81ed944f",
   "metadata": {},
   "outputs": [
    {
     "data": {
      "text/plain": [
       "<sqlite3.Cursor at 0x2064bf2a7c0>"
      ]
     },
     "execution_count": 18,
     "metadata": {},
     "output_type": "execute_result"
    }
   ],
   "source": [
    "cur.execute('insert into employee_detail values (108, \"himanshu\", 26, \"IT\", 90000)')"
   ]
  },
  {
   "cell_type": "code",
   "execution_count": 19,
   "id": "b64edadb-7612-41a7-9428-284d816b7170",
   "metadata": {},
   "outputs": [
    {
     "data": {
      "text/plain": [
       "<sqlite3.Cursor at 0x2064bf2a7c0>"
      ]
     },
     "execution_count": 19,
     "metadata": {},
     "output_type": "execute_result"
    }
   ],
   "source": [
    "cur.execute('insert into employee_detail values (109, \"raman\", 25, \"operations\", 60000)')"
   ]
  },
  {
   "cell_type": "code",
   "execution_count": 20,
   "id": "4877f424-f66a-4472-a33a-9de45ba88731",
   "metadata": {},
   "outputs": [
    {
     "data": {
      "text/plain": [
       "<sqlite3.Cursor at 0x2064bf2a7c0>"
      ]
     },
     "execution_count": 20,
     "metadata": {},
     "output_type": "execute_result"
    }
   ],
   "source": [
    "cur.execute('insert into employee_detail values (110, \"kunal\", 26, \"marketing\", 50000)')"
   ]
  },
  {
   "cell_type": "code",
   "execution_count": 21,
   "id": "8a0f5c62-8280-4e14-8ee5-2b80097c860f",
   "metadata": {},
   "outputs": [
    {
     "data": {
      "text/plain": [
       "<sqlite3.Cursor at 0x2064bf2a7c0>"
      ]
     },
     "execution_count": 21,
     "metadata": {},
     "output_type": "execute_result"
    }
   ],
   "source": [
    "cur.execute('insert into employee_detail values (111, \"adhira\", 29, \"human resource\", 75000)')"
   ]
  },
  {
   "cell_type": "code",
   "execution_count": 22,
   "id": "369657ca-792d-4355-bd6d-6c3ed6375924",
   "metadata": {},
   "outputs": [
    {
     "data": {
      "text/plain": [
       "<sqlite3.Cursor at 0x2064bf2a7c0>"
      ]
     },
     "execution_count": 22,
     "metadata": {},
     "output_type": "execute_result"
    }
   ],
   "source": [
    "cur.execute('insert into employee_detail values (112, \"tanya\", 24, \"marketing\", 50000)')"
   ]
  },
  {
   "cell_type": "code",
   "execution_count": 23,
   "id": "a83997c9-94a4-4592-85ce-880c1cae89c9",
   "metadata": {},
   "outputs": [],
   "source": [
    "db.commit()"
   ]
  },
  {
   "cell_type": "code",
   "execution_count": 24,
   "id": "4bd078b0-86f7-4d17-9aee-a151ddab262d",
   "metadata": {},
   "outputs": [
    {
     "data": {
      "text/html": [
       "<a href='Employee.sqlite' target='_blank'>Employee.sqlite</a><br>"
      ],
      "text/plain": [
       "E:\\Anaconda\\Sqlite\\Employee.sqlite"
      ]
     },
     "execution_count": 24,
     "metadata": {},
     "output_type": "execute_result"
    }
   ],
   "source": [
    "from IPython.display import FileLink\n",
    "FileLink('Employee.sqlite')"
   ]
  },
  {
   "cell_type": "code",
   "execution_count": 27,
   "id": "00c122e5-c379-4576-8f11-ddebe609c874",
   "metadata": {},
   "outputs": [
    {
     "data": {
      "text/plain": [
       "<sqlite3.Cursor at 0x2064bf293c0>"
      ]
     },
     "execution_count": 27,
     "metadata": {},
     "output_type": "execute_result"
    }
   ],
   "source": [
    "cur.execute('select * from student')"
   ]
  },
  {
   "cell_type": "code",
   "execution_count": 28,
   "id": "cffa6c65-4fcf-473f-b65c-296c4883b3bc",
   "metadata": {},
   "outputs": [
    {
     "name": "stdout",
     "output_type": "stream",
     "text": [
      "(101, 'Aman', 20)\n",
      "(102, 'Amit', 21)\n",
      "(103, 'Mohit', 24)\n",
      "(104, 'Nikhil', 34)\n",
      "(105, 'nidhi', 20)\n",
      "(106, 'MAnisha', 21)\n",
      "(107, 'Ankush', 22)\n"
     ]
    }
   ],
   "source": [
    "for row in cur:\n",
    "    print (row)\n",
    "    "
   ]
  },
  {
   "cell_type": "code",
   "execution_count": 36,
   "id": "1951214c-1b4e-4211-9bf1-12b67e41e712",
   "metadata": {},
   "outputs": [
    {
     "data": {
      "text/plain": [
       "<sqlite3.Connection at 0x2064bf99d50>"
      ]
     },
     "execution_count": 36,
     "metadata": {},
     "output_type": "execute_result"
    }
   ],
   "source": [
    "db = sqlite3.connect('Employee.sqlite')\n",
    "db"
   ]
  },
  {
   "cell_type": "code",
   "execution_count": 37,
   "id": "b8ede4cf-558b-46ea-b45d-1d6425a1d671",
   "metadata": {},
   "outputs": [
    {
     "data": {
      "text/plain": [
       "<sqlite3.Cursor at 0x2064bfb17c0>"
      ]
     },
     "execution_count": 37,
     "metadata": {},
     "output_type": "execute_result"
    }
   ],
   "source": [
    "cur = db.cursor()\n",
    "cur"
   ]
  },
  {
   "cell_type": "code",
   "execution_count": 38,
   "id": "7b445e4c-5497-40e2-9c2c-08281b34389f",
   "metadata": {},
   "outputs": [
    {
     "data": {
      "text/plain": [
       "[(103,), (107,)]"
      ]
     },
     "execution_count": 38,
     "metadata": {},
     "output_type": "execute_result"
    }
   ],
   "source": [
    "cur.execute('select employee_id from employee_detail where department = \"finance\" ')\n",
    "cur.fetchall()"
   ]
  },
  {
   "cell_type": "code",
   "execution_count": 42,
   "id": "44d47093-12e4-4290-8922-5cd0302672bb",
   "metadata": {},
   "outputs": [
    {
     "data": {
      "text/plain": [
       "[(5,)]"
      ]
     },
     "execution_count": 42,
     "metadata": {},
     "output_type": "execute_result"
    }
   ],
   "source": [
    "cur.execute('select count(distinct department) from employee_detail  ')\n",
    "cur.fetchall()"
   ]
  },
  {
   "cell_type": "code",
   "execution_count": null,
   "id": "037d8f06-ae6d-4519-9c11-012cc046b44d",
   "metadata": {},
   "outputs": [],
   "source": []
  }
 ],
 "metadata": {
  "kernelspec": {
   "display_name": "Python 3 (ipykernel)",
   "language": "python",
   "name": "python3"
  },
  "language_info": {
   "codemirror_mode": {
    "name": "ipython",
    "version": 3
   },
   "file_extension": ".py",
   "mimetype": "text/x-python",
   "name": "python",
   "nbconvert_exporter": "python",
   "pygments_lexer": "ipython3",
   "version": "3.12.4"
  }
 },
 "nbformat": 4,
 "nbformat_minor": 5
}
