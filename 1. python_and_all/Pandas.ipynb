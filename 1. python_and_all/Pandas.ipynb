{
 "cells": [
  {
   "cell_type": "code",
   "execution_count": 1,
   "id": "ebbc1cdd-b441-426c-9214-e51aa1336e10",
   "metadata": {},
   "outputs": [
    {
     "name": "stdout",
     "output_type": "stream",
     "text": [
      "<class 'pandas.core.frame.DataFrame'>\n"
     ]
    }
   ],
   "source": [
    "import pandas as pd\n",
    "iris = pd.read_csv('Datasets/iris.csv')\n",
    "df = iris.copy()\n",
    "print(type(df))\n"
   ]
  },
  {
   "cell_type": "code",
   "execution_count": 2,
   "id": "f16072d0-28e4-422d-81a7-3da44a295490",
   "metadata": {},
   "outputs": [
    {
     "data": {
      "text/html": [
       "<div>\n",
       "<style scoped>\n",
       "    .dataframe tbody tr th:only-of-type {\n",
       "        vertical-align: middle;\n",
       "    }\n",
       "\n",
       "    .dataframe tbody tr th {\n",
       "        vertical-align: top;\n",
       "    }\n",
       "\n",
       "    .dataframe thead th {\n",
       "        text-align: right;\n",
       "    }\n",
       "</style>\n",
       "<table border=\"1\" class=\"dataframe\">\n",
       "  <thead>\n",
       "    <tr style=\"text-align: right;\">\n",
       "      <th></th>\n",
       "      <th>sepal.length</th>\n",
       "      <th>sepal.width</th>\n",
       "      <th>petal.length</th>\n",
       "      <th>petal.width</th>\n",
       "    </tr>\n",
       "  </thead>\n",
       "  <tbody>\n",
       "    <tr>\n",
       "      <th>count</th>\n",
       "      <td>150.000000</td>\n",
       "      <td>150.000000</td>\n",
       "      <td>150.000000</td>\n",
       "      <td>150.000000</td>\n",
       "    </tr>\n",
       "    <tr>\n",
       "      <th>mean</th>\n",
       "      <td>5.843333</td>\n",
       "      <td>3.057333</td>\n",
       "      <td>3.758000</td>\n",
       "      <td>1.199333</td>\n",
       "    </tr>\n",
       "    <tr>\n",
       "      <th>std</th>\n",
       "      <td>0.828066</td>\n",
       "      <td>0.435866</td>\n",
       "      <td>1.765298</td>\n",
       "      <td>0.762238</td>\n",
       "    </tr>\n",
       "    <tr>\n",
       "      <th>min</th>\n",
       "      <td>4.300000</td>\n",
       "      <td>2.000000</td>\n",
       "      <td>1.000000</td>\n",
       "      <td>0.100000</td>\n",
       "    </tr>\n",
       "    <tr>\n",
       "      <th>25%</th>\n",
       "      <td>5.100000</td>\n",
       "      <td>2.800000</td>\n",
       "      <td>1.600000</td>\n",
       "      <td>0.300000</td>\n",
       "    </tr>\n",
       "    <tr>\n",
       "      <th>50%</th>\n",
       "      <td>5.800000</td>\n",
       "      <td>3.000000</td>\n",
       "      <td>4.350000</td>\n",
       "      <td>1.300000</td>\n",
       "    </tr>\n",
       "    <tr>\n",
       "      <th>75%</th>\n",
       "      <td>6.400000</td>\n",
       "      <td>3.300000</td>\n",
       "      <td>5.100000</td>\n",
       "      <td>1.800000</td>\n",
       "    </tr>\n",
       "    <tr>\n",
       "      <th>max</th>\n",
       "      <td>7.900000</td>\n",
       "      <td>4.400000</td>\n",
       "      <td>6.900000</td>\n",
       "      <td>2.500000</td>\n",
       "    </tr>\n",
       "  </tbody>\n",
       "</table>\n",
       "</div>"
      ],
      "text/plain": [
       "       sepal.length  sepal.width  petal.length  petal.width\n",
       "count    150.000000   150.000000    150.000000   150.000000\n",
       "mean       5.843333     3.057333      3.758000     1.199333\n",
       "std        0.828066     0.435866      1.765298     0.762238\n",
       "min        4.300000     2.000000      1.000000     0.100000\n",
       "25%        5.100000     2.800000      1.600000     0.300000\n",
       "50%        5.800000     3.000000      4.350000     1.300000\n",
       "75%        6.400000     3.300000      5.100000     1.800000\n",
       "max        7.900000     4.400000      6.900000     2.500000"
      ]
     },
     "execution_count": 2,
     "metadata": {},
     "output_type": "execute_result"
    }
   ],
   "source": [
    "df.describe()\n"
   ]
  },
  {
   "cell_type": "code",
   "execution_count": 3,
   "id": "a545e18c-3fa1-4992-929f-ee52f7d8ad09",
   "metadata": {},
   "outputs": [
    {
     "data": {
      "text/plain": [
       "count        150\n",
       "unique         3\n",
       "top       Setosa\n",
       "freq          50\n",
       "Name: variety, dtype: object"
      ]
     },
     "execution_count": 3,
     "metadata": {},
     "output_type": "execute_result"
    }
   ],
   "source": [
    "df['variety'].describe()"
   ]
  },
  {
   "cell_type": "code",
   "execution_count": 12,
   "id": "992f5617-73d8-4c09-94a9-5e7cb41f8843",
   "metadata": {},
   "outputs": [
    {
     "name": "stdout",
     "output_type": "stream",
     "text": [
      "     sepal.length  sepal.width  petal.length  petal.width    variety\n",
      "100           6.3          3.3           6.0          2.5  Virginica\n",
      "101           5.8          2.7           5.1          1.9  Virginica\n",
      "102           7.1          3.0           5.9          2.1  Virginica\n",
      "103           6.3          2.9           5.6          1.8  Virginica\n",
      "104           6.5          3.0           5.8          2.2  Virginica\n",
      "105           7.6          3.0           6.6          2.1  Virginica\n",
      "106           4.9          2.5           4.5          1.7  Virginica\n",
      "107           7.3          2.9           6.3          1.8  Virginica\n",
      "108           6.7          2.5           5.8          1.8  Virginica\n",
      "109           7.2          3.6           6.1          2.5  Virginica\n",
      "110           6.5          3.2           5.1          2.0  Virginica\n",
      "111           6.4          2.7           5.3          1.9  Virginica\n",
      "112           6.8          3.0           5.5          2.1  Virginica\n",
      "113           5.7          2.5           5.0          2.0  Virginica\n",
      "114           5.8          2.8           5.1          2.4  Virginica\n",
      "115           6.4          3.2           5.3          2.3  Virginica\n",
      "116           6.5          3.0           5.5          1.8  Virginica\n",
      "117           7.7          3.8           6.7          2.2  Virginica\n",
      "118           7.7          2.6           6.9          2.3  Virginica\n",
      "119           6.0          2.2           5.0          1.5  Virginica\n",
      "120           6.9          3.2           5.7          2.3  Virginica\n",
      "121           5.6          2.8           4.9          2.0  Virginica\n",
      "122           7.7          2.8           6.7          2.0  Virginica\n",
      "123           6.3          2.7           4.9          1.8  Virginica\n",
      "124           6.7          3.3           5.7          2.1  Virginica\n",
      "125           7.2          3.2           6.0          1.8  Virginica\n",
      "126           6.2          2.8           4.8          1.8  Virginica\n",
      "127           6.1          3.0           4.9          1.8  Virginica\n",
      "128           6.4          2.8           5.6          2.1  Virginica\n",
      "129           7.2          3.0           5.8          1.6  Virginica\n",
      "130           7.4          2.8           6.1          1.9  Virginica\n",
      "131           7.9          3.8           6.4          2.0  Virginica\n",
      "132           6.4          2.8           5.6          2.2  Virginica\n",
      "133           6.3          2.8           5.1          1.5  Virginica\n",
      "134           6.1          2.6           5.6          1.4  Virginica\n",
      "135           7.7          3.0           6.1          2.3  Virginica\n",
      "136           6.3          3.4           5.6          2.4  Virginica\n",
      "137           6.4          3.1           5.5          1.8  Virginica\n",
      "138           6.0          3.0           4.8          1.8  Virginica\n",
      "139           6.9          3.1           5.4          2.1  Virginica\n",
      "140           6.7          3.1           5.6          2.4  Virginica\n",
      "141           6.9          3.1           5.1          2.3  Virginica\n",
      "142           5.8          2.7           5.1          1.9  Virginica\n",
      "143           6.8          3.2           5.9          2.3  Virginica\n",
      "144           6.7          3.3           5.7          2.5  Virginica\n",
      "145           6.7          3.0           5.2          2.3  Virginica\n",
      "146           6.3          2.5           5.0          1.9  Virginica\n",
      "147           6.5          3.0           5.2          2.0  Virginica\n",
      "148           6.2          3.4           5.4          2.3  Virginica\n",
      "149           5.9          3.0           5.1          1.8  Virginica\n"
     ]
    }
   ],
   "source": [
    "a = df[(df['variety'] == 'Virginica') & (df['petal.length'] > 1.5)]\n",
    "print(a)"
   ]
  },
  {
   "cell_type": "markdown",
   "id": "5971e38e-0e9f-408b-acbb-1dfb4c804275",
   "metadata": {},
   "source": [
    "## Assigment"
   ]
  },
  {
   "cell_type": "code",
   "execution_count": 27,
   "id": "bddc0935-bfc4-4fab-bd23-532f8b7f7284",
   "metadata": {},
   "outputs": [
    {
     "name": "stdout",
     "output_type": "stream",
     "text": [
      "Srinagar\n",
      "657\n"
     ]
    }
   ],
   "source": [
    "import pandas as pd\n",
    "iris = pd.read_csv('Datasets/terrorismData.csv')\n",
    "df = iris.copy()\n",
    "df = df[(df.State == 'Jammu and Kashmir')] \n",
    "df_list = df['City'].value_counts()\n",
    "city = df_list.index[0]\n",
    "count = df_list.values[0]\n",
    "print(city)\n",
    "print(count)"
   ]
  },
  {
   "cell_type": "code",
   "execution_count": null,
   "id": "2141fa47-969e-4d4c-8ef4-7096c57b67ed",
   "metadata": {},
   "outputs": [],
   "source": []
  }
 ],
 "metadata": {
  "kernelspec": {
   "display_name": "Python 3 (ipykernel)",
   "language": "python",
   "name": "python3"
  },
  "language_info": {
   "codemirror_mode": {
    "name": "ipython",
    "version": 3
   },
   "file_extension": ".py",
   "mimetype": "text/x-python",
   "name": "python",
   "nbconvert_exporter": "python",
   "pygments_lexer": "ipython3",
   "version": "3.12.4"
  }
 },
 "nbformat": 4,
 "nbformat_minor": 5
}
