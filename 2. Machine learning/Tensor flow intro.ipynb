{
 "cells": [
  {
   "cell_type": "code",
   "execution_count": 10,
   "id": "90e39f37-e17e-4900-88ae-2a8117df1199",
   "metadata": {},
   "outputs": [],
   "source": [
    "import tensorflow as tf\n",
    "import numpy as np"
   ]
  },
  {
   "cell_type": "code",
   "execution_count": 17,
   "id": "145a977a-73f7-4939-9ae9-4dfb93c12601",
   "metadata": {},
   "outputs": [
    {
     "data": {
      "text/plain": [
       "(5, <tf.Tensor: shape=(), dtype=int32, numpy=2>)"
      ]
     },
     "execution_count": 17,
     "metadata": {},
     "output_type": "execute_result"
    }
   ],
   "source": [
    "a = tf.constant(2) # this is the way we create a constant in tensor flow\n",
    "b = tf.constant(3)\n",
    "c = a+b\n",
    "# sess = tf.Session()\n",
    "# sess.run(c), in updated version we use .numpy() to execute all the commmands written above and session is not part of tensorflow now\n",
    "c.numpy(), a "
   ]
  },
  {
   "cell_type": "code",
   "execution_count": 8,
   "id": "7c009478-e772-42db-9742-a316cd9d889d",
   "metadata": {},
   "outputs": [],
   "source": [
    "# this above wrriten tf.tensor, it shows that a is tensor object , if we want the value of a we have to run a.numpy()"
   ]
  },
  {
   "cell_type": "code",
   "execution_count": 15,
   "id": "a531eb76-87aa-4056-bc4b-2e5d0ce459af",
   "metadata": {},
   "outputs": [
    {
     "data": {
      "text/plain": [
       "array([[18]])"
      ]
     },
     "execution_count": 15,
     "metadata": {},
     "output_type": "execute_result"
    }
   ],
   "source": [
    "a1 = tf.constant([[3, 3]])\n",
    "a2 = tf.constant([[3], [3]])\n",
    "\n",
    "(tf.matmul(a1, a2)).numpy()"
   ]
  },
  {
   "cell_type": "code",
   "execution_count": 18,
   "id": "6952e261-d3c8-460d-8ffc-251de2b1698e",
   "metadata": {},
   "outputs": [],
   "source": [
    "#variables in tensorflow"
   ]
  },
  {
   "cell_type": "code",
   "execution_count": 25,
   "id": "c019a9a8-10ea-446e-968c-cfe81799cca9",
   "metadata": {},
   "outputs": [
    {
     "data": {
      "text/plain": [
       "1232"
      ]
     },
     "execution_count": 25,
     "metadata": {},
     "output_type": "execute_result"
    }
   ],
   "source": [
    "var1 = tf.Variable(100) #these are global variables  \n",
    "var2 = tf.Variable(3)\n",
    "sum = tf.add(var1, var2)\n",
    "sum.numpy()\n",
    "assign = var1.assign(1232)\n",
    "assign.numpy()"
   ]
  },
  {
   "cell_type": "code",
   "execution_count": 26,
   "id": "dd4e0157-2ac4-409b-a985-b0782c1d117b",
   "metadata": {},
   "outputs": [
    {
     "ename": "SyntaxError",
     "evalue": "invalid syntax. Maybe you meant '==' or ':=' instead of '='? (1727356238.py, line 3)",
     "output_type": "error",
     "traceback": [
      "\u001b[1;36m  Cell \u001b[1;32mIn[26], line 3\u001b[1;36m\u001b[0m\n\u001b[1;33m    (y, feed_dict={x:10}).numpy()\u001b[0m\n\u001b[1;37m        ^\u001b[0m\n\u001b[1;31mSyntaxError\u001b[0m\u001b[1;31m:\u001b[0m invalid syntax. Maybe you meant '==' or ':=' instead of '='?\n"
     ]
    }
   ],
   "source": [
    "x = tf.placeholder(tf.int32)\n",
    "y = x * tf.constant(12)\n",
    "(y, feed_dict={x:10}).numpy()"
   ]
  },
  {
   "cell_type": "code",
   "execution_count": null,
   "id": "81140d8f-40e1-40a0-bb01-021912ff5449",
   "metadata": {},
   "outputs": [],
   "source": []
  }
 ],
 "metadata": {
  "kernelspec": {
   "display_name": "Python 3 (ipykernel)",
   "language": "python",
   "name": "python3"
  },
  "language_info": {
   "codemirror_mode": {
    "name": "ipython",
    "version": 3
   },
   "file_extension": ".py",
   "mimetype": "text/x-python",
   "name": "python",
   "nbconvert_exporter": "python",
   "pygments_lexer": "ipython3",
   "version": "3.12.4"
  }
 },
 "nbformat": 4,
 "nbformat_minor": 5
}
