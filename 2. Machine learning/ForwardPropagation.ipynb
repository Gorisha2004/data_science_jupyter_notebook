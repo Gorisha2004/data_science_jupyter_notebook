{
 "cells": [
  {
   "cell_type": "code",
   "execution_count": 1,
   "id": "4cf10ad1-186a-4eab-924d-0be803a090df",
   "metadata": {},
   "outputs": [],
   "source": [
    "import numpy as np"
   ]
  },
  {
   "cell_type": "code",
   "execution_count": 4,
   "id": "db23744b-3dda-42de-bbc7-84fa1d5e29c3",
   "metadata": {},
   "outputs": [
    {
     "data": {
      "text/plain": [
       "((4, 2), (4, 1))"
      ]
     },
     "execution_count": 4,
     "metadata": {},
     "output_type": "execute_result"
    }
   ],
   "source": [
    "X = np.array([[0,0],[0,1],[1,0],[1,1]])\n",
    "Y = np.array([[0,0,0,1]]).T   # T is for transpose\n",
    "X.shape, Y.shape"
   ]
  },
  {
   "cell_type": "code",
   "execution_count": 5,
   "id": "ffcd0276-1147-4ef0-b6c9-716163b192c2",
   "metadata": {},
   "outputs": [],
   "source": [
    "def sig(z):\n",
    "    return 1/(1 + np.exp(-z))"
   ]
  },
  {
   "cell_type": "code",
   "execution_count": 14,
   "id": "31e6a409-70af-40f8-a42b-5ba41b737ed4",
   "metadata": {},
   "outputs": [],
   "source": [
    "def derivativeSig(z):\n",
    "    return sig(z) * (1 - sig(z))"
   ]
  },
  {
   "cell_type": "code",
   "execution_count": 23,
   "id": "3c703dbc-f5ad-4997-b34f-1e79e20c63bc",
   "metadata": {},
   "outputs": [],
   "source": [
    "weights = 2 * np.random.random((2, 1)) - 1    # this 2 will increase our range 0 to 1 -> 0 to 2 and subtracting 1 from it will basically set our range between -1 to 1.\n",
    "bias = 2 * np.random.random(1) - 1\n",
    "weights, bias # and this (2, 1) is the shape we have given in the random function of random module\n",
    "lr = 0.1"
   ]
  },
  {
   "cell_type": "code",
   "execution_count": 9,
   "id": "bf1f248e-3096-4240-8ae0-a4ce403e6de9",
   "metadata": {},
   "outputs": [
    {
     "data": {
      "text/plain": [
       "array([[0.52735349],\n",
       "       [0.41135524],\n",
       "       [0.45267641],\n",
       "       [0.34124485]])"
      ]
     },
     "execution_count": 9,
     "metadata": {},
     "output_type": "execute_result"
    }
   ],
   "source": [
    "output0 = X\n",
    "output = sig(np.dot(output0, weights) + bias)\n",
    "output"
   ]
  },
  {
   "cell_type": "code",
   "execution_count": 10,
   "id": "d6eaff9c-9c51-4570-b2da-b0dc481525f7",
   "metadata": {},
   "outputs": [],
   "source": [
    "# this was simple forward propagation without any hidden layers"
   ]
  },
  {
   "cell_type": "code",
   "execution_count": 11,
   "id": "aabc9f17-2345-4166-9419-8a2f48fd5a0a",
   "metadata": {},
   "outputs": [],
   "source": [
    "wh = 2 * np.random.random((2, 2)) - 1\n",
    "bh = 2 * np.random.random((1, 2)) - 1\n",
    "wo = 2 * np.random.random((2, 1)) - 1\n",
    "bo = 2 * np.random.random((1, 1)) - 1"
   ]
  },
  {
   "cell_type": "markdown",
   "id": "d390fa54-a481-4b42-a332-90774eb0a190",
   "metadata": {},
   "source": [
    "output0 = X\n",
    "outputHidden = sig(np.dot(output0, wh) + bh)\n",
    "output = sig(np.dot(outputHidden, wo) + bo)\n",
    "output"
   ]
  },
  {
   "cell_type": "markdown",
   "id": "1c34bcfb-0ab6-4e50-a1c0-2857b16a6285",
   "metadata": {},
   "source": [
    "# backward propagation"
   ]
  },
  {
   "cell_type": "code",
   "execution_count": 24,
   "id": "c9b52d45-44a9-48bb-abfd-a5a8634ef5f7",
   "metadata": {},
   "outputs": [
    {
     "data": {
      "text/plain": [
       "(array([[8.6738676],\n",
       "        [8.6738676]]),\n",
       " array([-14.84570058]),\n",
       " array([[3.56939002e-07],\n",
       "        [2.08305814e-03],\n",
       "        [2.08305814e-03],\n",
       "        [9.24284332e-01]]))"
      ]
     },
     "execution_count": 24,
     "metadata": {},
     "output_type": "execute_result"
    }
   ],
   "source": [
    "output0 = X\n",
    "for iter in range(10000):\n",
    "    output = sig(np.dot(output0, weights) + bias)\n",
    "    \n",
    "    first_term = output - Y\n",
    "    input_for_last_layer = np.dot(output0, weights) + bias\n",
    "    second_term = derivativeSig(input_for_last_layer)\n",
    "    first_two = first_term + second_term\n",
    "    first_two.shape\n",
    "    \n",
    "    changes = np.array([[0.0],[0.0]])\n",
    "    \n",
    "    for i in range(2):\n",
    "        for j in range(4):\n",
    "            changes[i][0] += first_two[j][0] * output0[j][i]\n",
    "    weights = weights - lr*changes\n",
    "    bias_change = 0.0\n",
    "    for j in range(4):\n",
    "        bias_change += first_two[j][0] * 1\n",
    "    bias = bias - lr * bias_change\n",
    "output = sig(np.dot(X, weights) + bias)\n",
    "weights, bias, output"
   ]
  },
  {
   "cell_type": "code",
   "execution_count": 25,
   "id": "824f63ca-6910-4780-a406-165796333973",
   "metadata": {},
   "outputs": [
    {
     "data": {
      "text/plain": [
       "(array([[8.74183408],\n",
       "        [8.74183408]]),\n",
       " array([-14.84570058]),\n",
       " array([[3.56939002e-07],\n",
       "        [2.22923184e-03],\n",
       "        [2.22923184e-03],\n",
       "        [9.33265495e-01]]))"
      ]
     },
     "execution_count": 25,
     "metadata": {},
     "output_type": "execute_result"
    }
   ],
   "source": [
    "output0 = X\n",
    "for iter in range(10000):\n",
    "    output = sig(np.dot(output0, weights) + bias)\n",
    "    \n",
    "    first_term = output - Y\n",
    "    input_for_last_layer = np.dot(output0, weights) + bias\n",
    "    second_term = derivativeSig(input_for_last_layer)\n",
    "    first_two = first_term + second_term\n",
    "    first_two.shape\n",
    "    \n",
    "    changes = np.dot(output0.T, first_two)\n",
    "    weights = weights - lr*changes\n",
    "    bias_change = bias - lr * bias_change\n",
    "output = sig(np.dot(X, weights) + bias)\n",
    "weights, bias, output"
   ]
  },
  {
   "cell_type": "code",
   "execution_count": null,
   "id": "39aba303-0826-47b5-9eb6-bcf1779ce0c8",
   "metadata": {},
   "outputs": [],
   "source": []
  }
 ],
 "metadata": {
  "kernelspec": {
   "display_name": "Python 3 (ipykernel)",
   "language": "python",
   "name": "python3"
  },
  "language_info": {
   "codemirror_mode": {
    "name": "ipython",
    "version": 3
   },
   "file_extension": ".py",
   "mimetype": "text/x-python",
   "name": "python",
   "nbconvert_exporter": "python",
   "pygments_lexer": "ipython3",
   "version": "3.12.4"
  }
 },
 "nbformat": 4,
 "nbformat_minor": 5
}
