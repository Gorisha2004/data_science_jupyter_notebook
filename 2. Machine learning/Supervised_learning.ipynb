{
 "cells": [
  {
   "cell_type": "code",
   "execution_count": 1,
   "id": "9caecdb3-1daa-4ef8-a204-d6dc043c37a6",
   "metadata": {},
   "outputs": [],
   "source": [
    "from sklearn import datasets"
   ]
  },
  {
   "cell_type": "code",
   "execution_count": 2,
   "id": "689555f8-28dd-48a7-965a-de0c5a7b3aee",
   "metadata": {
    "scrolled": true
   },
   "outputs": [
    {
     "ename": "ImportError",
     "evalue": "\n`load_boston` has been removed from scikit-learn since version 1.2.\n\nThe Boston housing prices dataset has an ethical problem: as\ninvestigated in [1], the authors of this dataset engineered a\nnon-invertible variable \"B\" assuming that racial self-segregation had a\npositive impact on house prices [2]. Furthermore the goal of the\nresearch that led to the creation of this dataset was to study the\nimpact of air quality but it did not give adequate demonstration of the\nvalidity of this assumption.\n\nThe scikit-learn maintainers therefore strongly discourage the use of\nthis dataset unless the purpose of the code is to study and educate\nabout ethical issues in data science and machine learning.\n\nIn this special case, you can fetch the dataset from the original\nsource::\n\n    import pandas as pd\n    import numpy as np\n\n    data_url = \"http://lib.stat.cmu.edu/datasets/boston\"\n    raw_df = pd.read_csv(data_url, sep=\"\\s+\", skiprows=22, header=None)\n    data = np.hstack([raw_df.values[::2, :], raw_df.values[1::2, :2]])\n    target = raw_df.values[1::2, 2]\n\nAlternative datasets include the California housing dataset and the\nAmes housing dataset. You can load the datasets as follows::\n\n    from sklearn.datasets import fetch_california_housing\n    housing = fetch_california_housing()\n\nfor the California housing dataset and::\n\n    from sklearn.datasets import fetch_openml\n    housing = fetch_openml(name=\"house_prices\", as_frame=True)\n\nfor the Ames housing dataset.\n\n[1] M Carlisle.\n\"Racist data destruction?\"\n<https://medium.com/@docintangible/racist-data-destruction-113e3eff54a8>\n\n[2] Harrison Jr, David, and Daniel L. Rubinfeld.\n\"Hedonic housing prices and the demand for clean air.\"\nJournal of environmental economics and management 5.1 (1978): 81-102.\n<https://www.researchgate.net/publication/4974606_Hedonic_housing_prices_and_the_demand_for_clean_air>\n",
     "output_type": "error",
     "traceback": [
      "\u001b[1;31m---------------------------------------------------------------------------\u001b[0m",
      "\u001b[1;31mImportError\u001b[0m                               Traceback (most recent call last)",
      "Cell \u001b[1;32mIn[2], line 1\u001b[0m\n\u001b[1;32m----> 1\u001b[0m data \u001b[38;5;241m=\u001b[39m datasets\u001b[38;5;241m.\u001b[39mload_boston()\n",
      "File \u001b[1;32m~\\anaconda3\\Lib\\site-packages\\sklearn\\datasets\\__init__.py:157\u001b[0m, in \u001b[0;36m__getattr__\u001b[1;34m(name)\u001b[0m\n\u001b[0;32m    108\u001b[0m \u001b[38;5;28;01mif\u001b[39;00m name \u001b[38;5;241m==\u001b[39m \u001b[38;5;124m\"\u001b[39m\u001b[38;5;124mload_boston\u001b[39m\u001b[38;5;124m\"\u001b[39m:\n\u001b[0;32m    109\u001b[0m     msg \u001b[38;5;241m=\u001b[39m textwrap\u001b[38;5;241m.\u001b[39mdedent(\u001b[38;5;124m\"\"\"\u001b[39m\n\u001b[0;32m    110\u001b[0m \u001b[38;5;124m        `load_boston` has been removed from scikit-learn since version 1.2.\u001b[39m\n\u001b[0;32m    111\u001b[0m \n\u001b[1;32m   (...)\u001b[0m\n\u001b[0;32m    155\u001b[0m \u001b[38;5;124m        <https://www.researchgate.net/publication/4974606_Hedonic_housing_prices_and_the_demand_for_clean_air>\u001b[39m\n\u001b[0;32m    156\u001b[0m \u001b[38;5;124m        \u001b[39m\u001b[38;5;124m\"\"\"\u001b[39m)\n\u001b[1;32m--> 157\u001b[0m     \u001b[38;5;28;01mraise\u001b[39;00m \u001b[38;5;167;01mImportError\u001b[39;00m(msg)\n\u001b[0;32m    158\u001b[0m \u001b[38;5;28;01mtry\u001b[39;00m:\n\u001b[0;32m    159\u001b[0m     \u001b[38;5;28;01mreturn\u001b[39;00m \u001b[38;5;28mglobals\u001b[39m()[name]\n",
      "\u001b[1;31mImportError\u001b[0m: \n`load_boston` has been removed from scikit-learn since version 1.2.\n\nThe Boston housing prices dataset has an ethical problem: as\ninvestigated in [1], the authors of this dataset engineered a\nnon-invertible variable \"B\" assuming that racial self-segregation had a\npositive impact on house prices [2]. Furthermore the goal of the\nresearch that led to the creation of this dataset was to study the\nimpact of air quality but it did not give adequate demonstration of the\nvalidity of this assumption.\n\nThe scikit-learn maintainers therefore strongly discourage the use of\nthis dataset unless the purpose of the code is to study and educate\nabout ethical issues in data science and machine learning.\n\nIn this special case, you can fetch the dataset from the original\nsource::\n\n    import pandas as pd\n    import numpy as np\n\n    data_url = \"http://lib.stat.cmu.edu/datasets/boston\"\n    raw_df = pd.read_csv(data_url, sep=\"\\s+\", skiprows=22, header=None)\n    data = np.hstack([raw_df.values[::2, :], raw_df.values[1::2, :2]])\n    target = raw_df.values[1::2, 2]\n\nAlternative datasets include the California housing dataset and the\nAmes housing dataset. You can load the datasets as follows::\n\n    from sklearn.datasets import fetch_california_housing\n    housing = fetch_california_housing()\n\nfor the California housing dataset and::\n\n    from sklearn.datasets import fetch_openml\n    housing = fetch_openml(name=\"house_prices\", as_frame=True)\n\nfor the Ames housing dataset.\n\n[1] M Carlisle.\n\"Racist data destruction?\"\n<https://medium.com/@docintangible/racist-data-destruction-113e3eff54a8>\n\n[2] Harrison Jr, David, and Daniel L. Rubinfeld.\n\"Hedonic housing prices and the demand for clean air.\"\nJournal of environmental economics and management 5.1 (1978): 81-102.\n<https://www.researchgate.net/publication/4974606_Hedonic_housing_prices_and_the_demand_for_clean_air>\n"
     ]
    }
   ],
   "source": [
    "data = datasets.load_boston()"
   ]
  },
  {
   "cell_type": "code",
   "execution_count": 22,
   "id": "630bc3e4-c5d0-40f0-90a0-d1929a727684",
   "metadata": {},
   "outputs": [
    {
     "name": "stdout",
     "output_type": "stream",
     "text": [
      "['ZN', 'INDUS', 'CHAS', 'NOX', 'RM', 'AGE', 'DIS', 'RAD', 'TAX', 'PTRATIO', 'B', 'LSTAT', 'MEDV']\n"
     ]
    }
   ],
   "source": [
    "import pandas as pd\n",
    "import numpy as np\n",
    "\n",
    "data_url = \"http://lib.stat.cmu.edu/datasets/boston\"\n",
    "raw_df = pd.read_csv(data_url, sep=\"\\\\s+\", skiprows=22, header=None)\n",
    "import requests\n",
    "\n",
    "\n",
    "response = requests.get(data_url)\n",
    "lines = response.text.splitlines()  # Split content into lines\n",
    "\n",
    "# Extract the variable names from lines 3-16 (adjust based on dataset content)\n",
    "variable_lines = lines[8:21]  # Lines where variable names are located\n",
    "variable_names = []\n",
    "\n",
    "# Process each line to extract variable names\n",
    "for line in variable_lines:\n",
    "    first_word = line.split()[0]  # Split line into words and take the first one\n",
    "    variable_names.append(first_word)\n",
    "\n",
    "# Print the extracted variable names\n",
    "print(variable_names)\n",
    "\n"
   ]
  },
  {
   "cell_type": "code",
   "execution_count": 33,
   "id": "8171c629-8e60-43dc-a1f6-ffff36af49c5",
   "metadata": {},
   "outputs": [
    {
     "data": {
      "text/plain": [
       "array([[6.3200e-03, 1.8000e+01, 2.3100e+00, ..., 1.5300e+01, 3.9690e+02,\n",
       "        4.9800e+00],\n",
       "       [2.7310e-02, 0.0000e+00, 7.0700e+00, ..., 1.7800e+01, 3.9690e+02,\n",
       "        9.1400e+00],\n",
       "       [2.7290e-02, 0.0000e+00, 7.0700e+00, ..., 1.7800e+01, 3.9283e+02,\n",
       "        4.0300e+00],\n",
       "       ...,\n",
       "       [6.0760e-02, 0.0000e+00, 1.1930e+01, ..., 2.1000e+01, 3.9690e+02,\n",
       "        5.6400e+00],\n",
       "       [1.0959e-01, 0.0000e+00, 1.1930e+01, ..., 2.1000e+01, 3.9345e+02,\n",
       "        6.4800e+00],\n",
       "       [4.7410e-02, 0.0000e+00, 1.1930e+01, ..., 2.1000e+01, 3.9690e+02,\n",
       "        7.8800e+00]])"
      ]
     },
     "execution_count": 33,
     "metadata": {},
     "output_type": "execute_result"
    }
   ],
   "source": [
    "data = np.hstack([raw_df.values[::2, :], raw_df.values[1::2, :2]])\n",
    "target = raw_df.values[1::2, 2]\n",
    "df = pd.DataFrame(data)\n",
    "df.columns = variable_names\n",
    "df.describe()\n",
    "data"
   ]
  },
  {
   "cell_type": "code",
   "execution_count": 37,
   "id": "1a2a3507-2473-423f-a25e-695558dc4682",
   "metadata": {},
   "outputs": [
    {
     "data": {
      "text/plain": [
       "[           ZN  INDUS   CHAS  NOX     RM    AGE    DIS      RAD   TAX  PTRATIO  \\\n",
       " 354   0.04301   80.0   1.91  0.0  0.413  5.663   21.9  10.5857   4.0    334.0   \n",
       " 436  14.42080    0.0  18.10  0.0  0.740  6.461   93.3   2.0026  24.0    666.0   \n",
       " 218   0.11069    0.0  13.89  1.0  0.550  5.951   93.8   2.8893   5.0    276.0   \n",
       " 442   5.66637    0.0  18.10  0.0  0.740  6.219  100.0   2.0048  24.0    666.0   \n",
       " 368   4.89822    0.0  18.10  0.0  0.631  4.970  100.0   1.3325  24.0    666.0   \n",
       " ..        ...    ...    ...  ...    ...    ...    ...      ...   ...      ...   \n",
       " 448   9.32909    0.0  18.10  0.0  0.713  6.185   98.7   2.2616  24.0    666.0   \n",
       " 341   0.01301   35.0   1.52  0.0  0.442  7.241   49.3   7.0379   1.0    284.0   \n",
       " 430   8.49213    0.0  18.10  0.0  0.584  6.348   86.1   2.0527  24.0    666.0   \n",
       " 369   5.66998    0.0  18.10  1.0  0.631  6.683   96.8   1.3567  24.0    666.0   \n",
       " 0     0.00632   18.0   2.31  0.0  0.538  6.575   65.2   4.0900   1.0    296.0   \n",
       " \n",
       "         B   LSTAT   MEDV  \n",
       " 354  22.0  382.80   8.05  \n",
       " 436  20.2   27.49  18.05  \n",
       " 218  16.4  396.90  17.92  \n",
       " 442  20.2  395.69  16.59  \n",
       " 368  20.2  375.52   3.26  \n",
       " ..    ...     ...    ...  \n",
       " 448  20.2  396.90  18.13  \n",
       " 341  15.5  394.74   5.49  \n",
       " 430  20.2   83.45  17.64  \n",
       " 369  20.2  375.33   3.73  \n",
       " 0    15.3  396.90   4.98  \n",
       " \n",
       " [379 rows x 13 columns],\n",
       "           ZN  INDUS   CHAS  NOX     RM    AGE    DIS     RAD   TAX  PTRATIO  \\\n",
       " 2    0.02729    0.0   7.07  0.0  0.469  7.185   61.1  4.9671   2.0    242.0   \n",
       " 110  0.10793    0.0   8.56  0.0  0.520  6.195   54.4  2.7778   5.0    384.0   \n",
       " 123  0.15038    0.0  25.65  0.0  0.581  5.856   97.0  1.9444   2.0    188.0   \n",
       " 423  7.05042    0.0  18.10  0.0  0.614  6.103   85.1  2.0218  24.0    666.0   \n",
       " 306  0.07503   33.0   2.18  0.0  0.472  7.420   71.9  3.0992   7.0    222.0   \n",
       " ..       ...    ...    ...  ...    ...    ...    ...     ...   ...      ...   \n",
       " 361  3.83684    0.0  18.10  0.0  0.770  6.251   91.1  2.2955  24.0    666.0   \n",
       " 326  0.30347    0.0   7.38  0.0  0.493  6.312   28.9  5.4159   5.0    287.0   \n",
       " 138  0.24980    0.0  21.89  0.0  0.624  5.857   98.2  1.6686   4.0    437.0   \n",
       " 95   0.12204    0.0   2.89  0.0  0.445  6.625   57.8  3.4952   2.0    276.0   \n",
       " 8    0.21124   12.5   7.87  0.0  0.524  5.631  100.0  6.0821   5.0    311.0   \n",
       " \n",
       "         B   LSTAT   MEDV  \n",
       " 2    17.8  392.83   4.03  \n",
       " 110  20.9  393.49  13.00  \n",
       " 123  19.1  370.31  25.41  \n",
       " 423  20.2    2.52  23.29  \n",
       " 306  18.4  396.90   6.47  \n",
       " ..    ...     ...    ...  \n",
       " 361  20.2  350.65  14.19  \n",
       " 326  19.6  396.90   6.15  \n",
       " 138  21.2  392.04  21.32  \n",
       " 95   18.0  357.98   6.65  \n",
       " 8    15.2  386.63  29.93  \n",
       " \n",
       " [127 rows x 13 columns],\n",
       " array([18.2,  9.6, 21.5, 18.4, 50. , 11.9, 24.6, 20.6, 13.9, 20.9,  7.2,\n",
       "        30.1, 11. , 15.4, 23. , 13.1, 17.8, 27.5, 44. , 19.6, 26.7, 50. ,\n",
       "        18.4, 11.9, 24.8, 23.7, 22.2, 28.7, 16.7, 26.6, 32. , 30.1, 22.9,\n",
       "        20. , 19.3, 10.2, 18.5, 15.6, 13.5, 13.6, 10.5, 35.4, 16.4, 14.6,\n",
       "        22.5, 50. ,  6.3, 20.4, 28.5, 14. , 41.7, 15.6, 13.8, 20.7, 23.9,\n",
       "        22. , 31.6, 17.9, 11.5, 20. , 28.7, 21.7, 25. , 20.1, 16.2, 19.4,\n",
       "        14.1, 50. ,  8.1, 22. , 18.9, 27.9, 15.3, 21.7, 24. ,  8.8, 35.1,\n",
       "        22.6, 17.8, 19.6, 22.8, 21.9, 15.6, 20.5, 19.5, 20.4, 33.3, 19.1,\n",
       "         7. , 21.7,  7.5, 18.7, 20.8, 16.1, 22.6,  7.2, 27. , 20.6,  5. ,\n",
       "        37.3, 43.8, 19.3, 11.3, 24.4, 14.5, 23.8, 25.3, 30.8, 26.2, 15.1,\n",
       "        18. , 22.1, 36. ,  7.2, 31.2, 28.4, 21.2, 23.1, 19.4, 13.9, 15.2,\n",
       "        37. , 23.8, 23.3, 23.1, 17.8, 17.6, 14.3, 18.7, 22.8, 37.6, 22. ,\n",
       "        31.7, 12.8, 21.4, 18.5, 10.2, 43.1, 14.5, 21.2, 22.5, 26.4, 25.2,\n",
       "        18.6, 17.8, 15. , 27.1, 29.8, 21. , 23. , 27.5, 15.2, 48.3, 23.2,\n",
       "        19.4, 32.9, 23.2, 13.8, 27.1, 14.3, 18.3, 28.1, 19.6, 34.6, 23.1,\n",
       "        20.7, 22.6, 16. , 13.3, 21.6, 21.4, 19.9, 23.8, 22.6, 11.7, 21.1,\n",
       "        23.3, 50. , 17.4, 19.8, 18.5, 13.3, 19.3, 30.7, 22. , 39.8, 24.5,\n",
       "        22.7, 20.1, 20.1, 19.1, 50. , 13.1, 21.9, 29.8, 21.4, 11.8, 18.7,\n",
       "        20. , 21.8, 17.2, 23.7, 42.3,  7.4, 50. , 14.9, 31.1, 19.2, 15.2,\n",
       "        10.9, 24.8, 21.2, 50. , 29.4, 19.6, 13.2, 17.5, 23.6, 22. , 22.5,\n",
       "        14.6, 45.4, 19.1, 16.1, 11.8, 24.5, 19.3, 48.5, 50. , 32.4, 15.6,\n",
       "        20.3, 50. , 13.8, 50. , 30.1, 28. , 20.3, 23.6, 17.5, 18.9, 20.6,\n",
       "        32.5, 11.7, 20.8, 17.1, 20.1, 14.9, 16.8, 18.8, 12.7, 22.9, 22.4,\n",
       "        20.8, 10.8, 28.7, 25. ,  8.3, 20.2, 21.1, 19.5, 19.4, 21.4, 21.7,\n",
       "        15. , 13.4, 25. , 32.2, 33.1, 16.7, 19.9, 13.6, 18.8, 30.3, 16.2,\n",
       "        21.9, 35.4, 24.8, 26.6, 23.1, 34.9, 18.2, 19.4, 14.9, 19.6, 19.2,\n",
       "        20. , 26.6, 26.5, 43.5, 21.6, 17.4, 17.4, 16.6, 23.5,  8.4, 46. ,\n",
       "        14.4, 19.8, 50. , 18.4, 25.1, 10.4, 15.7, 33.1, 13.1, 12.6, 22.6,\n",
       "        38.7, 27.5, 13.1, 33.2, 24.4, 29. , 23.8, 13.4, 21.4, 33.8, 18.9,\n",
       "        31.5, 20.1, 23.3, 24.7, 21. , 34.9, 33.2, 36.1, 24.3, 20.2, 19.7,\n",
       "        29.9, 24.1, 31.5, 16.6, 10.9, 24.4, 17.2, 23. , 15. , 25. , 20. ,\n",
       "        35.2, 22.3, 23.9, 29.1, 24.7, 23.3, 12.7,  8.7, 20.5, 23.7,  5.6,\n",
       "        18.3, 24.5, 23.9, 31. , 24.1, 23.7, 21.7, 12.3, 23.2, 36.2, 18.1,\n",
       "        44.8,  5. , 19.5, 20.6,  8.8, 30.5, 23.4, 20.6, 13.5, 22.2, 22.4,\n",
       "        14.1, 32.7, 14.5, 50. , 24. ]),\n",
       " array([34.7, 21.7, 17.3, 13.4, 33.4,  9.7, 18.2, 15.6, 16.8, 33. , 37.2,\n",
       "        22. , 14.1, 17.1, 25. , 21.2,  8.5, 50. , 16.3, 22. , 22.7, 12. ,\n",
       "        22.8, 19.5, 25. , 12.5,  8.4, 22.2, 23.1, 27.9, 22.8, 12.1, 20.4,\n",
       "        21.5, 46.7, 16.5, 50. , 12.7, 13. , 17.2, 19.9, 29.6, 20.3, 48.8,\n",
       "        24.3, 29.1, 24.3, 13.8, 20.6, 19.8, 17.7, 19.4, 18.5, 25. , 13.4,\n",
       "        20.5, 31.6, 14.8, 23.1, 21. , 17.1, 13.8, 10.4, 24.2, 20.3, 20.9,\n",
       "        37.9, 29.6, 25. , 14.4, 24.4, 20.4,  8.3, 19.7, 10.5, 27.5,  7. ,\n",
       "        36.2, 32. , 14.2, 22.2, 17.5, 15.4, 24.8, 19.1, 23.4, 24.1, 19. ,\n",
       "        36.5, 21.7, 16.1, 10.2, 26.4, 24.6, 24.7, 22.9, 21.8, 18.6, 17.8,\n",
       "        18.9, 19. ,  8.5, 23.9, 17. , 23.2, 34.9, 22.9, 50. ,  9.5, 19.3,\n",
       "        36.4, 22.2, 41.3, 33.4, 23.1, 21.2, 42.8, 28.6, 23.9, 29. , 28.2,\n",
       "        22.3, 19.9, 23. , 13.3, 28.4, 16.5])]"
      ]
     },
     "execution_count": 37,
     "metadata": {},
     "output_type": "execute_result"
    }
   ],
   "source": [
    "from sklearn import model_selection\n",
    "model_selection.train_test_split(df,target)"
   ]
  },
  {
   "cell_type": "code",
   "execution_count": 38,
   "id": "b73bad18-305c-414e-8136-80c6185d0e08",
   "metadata": {},
   "outputs": [],
   "source": [
    "from sklearn.linear_model import LinearRegression\n",
    "alg_1 = LinearRegression"
   ]
  },
  {
   "cell_type": "code",
   "execution_count": null,
   "id": "80aa900a-8e63-4bc1-872c-135d454d0d82",
   "metadata": {},
   "outputs": [],
   "source": []
  }
 ],
 "metadata": {
  "kernelspec": {
   "display_name": "Python 3 (ipykernel)",
   "language": "python",
   "name": "python3"
  },
  "language_info": {
   "codemirror_mode": {
    "name": "ipython",
    "version": 3
   },
   "file_extension": ".py",
   "mimetype": "text/x-python",
   "name": "python",
   "nbconvert_exporter": "python",
   "pygments_lexer": "ipython3",
   "version": "3.12.4"
  }
 },
 "nbformat": 4,
 "nbformat_minor": 5
}
