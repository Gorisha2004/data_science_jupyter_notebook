{
 "cells": [
  {
   "cell_type": "code",
   "execution_count": 13,
   "id": "40ac8e52-b59d-4cc2-a542-d36f855f6051",
   "metadata": {},
   "outputs": [],
   "source": [
    "import tensorflow as tf\n",
    "import tensorflow_datasets as tfds\n",
    "\n",
    "# Load MNIST dataset\n",
    "mnist = tfds.load(name=\"mnist\", as_supervised=True, split = \"train\")"
   ]
  },
  {
   "cell_type": "code",
   "execution_count": 14,
   "id": "9acf4d15-3645-44c0-962a-cbfa36f2698b",
   "metadata": {},
   "outputs": [],
   "source": [
    "num_classes = 10  # MNIST has 10 classes (digits 0-9)\n",
    "\n",
    "def one_hot_encode(image, label):\n",
    "    label = tf.one_hot(label, depth=num_classes)  # Convert label to one-hot\n",
    "    return image, label\n",
    "\n",
    "# Apply one-hot encoding to the dataset\n",
    "mnist = mnist.map(one_hot_encode)"
   ]
  },
  {
   "cell_type": "code",
   "execution_count": 6,
   "id": "eb3e69e2-2b63-4bb6-b1d5-87595f5ba059",
   "metadata": {},
   "outputs": [],
   "source": [
    "# !pip install tensorflow-datasets\n"
   ]
  },
  {
   "cell_type": "code",
   "execution_count": 15,
   "id": "275a1de9-9381-4e03-817b-ecac5bb324b8",
   "metadata": {},
   "outputs": [
    {
     "data": {
      "text/plain": [
       "<_MapDataset element_spec=(TensorSpec(shape=(28, 28, 1), dtype=tf.uint8, name=None), TensorSpec(shape=(10,), dtype=tf.float32, name=None))>"
      ]
     },
     "execution_count": 15,
     "metadata": {},
     "output_type": "execute_result"
    }
   ],
   "source": [
    "mnist"
   ]
  },
  {
   "cell_type": "code",
   "execution_count": 17,
   "id": "45f123b5-5b65-4fa0-b656-89396ad8d11d",
   "metadata": {},
   "outputs": [
    {
     "name": "stdout",
     "output_type": "stream",
     "text": [
      "(TensorSpec(shape=(28, 28, 1), dtype=tf.uint8, name=None), TensorSpec(shape=(10,), dtype=tf.float32, name=None))\n"
     ]
    }
   ],
   "source": [
    "print(mnist.element_spec)\n"
   ]
  },
  {
   "cell_type": "code",
   "execution_count": 18,
   "id": "06cca7c5-ae2a-4bd6-9d48-26d41e9b3b8f",
   "metadata": {},
   "outputs": [],
   "source": [
    "import numpy as np\n",
    "from matplotlib import pyplot as plt"
   ]
  },
  {
   "cell_type": "code",
   "execution_count": 24,
   "id": "b2cc54e6-d614-4a41-8ab3-e2fc8f26f0b5",
   "metadata": {},
   "outputs": [
    {
     "data": {
      "image/png": "[encoded data removed]",
      "text/plain": [
       "<Figure size 640x480 with 1 Axes>"
      ]
     },
     "metadata": {},
     "output_type": "display_data"
    }
   ],
   "source": [
    "# first_image = mnist.train.images[0]\n",
    "# first_image = np.array(first_image, dtype = 'float')\n",
    "# first_image = first_image.reshape((28,28))\n",
    "# plt.imshow(first_image)\n",
    "# plt.show()\n",
    "\n",
    "\n",
    "# Extract the first image and label\n",
    "for image, label in mnist.take(234):  \n",
    "    first_image = image.numpy()  # Convert Tensor to NumPy array\n",
    "\n",
    "# Reshape and display\n",
    "first_image = first_image.reshape((28, 28))\n",
    "plt.imshow(first_image, cmap=\"gray\")\n",
    "plt.show()"
   ]
  },
  {
   "cell_type": "code",
   "execution_count": 27,
   "id": "a22da0be-ed81-491b-86d7-f4bac69cffa9",
   "metadata": {},
   "outputs": [],
   "source": [
    "n_input = 784\n",
    "n_hidden_1 = 256\n",
    "n_hidden_2 = 256\n",
    "n_classes = 10\n",
    "\n",
    "weights = {\n",
    "    'h1' : tf.Variable(tf.random.normal([n_input, n_hidden_1])),\n",
    "    'h2' : tf.Variable(tf.random.normal([n_hidden_1, n_hidden_2])),\n",
    "    'out' : tf.Variable(tf.random.normal([n_hidden_1, n_classes]))\n",
    "}\n",
    "biases = {\n",
    "    'h1' : tf.Variable(tf.random.normal([ n_hidden_1])),\n",
    "    'h2' : tf.Variable(tf.random.normal([ n_hidden_2])),\n",
    "    'out' : tf.Variable(tf.random.normal([ n_classes]))\n",
    "}"
   ]
  },
  {
   "cell_type": "code",
   "execution_count": 28,
   "id": "a364f6ea-2f0f-4fb6-8958-b3f5ee2728b7",
   "metadata": {},
   "outputs": [],
   "source": [
    "def forward_propagation(x, weights, biases):\n",
    "    in_layer1 = tf.add(tf.matmul(x, weights['h1']), biases['h2'])\n",
    "    out_layer1 = tf.nn.relu(in_layer1)\n",
    "    \n",
    "    in_layer2 = tf.add(tf.matmul(out_layer1, weights['h2']), biases['h2'])\n",
    "    out_layer2 = tf.nn.relu(in_layer2)\n",
    "    output = tf.add(tf.matmul(out_layer2, weights['out']), biases['out'])\n",
    "    return output"
   ]
  },
  {
   "cell_type": "code",
   "execution_count": 30,
   "id": "9b864a8c-c841-4e91-98d6-cdb814e31292",
   "metadata": {},
   "outputs": [],
   "source": [
    "# x = tf.keras.Input(shape=(n_input,))\n",
    "# y = tf.keras.Input(shape=(n_classes,))\n",
    "# pred = forward_propagation(x, weights, biases)\n",
    "# predictions = tf.argmax(pred, axis=1)\n",
    "# correct_labels = tf.argmax(y, axis=1)\n",
    "\n",
    "# # Initialize the model and perform predictions\n",
    "# model = tf.keras.Model(inputs=[x, y], outputs=predictions)\n",
    "\n",
    "# # In TensorFlow 2.x, we no longer need a session. We can directly use the model.\n",
    "# # Replace the session.run() with model prediction\n",
    "# predictions_eval = model.predict(x=tf.mnist.test.images)\n",
    "# all other code is in notes"
   ]
  },
  {
   "cell_type": "code",
   "execution_count": null,
   "id": "b5fe16d8-1bd7-4525-ab21-2588ef3519ae",
   "metadata": {},
   "outputs": [],
   "source": []
  }
 ],
 "metadata": {
  "kernelspec": {
   "display_name": "Python 3 (ipykernel)",
   "language": "python",
   "name": "python3"
  },
  "language_info": {
   "codemirror_mode": {
    "name": "ipython",
    "version": 3
   },
   "file_extension": ".py",
   "mimetype": "text/x-python",
   "name": "python",
   "nbconvert_exporter": "python",
   "pygments_lexer": "ipython3",
   "version": "3.12.4"
  }
 },
 "nbformat": 4,
 "nbformat_minor": 5
}
