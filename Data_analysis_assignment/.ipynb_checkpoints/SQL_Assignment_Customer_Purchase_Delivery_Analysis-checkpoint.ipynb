{
 "cells": [
  {
   "cell_type": "code",
   "execution_count": 1,
   "id": "02265297-a3ea-4c71-abf8-c14eb38be85f",
   "metadata": {},
   "outputs": [],
   "source": [
    "import sqlite3\n",
    "import pandas as pd"
   ]
  },
  {
   "cell_type": "code",
   "execution_count": 2,
   "id": "dcaf5a91-f08d-4ac9-8f71-8807d9afedc3",
   "metadata": {},
   "outputs": [
    {
     "name": "stdout",
     "output_type": "stream",
     "text": [
      "Orders data loaded successfully!\n"
     ]
    }
   ],
   "source": [
    "conn = sqlite3.connect(\"database.db\")  # This creates a new database file if not already present\n",
    "cursor = conn.cursor()\n",
    "\n",
    "# Load CSV into a Pandas DataFrame\n",
    "orders_df = pd.read_csv(\"orders1.csv\")\n",
    "delivery_df = pd.read_csv(\"delivery_performance.csv\")\n",
    "\n",
    "# Save DataFrame to SQLite (ensure column names match your SQL query)\n",
    "orders_df.to_sql(\"orders1\", conn, if_exists=\"replace\", index=False)\n",
    "delivery_df.to_sql(\"delivery_performance\", conn, if_exists=\"replace\", index=False)\n",
    "\n",
    "print(\"Orders data loaded successfully!\")"
   ]
  },
  {
   "cell_type": "markdown",
   "id": "7c26d849-958d-4806-876c-418e6e06dc63",
   "metadata": {},
   "source": [
    "# Task 1."
   ]
  },
  {
   "cell_type": "code",
   "execution_count": 3,
   "id": "0776b63a-8167-47f1-955f-0231a80b862c",
   "metadata": {
    "scrolled": true
   },
   "outputs": [
    {
     "name": "stdout",
     "output_type": "stream",
     "text": [
      "     customer_id\n",
      "0           1001\n",
      "1           1002\n",
      "2           1003\n",
      "3           1005\n",
      "4           1006\n",
      "..           ...\n",
      "959         1996\n",
      "960         1997\n",
      "961         1998\n",
      "962         1999\n",
      "963         2000\n",
      "\n",
      "[964 rows x 1 columns]\n"
     ]
    }
   ],
   "source": [
    "query = \"\"\"\n",
    "WITH customer_order_count AS (\n",
    "    SELECT customer_id, COUNT(order_id) AS total_orders, MAX(order_date) AS last_order_date\n",
    "    FROM orders1\n",
    "    GROUP BY customer_id\n",
    ")\n",
    "SELECT customer_id\n",
    "FROM customer_order_count\n",
    "WHERE total_orders >= 2\n",
    "AND last_order_date <= date('now', '-60 day');\n",
    "\"\"\"\n",
    "\n",
    "# Execute query and fetch results into a DataFrame\n",
    "df = pd.read_sql(query, conn)\n",
    "\n",
    "# Display results\n",
    "print(df)\n",
    "\n",
    "# Close the connection\n",
    "# conn.close()\n"
   ]
  },
  {
   "cell_type": "code",
   "execution_count": 4,
   "id": "4cabd048-30cc-4c2f-914f-acdfd89a43e2",
   "metadata": {},
   "outputs": [],
   "source": [
    "# df.to_csv(\"customer_orders_results.csv\", index=False)\n",
    "# print(\"Results saved as customer_orders_results.csv\")"
   ]
  },
  {
   "cell_type": "markdown",
   "id": "5f952139-64dc-4b62-913b-8b60cc9f86aa",
   "metadata": {},
   "source": [
    "# Task 2."
   ]
  },
  {
   "cell_type": "code",
   "execution_count": 5,
   "id": "51d8ce70-0829-4c21-9ff7-f90059da2dca",
   "metadata": {},
   "outputs": [],
   "source": [
    "query = \"\"\"\n",
    "WITH ordered_data AS (\n",
    "    SELECT customer_id, order_date,\n",
    "           LAG(order_date) OVER (PARTITION BY customer_id ORDER BY order_date) AS prev_order_date\n",
    "    FROM orders1\n",
    ")\n",
    "SELECT customer_id, \n",
    "       AVG((julianday(order_date) - julianday(prev_order_date))) AS avg_days_between_orders\n",
    "FROM ordered_data\n",
    "WHERE prev_order_date IS NOT NULL\n",
    "GROUP BY customer_id;\n",
    "\"\"\""
   ]
  },
  {
   "cell_type": "code",
   "execution_count": 6,
   "id": "ea064302-f040-4ffe-a5b7-5dbcc412b003",
   "metadata": {},
   "outputs": [
    {
     "name": "stdout",
     "output_type": "stream",
     "text": [
      "   customer_id  avg_days_between_orders\n",
      "0         1001                45.666667\n",
      "1         1002               225.000000\n",
      "2         1003               141.500000\n",
      "3         1005                24.500000\n",
      "4         1006                95.666667\n"
     ]
    }
   ],
   "source": [
    "df = pd.read_sql(query, conn)\n",
    "\n",
    "# Save results as CSV\n",
    "df.to_csv(\"avg_order_gap_results.csv\", index=False)\n",
    "\n",
    "# Display first few results\n",
    "print(df.head())\n",
    "\n",
    "# Close connection\n",
    "# conn.close()"
   ]
  },
  {
   "cell_type": "code",
   "execution_count": 7,
   "id": "3c54ce81-5001-4787-93ac-48366b2c2c61",
   "metadata": {},
   "outputs": [
    {
     "name": "stdout",
     "output_type": "stream",
     "text": [
      "   cid          name     type  notnull dflt_value  pk\n",
      "0    0      order_id  INTEGER        0       None   0\n",
      "1    1   customer_id  INTEGER        0       None   0\n",
      "2    2    order_date     TEXT        0       None   0\n",
      "3    3          city     TEXT        0       None   0\n",
      "4    4  total_amount     REAL        0       None   0\n"
     ]
    }
   ],
   "source": [
    "query = \"PRAGMA table_info(orders1);\"\n",
    "df = pd.read_sql(query, conn)\n",
    "print(df)\n"
   ]
  },
  {
   "cell_type": "code",
   "execution_count": 8,
   "id": "dc52e046-5947-4a34-93eb-31019ed30f2c",
   "metadata": {},
   "outputs": [],
   "source": [
    "query = \"\"\"\n",
    "ALTER TABLE orders1 ADD COLUMN total_amount_fixed REAL;\n",
    "UPDATE orders1 SET total_amount_fixed = CAST(total_amount AS REAL);\n",
    "\"\"\"\n",
    "conn.executescript(query)\n",
    "conn.commit()\n"
   ]
  },
  {
   "cell_type": "code",
   "execution_count": 9,
   "id": "c604b0dc-dfec-4592-a24f-61ef204aba68",
   "metadata": {},
   "outputs": [
    {
     "name": "stdout",
     "output_type": "stream",
     "text": [
      "Empty DataFrame\n",
      "Columns: [total_amount]\n",
      "Index: []\n"
     ]
    }
   ],
   "source": [
    "query = \"SELECT total_amount FROM orders1 WHERE total_amount NOT LIKE '%0%' AND total_amount NOT LIKE '%1%' AND total_amount NOT LIKE '%2%' AND total_amount NOT LIKE '%3%' AND total_amount NOT LIKE '%4%' AND total_amount NOT LIKE '%5%' AND total_amount NOT LIKE '%6%' AND total_amount NOT LIKE '%7%' AND total_amount NOT LIKE '%8%' AND total_amount NOT LIKE '%9%' LIMIT 10;\"\n",
    "df_invalid = pd.read_sql(query, conn)\n",
    "print(df_invalid)\n"
   ]
  },
  {
   "cell_type": "code",
   "execution_count": 10,
   "id": "02d03f23-ae61-405d-8e2c-779b7dba01c1",
   "metadata": {},
   "outputs": [],
   "source": [
    "query = \"\"\"\n",
    "UPDATE orders1 \n",
    "SET total_amount = NULL \n",
    "WHERE total_amount NOT LIKE '%0%' \n",
    "AND total_amount NOT LIKE '%1%' \n",
    "AND total_amount NOT LIKE '%2%' \n",
    "AND total_amount NOT LIKE '%3%' \n",
    "AND total_amount NOT LIKE '%4%' \n",
    "AND total_amount NOT LIKE '%5%' \n",
    "AND total_amount NOT LIKE '%6%' \n",
    "AND total_amount NOT LIKE '%7%' \n",
    "AND total_amount NOT LIKE '%8%' \n",
    "AND total_amount NOT LIKE '%9%';\n",
    "\"\"\"\n",
    "conn.executescript(query)\n",
    "conn.commit()\n"
   ]
  },
  {
   "cell_type": "markdown",
   "id": "88aeddaf-4dc0-4691-b6b2-b3c9351778b1",
   "metadata": {},
   "source": [
    "# Task 3."
   ]
  },
  {
   "cell_type": "code",
   "execution_count": 11,
   "id": "787b0615-f16f-4eb9-b66d-2b818170dd2c",
   "metadata": {},
   "outputs": [
    {
     "data": {
      "text/html": [
       "<div>\n",
       "<style scoped>\n",
       "    .dataframe tbody tr th:only-of-type {\n",
       "        vertical-align: middle;\n",
       "    }\n",
       "\n",
       "    .dataframe tbody tr th {\n",
       "        vertical-align: top;\n",
       "    }\n",
       "\n",
       "    .dataframe thead th {\n",
       "        text-align: right;\n",
       "    }\n",
       "</style>\n",
       "<table border=\"1\" class=\"dataframe\">\n",
       "  <thead>\n",
       "    <tr style=\"text-align: right;\">\n",
       "      <th></th>\n",
       "      <th>customer_id</th>\n",
       "      <th>total_spent</th>\n",
       "      <th>avg_order_value</th>\n",
       "    </tr>\n",
       "  </thead>\n",
       "  <tbody>\n",
       "    <tr>\n",
       "      <th>0</th>\n",
       "      <td>1161</td>\n",
       "      <td>3814.541693</td>\n",
       "      <td>293.426284</td>\n",
       "    </tr>\n",
       "    <tr>\n",
       "      <th>1</th>\n",
       "      <td>1770</td>\n",
       "      <td>3528.258650</td>\n",
       "      <td>320.750786</td>\n",
       "    </tr>\n",
       "    <tr>\n",
       "      <th>2</th>\n",
       "      <td>1578</td>\n",
       "      <td>3473.933656</td>\n",
       "      <td>315.812151</td>\n",
       "    </tr>\n",
       "    <tr>\n",
       "      <th>3</th>\n",
       "      <td>1200</td>\n",
       "      <td>3331.480574</td>\n",
       "      <td>302.861870</td>\n",
       "    </tr>\n",
       "    <tr>\n",
       "      <th>4</th>\n",
       "      <td>1916</td>\n",
       "      <td>3161.905979</td>\n",
       "      <td>351.322887</td>\n",
       "    </tr>\n",
       "  </tbody>\n",
       "</table>\n",
       "</div>"
      ],
      "text/plain": [
       "   customer_id  total_spent  avg_order_value\n",
       "0         1161  3814.541693       293.426284\n",
       "1         1770  3528.258650       320.750786\n",
       "2         1578  3473.933656       315.812151\n",
       "3         1200  3331.480574       302.861870\n",
       "4         1916  3161.905979       351.322887"
      ]
     },
     "execution_count": 11,
     "metadata": {},
     "output_type": "execute_result"
    }
   ],
   "source": [
    "query = \"\"\"\n",
    "WITH customer_spend AS (\n",
    "    SELECT customer_id, \n",
    "           SUM(CAST(total_amount AS REAL)) AS total_spent, \n",
    "           COUNT(order_id) AS total_orders\n",
    "    FROM orders1\n",
    "    GROUP BY customer_id\n",
    "),\n",
    "percentile_cutoff AS (\n",
    "    SELECT total_spent \n",
    "    FROM customer_spend\n",
    "    ORDER BY total_spent DESC\n",
    "    LIMIT 1 OFFSET CAST((SELECT COUNT(*) * 0.1 FROM customer_spend) AS INTEGER)\n",
    ")\n",
    "SELECT c.customer_id, \n",
    "       c.total_spent, \n",
    "       (c.total_spent * 1.0 / c.total_orders) AS avg_order_value\n",
    "FROM customer_spend c\n",
    "JOIN percentile_cutoff p \n",
    "ON c.total_spent >= p.total_spent\n",
    "ORDER BY c.total_spent DESC;\n",
    "\n",
    "\"\"\"\n",
    "df = pd.read_sql(query, conn)\n",
    "df.to_csv(\"top_10_percent_customers.csv\", index=False)\n",
    "df.head()\n"
   ]
  },
  {
   "cell_type": "markdown",
   "id": "82908497-3487-4bb3-881b-ad3f78841e59",
   "metadata": {},
   "source": [
    "# Task 4."
   ]
  },
  {
   "cell_type": "code",
   "execution_count": 13,
   "id": "26758ff9-3e4d-4739-a482-1d22258b632c",
   "metadata": {},
   "outputs": [
    {
     "name": "stdout",
     "output_type": "stream",
     "text": [
      "Orders1 Table Schema:\n",
      "   cid                name     type  notnull dflt_value  pk\n",
      "0    0            order_id  INTEGER        0       None   0\n",
      "1    1         customer_id  INTEGER        0       None   0\n",
      "2    2          order_date     TEXT        0       None   0\n",
      "3    3                city     TEXT        0       None   0\n",
      "4    4        total_amount     REAL        0       None   0\n",
      "5    5  total_amount_fixed     REAL        0       None   0\n",
      "\n",
      "Delivery Performance Table Schema:\n",
      "   cid             name     type  notnull dflt_value  pk\n",
      "0    0         order_id  INTEGER        0       None   0\n",
      "1    1      customer_id  INTEGER        0       None   0\n",
      "2    2  delivery_status     TEXT        0       None   0\n",
      "3    3    delivery_time  INTEGER        0       None   0\n"
     ]
    }
   ],
   "source": [
    "# Checking the schema of the tables to confirm the column types\n",
    "schema_orders1 = \"PRAGMA table_info(orders1);\"\n",
    "schema_delivery_performance = \"PRAGMA table_info(delivery_performance);\"\n",
    "\n",
    "# Running the queries to check the column info\n",
    "orders1_schema = pd.read_sql(schema_orders1, conn)\n",
    "delivery_performance_schema = pd.read_sql(schema_delivery_performance, conn)\n",
    "\n",
    "# Displaying the results\n",
    "print(\"Orders1 Table Schema:\")\n",
    "print(orders1_schema)\n",
    "\n",
    "print(\"\\nDelivery Performance Table Schema:\")\n",
    "print(delivery_performance_schema)\n"
   ]
  },
  {
   "cell_type": "code",
   "execution_count": 14,
   "id": "52c8980d-e2e4-4d3e-afc0-cc7dc86cd247",
   "metadata": {},
   "outputs": [
    {
     "name": "stdout",
     "output_type": "stream",
     "text": [
      "Missing order_id in orders1:\n",
      "Empty DataFrame\n",
      "Columns: [order_id, customer_id, order_date, city, total_amount, total_amount_fixed]\n",
      "Index: []\n",
      "\n",
      "Missing order_id in delivery_performance:\n",
      "Empty DataFrame\n",
      "Columns: [order_id, customer_id, delivery_status, delivery_time]\n",
      "Index: []\n"
     ]
    }
   ],
   "source": [
    "# Checking if there are any missing or NULL order_id in orders1\n",
    "missing_order_id_orders1 = \"SELECT * FROM orders1 WHERE order_id IS NULL;\"\n",
    "missing_order_id_orders1_result = pd.read_sql(missing_order_id_orders1, conn)\n",
    "\n",
    "# Checking if there are any missing or NULL order_id in delivery_performance\n",
    "missing_order_id_delivery_performance = \"SELECT * FROM delivery_performance WHERE order_id IS NULL;\"\n",
    "missing_order_id_delivery_performance_result = pd.read_sql(missing_order_id_delivery_performance, conn)\n",
    "\n",
    "# Displaying the results\n",
    "print(\"Missing order_id in orders1:\")\n",
    "print(missing_order_id_orders1_result)\n",
    "\n",
    "print(\"\\nMissing order_id in delivery_performance:\")\n",
    "print(missing_order_id_delivery_performance_result)\n"
   ]
  },
  {
   "cell_type": "code",
   "execution_count": 15,
   "id": "c829fdc8-7ab2-42e8-a57c-4ab5d28310cf",
   "metadata": {},
   "outputs": [
    {
     "name": "stdout",
     "output_type": "stream",
     "text": [
      "Sample from orders1 table:\n",
      "   order_id  customer_id\n",
      "0         1         1102\n",
      "1         2         1045\n",
      "2         3         1301\n",
      "3         4         1252\n",
      "4         5         1443\n",
      "5         6         1335\n",
      "6         7         1262\n",
      "7         8         1802\n",
      "8         9         1730\n",
      "9        10         1194\n",
      "\n",
      "Sample from delivery_performance table:\n",
      "   order_id delivery_status\n",
      "0         1         On Time\n",
      "1         2         Delayed\n",
      "2         3         On Time\n",
      "3         4         On Time\n",
      "4         5         On Time\n",
      "5         6         On Time\n",
      "6         7         On Time\n",
      "7         8         On Time\n",
      "8         9         On Time\n",
      "9        10         On Time\n"
     ]
    }
   ],
   "source": [
    "# Sampling data from orders1 table\n",
    "sample_orders1 = \"SELECT order_id, customer_id FROM orders1 LIMIT 10;\"\n",
    "sample_orders1_result = pd.read_sql(sample_orders1, conn)\n",
    "\n",
    "# Sampling data from delivery_performance table\n",
    "sample_delivery_performance = \"SELECT order_id, delivery_status FROM delivery_performance LIMIT 10;\"\n",
    "sample_delivery_performance_result = pd.read_sql(sample_delivery_performance, conn)\n",
    "\n",
    "# Displaying the results\n",
    "print(\"Sample from orders1 table:\")\n",
    "print(sample_orders1_result)\n",
    "\n",
    "print(\"\\nSample from delivery_performance table:\")\n",
    "print(sample_delivery_performance_result)\n"
   ]
  },
  {
   "cell_type": "code",
   "execution_count": 16,
   "id": "4fdf4b93-7172-48ac-b17e-8f48bc94ab64",
   "metadata": {},
   "outputs": [
    {
     "data": {
      "text/html": [
       "<div>\n",
       "<style scoped>\n",
       "    .dataframe tbody tr th:only-of-type {\n",
       "        vertical-align: middle;\n",
       "    }\n",
       "\n",
       "    .dataframe tbody tr th {\n",
       "        vertical-align: top;\n",
       "    }\n",
       "\n",
       "    .dataframe thead th {\n",
       "        text-align: right;\n",
       "    }\n",
       "</style>\n",
       "<table border=\"1\" class=\"dataframe\">\n",
       "  <thead>\n",
       "    <tr style=\"text-align: right;\">\n",
       "      <th></th>\n",
       "      <th>city</th>\n",
       "      <th>total_deliveries</th>\n",
       "      <th>on_time_deliveries</th>\n",
       "      <th>on_time_percentage</th>\n",
       "    </tr>\n",
       "  </thead>\n",
       "  <tbody>\n",
       "    <tr>\n",
       "      <th>0</th>\n",
       "      <td>Houston</td>\n",
       "      <td>974</td>\n",
       "      <td>827</td>\n",
       "      <td>84.91</td>\n",
       "    </tr>\n",
       "    <tr>\n",
       "      <th>1</th>\n",
       "      <td>New York</td>\n",
       "      <td>992</td>\n",
       "      <td>839</td>\n",
       "      <td>84.58</td>\n",
       "    </tr>\n",
       "    <tr>\n",
       "      <th>2</th>\n",
       "      <td>San Francisco</td>\n",
       "      <td>1048</td>\n",
       "      <td>886</td>\n",
       "      <td>84.54</td>\n",
       "    </tr>\n",
       "    <tr>\n",
       "      <th>3</th>\n",
       "      <td>Los Angeles</td>\n",
       "      <td>1013</td>\n",
       "      <td>854</td>\n",
       "      <td>84.30</td>\n",
       "    </tr>\n",
       "    <tr>\n",
       "      <th>4</th>\n",
       "      <td>Chicago</td>\n",
       "      <td>973</td>\n",
       "      <td>814</td>\n",
       "      <td>83.66</td>\n",
       "    </tr>\n",
       "  </tbody>\n",
       "</table>\n",
       "</div>"
      ],
      "text/plain": [
       "            city  total_deliveries  on_time_deliveries  on_time_percentage\n",
       "0        Houston               974                 827               84.91\n",
       "1       New York               992                 839               84.58\n",
       "2  San Francisco              1048                 886               84.54\n",
       "3    Los Angeles              1013                 854               84.30\n",
       "4        Chicago               973                 814               83.66"
      ]
     },
     "execution_count": 16,
     "metadata": {},
     "output_type": "execute_result"
    }
   ],
   "source": [
    "query = \"\"\"\n",
    "WITH joined_data AS (\n",
    "    SELECT o.city, \n",
    "           o.order_id, \n",
    "           d.delivery_status, \n",
    "           d.delivery_time\n",
    "    FROM orders1 o\n",
    "    JOIN delivery_performance d \n",
    "        ON o.order_id = d.order_id\n",
    "),\n",
    "on_time_deliveries AS (\n",
    "    SELECT city,\n",
    "           COUNT(order_id) AS total_deliveries,\n",
    "           SUM(CASE WHEN delivery_status = 'On Time' THEN 1 ELSE 0 END) AS on_time_deliveries\n",
    "    FROM joined_data\n",
    "    GROUP BY city\n",
    ")\n",
    "SELECT city, \n",
    "       total_deliveries, \n",
    "       on_time_deliveries, \n",
    "       ROUND((on_time_deliveries * 100.0 / total_deliveries), 2) AS on_time_percentage\n",
    "FROM on_time_deliveries\n",
    "ORDER BY on_time_percentage DESC;\n",
    "\"\"\"\n",
    "\n",
    "# Execute the query and load the result into a DataFrame\n",
    "df = pd.read_sql(query, conn)\n",
    "\n",
    "# Save the result to a CSV file\n",
    "df.to_csv(\"on_time_delivery_report.csv\", index=False)\n",
    "\n",
    "# Display the result\n",
    "df.head()\n"
   ]
  },
  {
   "cell_type": "code",
   "execution_count": null,
   "id": "d9242f76-da0a-447f-8f11-17587f684c74",
   "metadata": {},
   "outputs": [],
   "source": []
  }
 ],
 "metadata": {
  "kernelspec": {
   "display_name": "Python 3 (ipykernel)",
   "language": "python",
   "name": "python3"
  },
  "language_info": {
   "codemirror_mode": {
    "name": "ipython",
    "version": 3
   },
   "file_extension": ".py",
   "mimetype": "text/x-python",
   "name": "python",
   "nbconvert_exporter": "python",
   "pygments_lexer": "ipython3",
   "version": "3.12.4"
  }
 },
 "nbformat": 4,
 "nbformat_minor": 5
}
